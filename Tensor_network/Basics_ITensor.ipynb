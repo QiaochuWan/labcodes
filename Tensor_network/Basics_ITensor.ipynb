{
 "cells": [
  {
   "cell_type": "markdown",
   "id": "349b4abf",
   "metadata": {},
   "source": [
    "# Introduction to ITensor"
   ]
  },
  {
   "cell_type": "code",
   "execution_count": 1,
   "id": "e5e38a9e",
   "metadata": {},
   "outputs": [],
   "source": [
    "using ITensors"
   ]
  },
  {
   "cell_type": "markdown",
   "id": "6e870486",
   "metadata": {},
   "source": [
    "Create indices"
   ]
  },
  {
   "cell_type": "code",
   "execution_count": 2,
   "id": "66f11d7c",
   "metadata": {},
   "outputs": [],
   "source": [
    "i = Index(2); # Index of dimension 2\n",
    "j = Index(4); # Index of dimension 4\n",
    "k = Index(3); # Index of dimension 3\n",
    "αᵢ = Index(5); # α\\_i, Index of dimension 5\n",
    "β = Index(6);"
   ]
  },
  {
   "cell_type": "code",
   "execution_count": 3,
   "id": "79bfc368",
   "metadata": {},
   "outputs": [
    {
     "name": "stdout",
     "output_type": "stream",
     "text": [
      "αᵢ = (dim=5|id=901)\n"
     ]
    }
   ],
   "source": [
    "@show αᵢ;"
   ]
  },
  {
   "cell_type": "code",
   "execution_count": 4,
   "id": "435161d0",
   "metadata": {},
   "outputs": [
    {
     "name": "stdout",
     "output_type": "stream",
     "text": [
      "(i, j, k) = ((dim=2|id=598), (dim=4|id=768), (dim=3|id=389))\n"
     ]
    }
   ],
   "source": [
    "@show i, j, k; # Each time we run, the id number changes"
   ]
  },
  {
   "cell_type": "markdown",
   "id": "c864b34c",
   "metadata": {},
   "source": [
    "Define ITensors"
   ]
  },
  {
   "cell_type": "code",
   "execution_count": 5,
   "id": "5fe41dd4",
   "metadata": {},
   "outputs": [
    {
     "name": "stdout",
     "output_type": "stream",
     "text": [
      "A = ITensor ord=2\n",
      "Dim 1: (dim=2|id=598)\n",
      "Dim 2: (dim=4|id=768)\n",
      "NDTensors.Dense{Float64, Vector{Float64}}\n",
      " 2×4\n",
      " 2.0   0.7   0.0  1.9\n",
      " 0.0  -3.0  -0.1  0.5\n"
     ]
    }
   ],
   "source": [
    "A = ITensor(i,j);  # Define ITensor element by element\n",
    "\n",
    "A[i=>1,j=>1] = 2.0;\n",
    "A[i=>1,j=>2] = 0.7;\n",
    "A[i=>1,j=>4] = 1.9;\n",
    "A[i=>2,j=>2] = -3.0;\n",
    "A[i=>2,j=>3] = -0.1;\n",
    "A[i=>2,j=>4] = 0.5;\n",
    "\n",
    "@show A;"
   ]
  },
  {
   "cell_type": "code",
   "execution_count": 6,
   "id": "14092863",
   "metadata": {},
   "outputs": [
    {
     "name": "stdout",
     "output_type": "stream",
     "text": [
      "inds(A) = ((dim=2|id=598), (dim=4|id=768))\n"
     ]
    }
   ],
   "source": [
    "@show inds(A); # Only show indices of A"
   ]
  },
  {
   "cell_type": "code",
   "execution_count": 11,
   "id": "7f229bbc",
   "metadata": {},
   "outputs": [
    {
     "ename": "LoadError",
     "evalue": "Overload of \"space\",\"siteind\", or \"siteinds\" functions not found for Index tag: qubit",
     "output_type": "error",
     "traceback": [
      "Overload of \"space\",\"siteind\", or \"siteinds\" functions not found for Index tag: qubit",
      "",
      "Stacktrace:",
      " [1] error(s::String)",
      "   @ Base ./error.jl:35",
      " [2] siteind(st::SiteType{qubit}, n::Int64; kwargs::@Kwargs{})",
      "   @ ITensors.SiteTypes ~/.julia/packages/ITensors/70qev/src/lib/SiteTypes/src/sitetype.jl:731",
      " [3] siteind(st::SiteType{qubit}, n::Int64)",
      "   @ ITensors.SiteTypes ~/.julia/packages/ITensors/70qev/src/lib/SiteTypes/src/sitetype.jl:727",
      " [4] (::ITensors.SiteTypes.var\"#60#61\"{@Kwargs{}, SiteType{qubit}})(j::Int64)",
      "   @ ITensors.SiteTypes ./none:0",
      " [5] iterate",
      "   @ ./generator.jl:47 [inlined]",
      " [6] collect(itr::Base.Generator{UnitRange{Int64}, ITensors.SiteTypes.var\"#60#61\"{@Kwargs{}, SiteType{qubit}}})",
      "   @ Base ./array.jl:834",
      " [7] siteinds(tag::String, N::Int64; kwargs::@Kwargs{})",
      "   @ ITensors.SiteTypes ~/.julia/packages/ITensors/70qev/src/lib/SiteTypes/src/sitetype.jl:777",
      " [8] siteinds(tag::String, N::Int64)",
      "   @ ITensors.SiteTypes ~/.julia/packages/ITensors/70qev/src/lib/SiteTypes/src/sitetype.jl:769",
      " [9] top-level scope",
      "   @ In[11]:1"
     ]
    }
   ],
   "source": [
    "ss=siteinds(\"qubit\",7);"
   ]
  },
  {
   "cell_type": "code",
   "execution_count": null,
   "id": "3201842e",
   "metadata": {},
   "outputs": [],
   "source": [
    "element = A[i=>2,j=>2]; # Get element of A\n",
    "\n",
    "@show element;"
   ]
  },
  {
   "cell_type": "code",
   "execution_count": null,
   "id": "8eaa59dd",
   "metadata": {},
   "outputs": [],
   "source": [
    "B = ITensor(j,k);\n",
    "\n",
    "B[j=>1,k=>1] = -3.5;\n",
    "B[j=>1,k=>2] = 0.2;\n",
    "B[j=>1,k=>3] = 2.7;\n",
    "B[j=>2,k=>3] = -1.0;\n",
    "B[j=>3,k=>1] = -0.6;\n",
    "B[j=>3,k=>3] = 4.2;\n",
    "B[j=>4,k=>2] = -0.1;\n",
    "B[j=>4,k=>3] = 1.7;\n",
    "\n",
    "@show B;"
   ]
  },
  {
   "cell_type": "code",
   "execution_count": null,
   "id": "b083d6b5",
   "metadata": {},
   "outputs": [],
   "source": [
    "array = [1.0 2.0 3.0 4.0; # Define ITensor from an array\n",
    "         5.0 6.0 7.0 8.0];\n",
    "\n",
    "J = ITensor(array,i,j);\n",
    "\n",
    "@show J;"
   ]
  },
  {
   "cell_type": "code",
   "execution_count": null,
   "id": "91225a6d",
   "metadata": {},
   "outputs": [],
   "source": [
    "new_array = Array(J,i,j); # Get array from ITensor\n",
    "\n",
    "@show new_array; # Order of indices is important; when changing, we get transpose"
   ]
  },
  {
   "cell_type": "code",
   "execution_count": null,
   "id": "1f79795b",
   "metadata": {
    "scrolled": true
   },
   "outputs": [],
   "source": [
    "P = randomITensor(i,j,k); # Define random ITensor\n",
    "\n",
    "@show P;"
   ]
  },
  {
   "cell_type": "markdown",
   "id": "27cf03ee",
   "metadata": {},
   "source": [
    "Multiplication of ITensors"
   ]
  },
  {
   "cell_type": "code",
   "execution_count": null,
   "id": "3f98e9dc",
   "metadata": {},
   "outputs": [],
   "source": [
    "D = A*B; # Contract over j\n",
    "\n",
    "@show D;"
   ]
  },
  {
   "cell_type": "code",
   "execution_count": null,
   "id": "f57a24d1",
   "metadata": {},
   "outputs": [],
   "source": [
    "E = B*A; # Same operation\n",
    "\n",
    "@show E;"
   ]
  },
  {
   "cell_type": "code",
   "execution_count": null,
   "id": "4c3b3137",
   "metadata": {},
   "outputs": [],
   "source": [
    "F = P*A; # Contract over i and j\n",
    "\n",
    "@show F;"
   ]
  },
  {
   "cell_type": "code",
   "execution_count": null,
   "id": "9768a088",
   "metadata": {},
   "outputs": [],
   "source": [
    "L = randomITensor(k);\n",
    "\n",
    "@show inds(A), inds(L);"
   ]
  },
  {
   "cell_type": "code",
   "execution_count": null,
   "id": "46cc4095",
   "metadata": {},
   "outputs": [],
   "source": [
    "O = A*L; # When multiplying ITensors with no common indices, result is Kronecker (outer) product \n",
    "\n",
    "@show O;"
   ]
  },
  {
   "cell_type": "markdown",
   "id": "e8417bfc",
   "metadata": {},
   "source": [
    "Linear combination of ITensors;"
   ]
  },
  {
   "cell_type": "code",
   "execution_count": null,
   "id": "28eb28bd",
   "metadata": {},
   "outputs": [],
   "source": [
    "G = randomITensor(j,i);\n",
    "\n",
    "@show G;"
   ]
  },
  {
   "cell_type": "code",
   "execution_count": null,
   "id": "76ab026d",
   "metadata": {},
   "outputs": [],
   "source": [
    "H = 2.0im*A - 0.4*G;\n",
    "\n",
    "@show H;"
   ]
  },
  {
   "cell_type": "markdown",
   "id": "20b11060",
   "metadata": {},
   "source": [
    "Priming indices"
   ]
  },
  {
   "cell_type": "code",
   "execution_count": null,
   "id": "07c8e620",
   "metadata": {
    "scrolled": true
   },
   "outputs": [],
   "source": [
    "H = G*A; # This will give a scalar as all indices are contracted\n",
    "\n",
    "@show H;\n",
    "\n",
    "scalar(H)"
   ]
  },
  {
   "cell_type": "code",
   "execution_count": null,
   "id": "38dcbdd8",
   "metadata": {},
   "outputs": [],
   "source": [
    "Ap = prime(A,i);\n",
    "\n",
    "@show A; @show Ap;"
   ]
  },
  {
   "cell_type": "code",
   "execution_count": null,
   "id": "ff1ecc02",
   "metadata": {},
   "outputs": [],
   "source": [
    "A != Ap # Check if both ITensors are different"
   ]
  },
  {
   "cell_type": "code",
   "execution_count": null,
   "id": "37f8a5bc",
   "metadata": {},
   "outputs": [],
   "source": [
    "H = Ap*G; # Now this gives an ITensor\n",
    "\n",
    "@show H;"
   ]
  },
  {
   "cell_type": "markdown",
   "id": "e5b4bba6",
   "metadata": {},
   "source": [
    "More on indices"
   ]
  },
  {
   "cell_type": "code",
   "execution_count": null,
   "id": "a97c5415",
   "metadata": {},
   "outputs": [],
   "source": [
    "l = Index(2);\n",
    "\n",
    "@show i,l;"
   ]
  },
  {
   "cell_type": "code",
   "execution_count": null,
   "id": "5bb160c0",
   "metadata": {},
   "outputs": [],
   "source": [
    "l != i # Not equal just by being of same dimention"
   ]
  },
  {
   "cell_type": "code",
   "execution_count": null,
   "id": "296a6bde",
   "metadata": {},
   "outputs": [],
   "source": [
    "s = Index(3,\"dog,spin\"); # Add tags to make info of index richer\n",
    "\n",
    "@show s;"
   ]
  },
  {
   "cell_type": "code",
   "execution_count": null,
   "id": "0e88d8e3",
   "metadata": {},
   "outputs": [],
   "source": [
    "tags(s)"
   ]
  },
  {
   "cell_type": "code",
   "execution_count": null,
   "id": "05d40993",
   "metadata": {},
   "outputs": [],
   "source": [
    "hastags(s, \"cat\")"
   ]
  },
  {
   "cell_type": "code",
   "execution_count": null,
   "id": "fb1d4c99",
   "metadata": {},
   "outputs": [],
   "source": [
    "ii = settags(i, \"tag_ii\"); # Tags can help distinguish indices\n",
    "\n",
    "@show ii;"
   ]
  },
  {
   "cell_type": "code",
   "execution_count": null,
   "id": "2869ef71",
   "metadata": {},
   "outputs": [],
   "source": [
    "ii != i"
   ]
  },
  {
   "cell_type": "code",
   "execution_count": null,
   "id": "2f3fafe2",
   "metadata": {},
   "outputs": [],
   "source": [
    "ip = prime(i); # Equivalent to ip = i'\n",
    "\n",
    "@show ip;"
   ]
  },
  {
   "cell_type": "code",
   "execution_count": null,
   "id": "4acc4f7c",
   "metadata": {},
   "outputs": [],
   "source": [
    "ipp = i''; # Prime level can increase. Equivalent to ipp = prime(prime(i));\n",
    "\n",
    "@show ipp;"
   ]
  },
  {
   "cell_type": "code",
   "execution_count": null,
   "id": "d3657d6b",
   "metadata": {},
   "outputs": [],
   "source": [
    "@show plev(i), plev(ip), plev(ipp); # Check prime level"
   ]
  },
  {
   "cell_type": "code",
   "execution_count": null,
   "id": "02346440",
   "metadata": {},
   "outputs": [],
   "source": [
    "ipp_restarted = noprime(ipp);\n",
    "\n",
    "@show ipp_restarted, plev(ipp_restarted);"
   ]
  },
  {
   "cell_type": "code",
   "execution_count": null,
   "id": "2c72be8a",
   "metadata": {},
   "outputs": [],
   "source": [
    "ipp_restarted == i"
   ]
  },
  {
   "cell_type": "code",
   "execution_count": null,
   "id": "9ca24b97",
   "metadata": {},
   "outputs": [],
   "source": [
    "ip_restarted = noprime(ip);\n",
    "\n",
    "@show ip_restarted;"
   ]
  },
  {
   "cell_type": "code",
   "execution_count": null,
   "id": "9d2b6f96",
   "metadata": {},
   "outputs": [],
   "source": [
    "ipp_restarted == ip_restarted"
   ]
  },
  {
   "cell_type": "code",
   "execution_count": null,
   "id": "7b00ec2d",
   "metadata": {},
   "outputs": [],
   "source": [
    "Ap = noprime(Ap); # Restart prime indexing\n",
    "\n",
    "@show Ap;"
   ]
  },
  {
   "cell_type": "markdown",
   "id": "795b61f3",
   "metadata": {},
   "source": [
    "Special tensors: Delta ITensors"
   ]
  },
  {
   "cell_type": "code",
   "execution_count": null,
   "id": "8ccd2de7",
   "metadata": {
    "scrolled": true
   },
   "outputs": [],
   "source": [
    "l = Index(4); # Replace index with other index (usually of equal dimension)\n",
    "\n",
    "@show delta(j,l);"
   ]
  },
  {
   "cell_type": "code",
   "execution_count": null,
   "id": "8cc60bec",
   "metadata": {
    "scrolled": true
   },
   "outputs": [],
   "source": [
    "D = A*delta(j,l); # Equivalent to D = A*δ(j,l) \n",
    "\n",
    "@show A, D; # What happens if indices are not of equal dimension?"
   ]
  },
  {
   "cell_type": "code",
   "execution_count": null,
   "id": "af004e56",
   "metadata": {},
   "outputs": [],
   "source": [
    "array = [2.0; 3.5; -1.7; 0.4];\n",
    "\n",
    "kk = Index(4);\n",
    "\n",
    "E = ITensor(array,kk);\n",
    "\n",
    "@show E; "
   ]
  },
  {
   "cell_type": "code",
   "execution_count": null,
   "id": "d055548f",
   "metadata": {},
   "outputs": [],
   "source": [
    "q = Index(2);\n",
    "m = Index(7);\n",
    "\n",
    "E = E*delta(kk,i,m); # Split indices (creating diagonal matrix)\n",
    "\n",
    "@show E;"
   ]
  },
  {
   "cell_type": "code",
   "execution_count": null,
   "id": "32320dc5",
   "metadata": {},
   "outputs": [],
   "source": [
    "l = Index(2);\n",
    "\n",
    "F = randomITensor(i,j,l);\n",
    "\n",
    "G = F*δ(i,l); # Trace out indices of ITensor\n",
    "\n",
    "@show G;"
   ]
  },
  {
   "cell_type": "markdown",
   "id": "39715023",
   "metadata": {},
   "source": [
    "Special tensors: Combiner"
   ]
  },
  {
   "cell_type": "code",
   "execution_count": null,
   "id": "765d66fc",
   "metadata": {},
   "outputs": [],
   "source": [
    "P = randomITensor(i,j,k);\n",
    "C = combiner(i,j);\n",
    "\n",
    "@show i,j,combinedind(C);"
   ]
  },
  {
   "cell_type": "code",
   "execution_count": null,
   "id": "eafa43ea",
   "metadata": {},
   "outputs": [],
   "source": [
    "@show C"
   ]
  },
  {
   "cell_type": "code",
   "execution_count": null,
   "id": "a43f0ae2",
   "metadata": {},
   "outputs": [],
   "source": [
    "cP = C * P; # Combine indices, to create \"fat\" indices\n",
    "\n",
    "@show cP;"
   ]
  },
  {
   "cell_type": "code",
   "execution_count": null,
   "id": "9de8a250",
   "metadata": {},
   "outputs": [],
   "source": [
    "Reverse = dag(C)*cP;\n",
    "\n",
    "@show Reverse;"
   ]
  },
  {
   "cell_type": "code",
   "execution_count": null,
   "id": "71aeecc7",
   "metadata": {},
   "outputs": [],
   "source": [
    "Reverse == P"
   ]
  },
  {
   "cell_type": "markdown",
   "id": "4ae92989",
   "metadata": {},
   "source": [
    "Tensor decomposition: SVD"
   ]
  },
  {
   "cell_type": "code",
   "execution_count": null,
   "id": "dfb7ae58",
   "metadata": {},
   "outputs": [],
   "source": [
    "U,S,Vt = svd(P,(i,k)); # Specify i,k as row indices, and leave the rest (j) as column index\n",
    "\n",
    "@show norm(U*S*Vt - P); # Check difference to original ITensor"
   ]
  },
  {
   "cell_type": "code",
   "execution_count": null,
   "id": "e4bf9705",
   "metadata": {},
   "outputs": [],
   "source": [
    "@show Vt;"
   ]
  },
  {
   "cell_type": "code",
   "execution_count": null,
   "id": "087c875a",
   "metadata": {},
   "outputs": [],
   "source": [
    "@show S;"
   ]
  },
  {
   "cell_type": "code",
   "execution_count": null,
   "id": "8b91daba",
   "metadata": {},
   "outputs": [],
   "source": [
    "i = Index(10)\n",
    "j = Index(40)\n",
    "k = Index(20)\n",
    "P = randomITensor(i,j,k);\n",
    "\n",
    "U,S,Vt = svd(P,(i,k),cutoff=1E-3,maxdim=30); # Cutoff and maxdim\n",
    "\n",
    "truncerr = (norm(U*S*Vt - P)/norm(P))^2;\n",
    "@show truncerr;"
   ]
  },
  {
   "cell_type": "markdown",
   "id": "ad71b49d",
   "metadata": {},
   "source": [
    "Tensor decomposition: QR"
   ]
  },
  {
   "cell_type": "code",
   "execution_count": null,
   "id": "fece18ac",
   "metadata": {},
   "outputs": [],
   "source": [
    "Q,R = qr(P,(i,k));\n",
    "\n",
    "@show norm(Q*R - P);"
   ]
  },
  {
   "cell_type": "markdown",
   "id": "691e9bcc",
   "metadata": {},
   "source": [
    "Exercise finished!!!"
   ]
  },
  {
   "cell_type": "code",
   "execution_count": null,
   "id": "10cabe21",
   "metadata": {},
   "outputs": [],
   "source": []
  }
 ],
 "metadata": {
  "kernelspec": {
   "display_name": "Julia 1.10.5",
   "language": "julia",
   "name": "julia-1.10"
  },
  "language_info": {
   "file_extension": ".jl",
   "mimetype": "application/julia",
   "name": "julia",
   "version": "1.10.5"
  }
 },
 "nbformat": 4,
 "nbformat_minor": 5
}
