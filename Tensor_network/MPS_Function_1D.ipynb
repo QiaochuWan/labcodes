{
 "cells": [
  {
   "cell_type": "markdown",
   "id": "3b91e3b3",
   "metadata": {},
   "source": [
    "# 1D Functions and MPS"
   ]
  },
  {
   "cell_type": "code",
   "execution_count": null,
   "id": "774b3a27",
   "metadata": {
    "ExecuteTime": {
     "end_time": "2023-06-06T13:01:04.819000-04:00",
     "start_time": "2023-06-06T17:00:58.184Z"
    }
   },
   "outputs": [],
   "source": [
    "using ITensors\n",
    "using Plots\n",
    "using HDF5"
   ]
  },
  {
   "cell_type": "code",
   "execution_count": null,
   "id": "f67ae252",
   "metadata": {
    "ExecuteTime": {
     "end_time": "2023-06-06T13:01:05.158000-04:00",
     "start_time": "2023-06-06T17:00:58.185Z"
    }
   },
   "outputs": [],
   "source": [
    "N = 7 # Number of sites\n",
    "s = siteinds(\"Qubit\", N); # Indices for all sites\n",
    "\n",
    "@show s;"
   ]
  },
  {
   "cell_type": "markdown",
   "id": "17540964",
   "metadata": {},
   "source": [
    "Now create the function"
   ]
  },
  {
   "cell_type": "code",
   "execution_count": null,
   "id": "51098ab4",
   "metadata": {
    "ExecuteTime": {
     "end_time": "2023-06-06T13:02:32.954000-04:00",
     "start_time": "2023-06-06T17:02:32.911Z"
    }
   },
   "outputs": [],
   "source": [
    "f(x) = sin(x); # The function you want to construct\n",
    "xs = range(0, 2pi, length=2^N); # Sampling grid points\n",
    "ys = f.(xs); # Construction f(x)\n",
    "plot(xs, ys) # Plotting the original function"
   ]
  },
  {
   "cell_type": "code",
   "execution_count": null,
   "id": "43b2632f",
   "metadata": {
    "ExecuteTime": {
     "end_time": "2023-06-06T13:01:27.685000-04:00",
     "start_time": "2023-06-06T17:00:58.187Z"
    }
   },
   "outputs": [],
   "source": [
    "cutoff = 1E-8;\n",
    "χ = 2;\n",
    "\n",
    "# Create MPS from the function\n",
    "ψ = MPS(ys, s, cutoff=cutoff, maxdim=χ);\n",
    "@show ψ;"
   ]
  },
  {
   "cell_type": "code",
   "execution_count": null,
   "id": "4c60413f",
   "metadata": {
    "ExecuteTime": {
     "end_time": "2023-06-06T13:02:41.970000-04:00",
     "start_time": "2023-06-06T17:02:41.952Z"
    }
   },
   "outputs": [],
   "source": [
    "Big_ψ = contract(ψ) # Recovering the original big tensor\n",
    "J_recon = Array(Big_ψ, s) # Changing the format from ITensor to Julia array for plotting\n",
    "@show size(J_recon)"
   ]
  },
  {
   "cell_type": "code",
   "execution_count": null,
   "id": "f8c3b2ed",
   "metadata": {},
   "outputs": [],
   "source": [
    "ys_recon = reshape(J_recon,2^N,1) # Reshaping from N-dimentional tensor to regular array\n",
    "plot(xs, ys_recon) # Plotting the reconstructed function"
   ]
  },
  {
   "cell_type": "markdown",
   "id": "7a046595",
   "metadata": {},
   "source": [
    "Modify matrices of particular site (length scale)"
   ]
  },
  {
   "cell_type": "code",
   "execution_count": null,
   "id": "ea746358",
   "metadata": {},
   "outputs": [],
   "source": [
    "ψcopy = copy(ψ)\n",
    "site = 2\n",
    "@show ψcopy[site];"
   ]
  },
  {
   "cell_type": "code",
   "execution_count": null,
   "id": "c9c3a12f",
   "metadata": {},
   "outputs": [],
   "source": [
    "# Define array for replacement with the correct dimensions depending on the site\n",
    "if site == 1 || site == N\n",
    "    array = [1 0;0 1];\n",
    "    ψcopy[site] = ITensor(array,inds(ψcopy[site])[1],inds(ψcopy[site])[2])\n",
    "else\n",
    "    array = [1; 0;; 0; 1;;;1; 0;; 0; 1] # 3D array\n",
    "    ψcopy[site] = ITensor(array,inds(ψcopy[site])[1],inds(ψcopy[site])[2],inds(ψcopy[site])[3])\n",
    "end\n",
    "@show array;\n",
    "@show ψcopy[site];"
   ]
  },
  {
   "cell_type": "code",
   "execution_count": null,
   "id": "f4592603",
   "metadata": {
    "scrolled": true
   },
   "outputs": [],
   "source": [
    "@show ψ[site]"
   ]
  },
  {
   "cell_type": "code",
   "execution_count": null,
   "id": "9f07976b",
   "metadata": {
    "scrolled": false
   },
   "outputs": [],
   "source": [
    "Big_ψ = contract(ψcopy) # Recovering the original big tensor\n",
    "J_recon = Array(Big_ψ, s) # Changing the format from ITensor to Julia array for plotting\n",
    "@show size(J_recon)\n",
    "ys_recon = reshape(J_recon,2^N,1) # Reshaping from N-dimentional tensor to regular array\n",
    "plot(xs, ys_recon) # Plotting the reconstructed function"
   ]
  },
  {
   "cell_type": "markdown",
   "id": "619ecc9a",
   "metadata": {},
   "source": [
    "End of exercise!"
   ]
  }
 ],
 "metadata": {
  "kernelspec": {
   "display_name": "Julia 1.10.4",
   "language": "julia",
   "name": "julia-1.10"
  },
  "language_info": {
   "file_extension": ".jl",
   "mimetype": "application/julia",
   "name": "julia",
   "version": "1.10.4"
  },
  "toc": {
   "base_numbering": 1,
   "nav_menu": {},
   "number_sections": true,
   "sideBar": true,
   "skip_h1_title": false,
   "title_cell": "Table of Contents",
   "title_sidebar": "Contents",
   "toc_cell": false,
   "toc_position": {},
   "toc_section_display": true,
   "toc_window_display": false
  },
  "varInspector": {
   "cols": {
    "lenName": 16,
    "lenType": 16,
    "lenVar": 40
   },
   "kernels_config": {
    "python": {
     "delete_cmd_postfix": "",
     "delete_cmd_prefix": "del ",
     "library": "var_list.py",
     "varRefreshCmd": "print(var_dic_list())"
    },
    "r": {
     "delete_cmd_postfix": ") ",
     "delete_cmd_prefix": "rm(",
     "library": "var_list.r",
     "varRefreshCmd": "cat(var_dic_list()) "
    }
   },
   "types_to_exclude": [
    "module",
    "function",
    "builtin_function_or_method",
    "instance",
    "_Feature"
   ],
   "window_display": false
  }
 },
 "nbformat": 4,
 "nbformat_minor": 5
}
