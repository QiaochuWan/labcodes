{
 "cells": [
  {
   "cell_type": "markdown",
   "id": "de8d09e4",
   "metadata": {},
   "source": [
    "# TDVP of Bose-Hubbard model \n",
    "\n",
    "The Hamiltonian is $H=-J\\sum_{j=1}^{N-1}(a_j^{\\dagger}a_{j+1}+a_{j+1}^{\\dagger}a_{j})+\\frac{U}{2}\\sum_{j=1}^Nn_j(n_j-1)$"
   ]
  },
  {
   "cell_type": "code",
   "execution_count": null,
   "id": "fb47b249",
   "metadata": {},
   "outputs": [],
   "source": [
    "using ITensors\n",
    "using Plots\n",
    "using LinearAlgebra\n",
    "using ITensorMPS\n",
    "using LaTeXStrings\n",
    "plot_font = \"Computer Modern\";"
   ]
  },
  {
   "cell_type": "markdown",
   "id": "668fe60c",
   "metadata": {},
   "source": [
    "Setup parameters"
   ]
  },
  {
   "cell_type": "code",
   "execution_count": null,
   "id": "e0c7ba0d",
   "metadata": {},
   "outputs": [],
   "source": [
    "N = 4   # Number of sites  \n",
    "nmax = 3   # Maximum number of bosons per site\n",
    "\n",
    "J = 1.0   # Hopping\n",
    "U = 2.0   # Interaction\n",
    "\n",
    "T = 2.0  # Final time\n",
    "δt = 0.01   # Time step\n",
    "time = 0.0:δt:T   # Time vector\n",
    "tbigstep = 10   # Calculate expectation values each tbigstep times\n",
    "num_expvals = Int(((length(time)-1)/tbigstep)) + 1; # Number of times expectation values will be calculated. The ±1 is to account correctly for t = 0  \n",
    "cutoff = 1E-8;   # Truncation allowed per step\n",
    "χ = 100; # Maximum bond dimension"
   ]
  },
  {
   "cell_type": "markdown",
   "id": "0045cf53",
   "metadata": {},
   "source": [
    "Initialize expectation values, namely boson population and coherences $\\langle a_i^{\\dagger}a_j\\rangle$ "
   ]
  },
  {
   "cell_type": "code",
   "execution_count": null,
   "id": "37abbb3f",
   "metadata": {},
   "outputs": [],
   "source": [
    "Norm = zeros(num_expvals,1); # Norm of evolved state\n",
    "Popul = zeros(num_expvals,N); # Number of bosons per site\n",
    "Coherences = zeros(num_expvals,N,N)+1im*zeros(num_expvals,N,N); # Coherences between all sites, can be complex\n",
    "Time_expvals = zeros(num_expvals,1); # Time of expectation values"
   ]
  },
  {
   "cell_type": "markdown",
   "id": "09d2c7ad",
   "metadata": {},
   "source": [
    "Define bosonic operators according to nmax"
   ]
  },
  {
   "cell_type": "code",
   "execution_count": null,
   "id": "b484764b",
   "metadata": {
    "scrolled": true
   },
   "outputs": [],
   "source": [
    "function ITensors.space(::SiteType\"MyBoson\";\n",
    "                        conserve_qns=true)\n",
    "  if conserve_qns\n",
    "       \n",
    "    # Define array of pairs of quantum numbers and the dimension of each one   \n",
    "    array = [QN(\"nb\",0)=>1];    # Initialize array of pairs\n",
    "    for k = 1:nmax\n",
    "        append!(array, [QN(\"nb\",k)=>1])\n",
    "    end\n",
    "        \n",
    "    return array       \n",
    "  end\n",
    "    \n",
    "  return nmax+1 # Only return full dimension if no quantum numbers are used\n",
    "end\n",
    "\n",
    "function ITensors.op!(Op::ITensor,\n",
    "                      ::OpName\"Num\",\n",
    "                      ::SiteType\"MyBoson\",\n",
    "                      s::Index)    \n",
    "    # Fill diagonal \n",
    "    for k = 1:nmax\n",
    "        Op[s'=>k+1,s=>k+1] = k\n",
    "    end\n",
    "    \n",
    "end\n",
    "\n",
    "function ITensors.op!(Op::ITensor,\n",
    "                      ::OpName\"Num2\",\n",
    "                      ::SiteType\"MyBoson\",\n",
    "                      s::Index)    \n",
    "    # Fill diagonal \n",
    "    for k = 1:nmax\n",
    "        Op[s'=>k+1,s=>k+1] = k*k\n",
    "    end\n",
    "    \n",
    "end\n",
    "\n",
    "function ITensors.op!(Op::ITensor,\n",
    "                      ::OpName\"a\",\n",
    "                      ::SiteType\"MyBoson\",\n",
    "                       s::Index)\n",
    "    # Fill +1 diagonal\n",
    "    for k = 1:nmax\n",
    "       Op[s'=>k,s=>k+1] = sqrt(k);\n",
    "    end\n",
    "    \n",
    "end\n",
    "\n",
    "function ITensors.op!(Op::ITensor,\n",
    "                      ::OpName\"adag\",\n",
    "                      ::SiteType\"MyBoson\",\n",
    "                      s::Index)      \n",
    "    # Fill -1 diagonal    \n",
    "    for k = 1:nmax\n",
    "       Op[s'=>k+1,s=>k] = sqrt(k);\n",
    "    end    \n",
    "    \n",
    "end\n",
    "\n",
    "function ITensors.op!(Op::ITensor,\n",
    "                      ::OpName\"Iden\",\n",
    "                      ::SiteType\"MyBoson\",\n",
    "                      s::Index)    \n",
    "    # Fill diagonal \n",
    "    for k = 1:nmax\n",
    "        Op[s'=>k,s=>k] = 1\n",
    "    end\n",
    "    \n",
    "end"
   ]
  },
  {
   "cell_type": "markdown",
   "id": "b6a9c659",
   "metadata": {},
   "source": [
    "Function to define initial state"
   ]
  },
  {
   "cell_type": "code",
   "execution_count": null,
   "id": "2a25780a",
   "metadata": {},
   "outputs": [],
   "source": [
    "function InitialState(s,N)\n",
    "\n",
    "     state = [1 for n=1:N] # Initial empty lattice\n",
    "\n",
    "    for i = 1:N\n",
    "       if mod(i,2) == 0\n",
    "           state[i] = 2 # Put boson on even sites\n",
    "       end\n",
    "    end\n",
    "\n",
    "#     for i = Int(0.25*N):Int(0.75*N)\n",
    "#         state[i] = 2 # Put boson on sites in first half\n",
    "#     end\n",
    "    \n",
    "    ψ0 = MPS(s,state);\n",
    "    \n",
    "    return ψ0;\n",
    "end"
   ]
  },
  {
   "cell_type": "markdown",
   "id": "df84b969",
   "metadata": {},
   "source": [
    "Function to define MPO of Hamiltonian"
   ]
  },
  {
   "cell_type": "code",
   "execution_count": null,
   "id": "74836854",
   "metadata": {},
   "outputs": [],
   "source": [
    "function Hamiltonian(N,sites,J,U)\n",
    "\n",
    "    # Initiate construction\n",
    "    ops = OpSum()\n",
    "    \n",
    "    # Hopping terms\n",
    "    for j=1:N-1\n",
    "        ops += -J,\"a\",j,\"adag\",j+1\n",
    "        ops += -J,\"adag\",j,\"a\",j+1     \n",
    "    end\n",
    "    \n",
    "    # Interaction\n",
    "    for j=1:N\n",
    "        ops += 0.5*U,\"Num2\",j;\n",
    "        ops += -0.5*U,\"Num\",j;     \n",
    "    end\n",
    "\n",
    "    H = MPO(ops,sites);\n",
    "    \n",
    "    return H;\n",
    "    \n",
    "end;"
   ]
  },
  {
   "cell_type": "markdown",
   "id": "6b713f57",
   "metadata": {},
   "source": [
    "Function to calculate expectation values"
   ]
  },
  {
   "cell_type": "code",
   "execution_count": null,
   "id": "9a5a31e2",
   "metadata": {},
   "outputs": [],
   "source": [
    "function ExpVals!(ψ,N,Popul,Coherences,Norm,timeval) # Here, timeval is the position in the arrays of expectation values where info will be stored \n",
    "\n",
    "   # The functions expect and correlation_matrix normalize internally the expectation values\n",
    "   Popul[timeval,:] = real(expect(ψ, \"Num\")); # Population of each site\n",
    "   Coherences[timeval,:,:] = correlation_matrix(ψ,\"adag\",\"a\"); # Single particle density matrix\n",
    "   Norm[timeval,1] = real(norm(ψ)); # Norm of the state\n",
    "    \n",
    "end;"
   ]
  },
  {
   "cell_type": "markdown",
   "id": "727d889f",
   "metadata": {},
   "source": [
    "----------- Main code of time evolution -----------"
   ]
  },
  {
   "cell_type": "markdown",
   "id": "f409019f",
   "metadata": {},
   "source": [
    "Define index, and specify use of quantum numbers"
   ]
  },
  {
   "cell_type": "code",
   "execution_count": null,
   "id": "118ab108",
   "metadata": {},
   "outputs": [],
   "source": [
    "s = siteinds(\"MyBoson\", N, conserve_qns=true); # For all sites"
   ]
  },
  {
   "cell_type": "markdown",
   "id": "c1b6ebfe",
   "metadata": {},
   "source": [
    "Define initial state"
   ]
  },
  {
   "cell_type": "code",
   "execution_count": null,
   "id": "94890c0a",
   "metadata": {},
   "outputs": [],
   "source": [
    "ψ0 = InitialState(s,N);"
   ]
  },
  {
   "cell_type": "markdown",
   "id": "e5529c23",
   "metadata": {},
   "source": [
    "Calculate initial expectation values"
   ]
  },
  {
   "cell_type": "code",
   "execution_count": null,
   "id": "e9582ba8",
   "metadata": {},
   "outputs": [],
   "source": [
    "ExpVals!(ψ0, N, Popul, Coherences, Norm, 1);\n",
    "\n",
    "@show Popul[1,:];"
   ]
  },
  {
   "cell_type": "markdown",
   "id": "883cd694",
   "metadata": {},
   "source": [
    "Define time evolution MPO"
   ]
  },
  {
   "cell_type": "code",
   "execution_count": null,
   "id": "cedb2add",
   "metadata": {},
   "outputs": [],
   "source": [
    "H = Hamiltonian(N,s,J,U);"
   ]
  },
  {
   "cell_type": "markdown",
   "id": "15d34cbc",
   "metadata": {},
   "source": [
    "Perform time evolution using TDVP"
   ]
  },
  {
   "cell_type": "code",
   "execution_count": null,
   "id": "a3b2590a",
   "metadata": {
    "scrolled": true
   },
   "outputs": [],
   "source": [
    "ψ = ψ0\n",
    "\n",
    "count_expvals = 1;\n",
    "\n",
    "for t in 1:length(time)-1\n",
    "    \n",
    "    ψ = tdvp(H, -im * δt, ψ; time_step = -im * δt, cutoff = cutoff, maxdim = χ, outputlevel=0, normalize=false);\n",
    "    \n",
    "    #normalize!(ψ)\n",
    "    \n",
    "    if(mod(t,tbigstep)== 0)\n",
    "       \n",
    "        println(\"Calculating expectation values for $(t) number of steps\")\n",
    "        count_expvals = count_expvals + 1;\n",
    "\n",
    "        Time_expvals[count_expvals] = t*δt;\n",
    "            \n",
    "        # The state is not normalized, just the expectation values in the function\n",
    "        ExpVals!(ψ, N, Popul, Coherences, Norm, count_expvals);                \n",
    "\n",
    "    end\n",
    "    \n",
    "end;"
   ]
  },
  {
   "cell_type": "markdown",
   "id": "c3af0550",
   "metadata": {},
   "source": [
    "Plot results"
   ]
  },
  {
   "cell_type": "code",
   "execution_count": null,
   "id": "db86796b",
   "metadata": {},
   "outputs": [],
   "source": [
    "j_array = 1:N\n",
    "heatmap(Time_expvals[:,1], j_array, Popul', xlabel = \"Time\", ylabel = \"j\", xtickfontsize = 15, ytickfontsize = 15, xguidefontsize = 15, yguidefontsize = 15, colorbar_tickfontsize = 15, c = :plasma, fontfamily=plot_font)"
   ]
  },
  {
   "cell_type": "code",
   "execution_count": null,
   "id": "56b4c452",
   "metadata": {},
   "outputs": [],
   "source": [
    "plot(Time_expvals,Popul[:,Int(0.5*N)], xlabel = \"Time\", ylabel = \"Population at site N/2\", xtickfontsize = 15, ytickfontsize = 15, xguidefontsize = 15, yguidefontsize = 15, colorbar_tickfontsize = 15, c = :plasma, fontfamily=plot_font)"
   ]
  },
  {
   "cell_type": "code",
   "execution_count": null,
   "id": "8e968ab5",
   "metadata": {},
   "outputs": [],
   "source": [
    "plot(Time_expvals,real(Coherences[:,1,Int(0.5*N)]), xlabel = \"Time\", ylabel = \"Coherence sites 1 and N/2\", xtickfontsize = 15, ytickfontsize = 15, xguidefontsize = 15, yguidefontsize = 15, colorbar_tickfontsize = 15, c = :plasma, fontfamily=plot_font)"
   ]
  },
  {
   "cell_type": "markdown",
   "id": "94d7409c",
   "metadata": {},
   "source": [
    "Simulation finished!!!"
   ]
  }
 ],
 "metadata": {
  "kernelspec": {
   "display_name": "Julia 1.10.4",
   "language": "julia",
   "name": "julia-1.10"
  },
  "language_info": {
   "file_extension": ".jl",
   "mimetype": "application/julia",
   "name": "julia",
   "version": "1.10.4"
  }
 },
 "nbformat": 4,
 "nbformat_minor": 5
}
