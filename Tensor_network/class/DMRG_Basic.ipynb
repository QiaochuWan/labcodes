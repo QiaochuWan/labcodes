{
 "cells": [
  {
   "cell_type": "markdown",
   "id": "cef9762f",
   "metadata": {},
   "source": [
    "# DMRG for Spin Hamiltonian"
   ]
  },
  {
   "cell_type": "code",
   "execution_count": null,
   "id": "580fa0e8",
   "metadata": {},
   "outputs": [],
   "source": [
    "using ITensors\n",
    "using Plots"
   ]
  },
  {
   "cell_type": "markdown",
   "id": "dccd165b",
   "metadata": {},
   "source": [
    "Define system parameters"
   ]
  },
  {
   "cell_type": "code",
   "execution_count": null,
   "id": "0cab2caf",
   "metadata": {},
   "outputs": [],
   "source": [
    "N = 30 # System size\n",
    "J = 1; # Hopping parameters\n",
    "PBC = 0; # Periodic boundary conditions\n",
    "\n",
    "# Define N S=1/2 spin indices\n",
    "sites = siteinds(\"S=1/2\",N);"
   ]
  },
  {
   "cell_type": "markdown",
   "id": "393f3dbc",
   "metadata": {},
   "source": [
    "Function to define MPO of Hamiltonian"
   ]
  },
  {
   "cell_type": "code",
   "execution_count": null,
   "id": "e5997410",
   "metadata": {
    "scrolled": true
   },
   "outputs": [],
   "source": [
    "function Hamiltonian(N,sites,J,PBC)\n",
    "\n",
    "    # Initiate construction\n",
    "    ops = OpSum()\n",
    "\n",
    "    # Hopping terms\n",
    "    for j=1:N-1\n",
    "        ops += J,\"S+\",j,\"S-\",j+1\n",
    "        ops += J,\"S-\",j,\"S+\",j+1    \n",
    "    end\n",
    "\n",
    "    # PBC if required\n",
    "    if PBC == 1\n",
    "        ops += J,\"S+\",1,\"S-\",N\n",
    "        ops += J,\"S-\",1,\"S+\",N     \n",
    "    end\n",
    "\n",
    "    H = MPO(ops,sites);\n",
    "    \n",
    "    return H;\n",
    "    \n",
    "end;"
   ]
  },
  {
   "cell_type": "markdown",
   "id": "f82cf62a",
   "metadata": {},
   "source": [
    "Function to prepare initial state MPS"
   ]
  },
  {
   "cell_type": "code",
   "execution_count": null,
   "id": "ede2a69d",
   "metadata": {},
   "outputs": [],
   "source": [
    "function InitialState(sites,N)\n",
    "    \n",
    "    state = [isodd(n) ? \"Up\" : \"Dn\" for n=1:N];\n",
    "    ψi = MPS(sites,state);\n",
    "    \n",
    "    return ψi;\n",
    "end"
   ]
  },
  {
   "cell_type": "markdown",
   "id": "3af0e278",
   "metadata": {},
   "source": [
    "Function to calculate ground state"
   ]
  },
  {
   "cell_type": "code",
   "execution_count": null,
   "id": "791dccd4",
   "metadata": {},
   "outputs": [],
   "source": [
    "function GroundState(H,ψi)\n",
    "\n",
    "    # Do many sweeps of DMRG, gradually increasing the maximum MPS bond dimension\n",
    "    nsweeps = 30;\n",
    "    maxdim = 100;\n",
    "    cutoff = 1E-8;\n",
    "\n",
    "    # Run the DMRG algorithm for ground state   \n",
    "    energy0,ψ0 = dmrg(H,ψi; nsweeps, maxdim, cutoff, outputlevel=1);\n",
    "\n",
    "    @show energy0\n",
    "\n",
    "    # Orthonormalize state. Leave site 1 as orthogonalization center\n",
    "    orthogonalize!(ψ0,1)\n",
    "\n",
    "    return energy0, ψ0;\n",
    "    \n",
    "end"
   ]
  },
  {
   "cell_type": "markdown",
   "id": "f5e47ff8",
   "metadata": {},
   "source": [
    "Call functions to obtain ground state and observables"
   ]
  },
  {
   "cell_type": "code",
   "execution_count": null,
   "id": "5fa0ae98",
   "metadata": {},
   "outputs": [],
   "source": [
    "# Define spin Hamiltonian\n",
    "H = Hamiltonian(N,sites,J,PBC);"
   ]
  },
  {
   "cell_type": "code",
   "execution_count": null,
   "id": "94e00b08",
   "metadata": {},
   "outputs": [],
   "source": [
    "# Define initial state\n",
    "ψi = InitialState(sites,N);"
   ]
  },
  {
   "cell_type": "code",
   "execution_count": null,
   "id": "2d09f160",
   "metadata": {},
   "outputs": [],
   "source": [
    "# Calculate ground state\n",
    "E0,ψ0 = GroundState(H,ψi);"
   ]
  },
  {
   "cell_type": "code",
   "execution_count": null,
   "id": "b15d65ee",
   "metadata": {},
   "outputs": [],
   "source": [
    "# Obtain energy from the ground state and Hamiltonian\n",
    "\n",
    "# Form 1\n",
    "Hψ0 = apply(H,ψ0);\n",
    "E = inner(ψ0,Hψ0);\n",
    "@show maxlinkdim(ψ0);\n",
    "@show maxlinkdim(Hψ0);\n",
    "\n",
    "# Form 2\n",
    "E = inner(ψ0',H,ψ0);\n",
    "@show E;"
   ]
  },
  {
   "cell_type": "code",
   "execution_count": null,
   "id": "2e86ed00",
   "metadata": {},
   "outputs": [],
   "source": [
    "# Check convergence of ground state to an eigenstate by calculating variance\n",
    "H2 = inner(H,ψ0,H,ψ0)\n",
    "var = H2-E^2\n",
    "@show var"
   ]
  },
  {
   "cell_type": "code",
   "execution_count": null,
   "id": "3489eeb5",
   "metadata": {},
   "outputs": [],
   "source": [
    "# Calculate ground state expectation values\n",
    "Norm = real(norm(ψ0)); # Norm of the state \n",
    "Sx = real(expect(ψ0, \"Sx\"))/Norm^2; # Magnetization along x\n",
    "Sz = real(expect(ψ0, \"Sz\"))/Norm^2; # Magnetization along z\n",
    "SxSx = correlation_matrix(ψ0,\"Sx\",\"Sx\")/Norm^2; # XX Correlations\n",
    "SzSz = correlation_matrix(ψ0,\"Sz\",\"Sz\")/Norm^2; # ZZ Correlations"
   ]
  },
  {
   "cell_type": "code",
   "execution_count": null,
   "id": "0b25eb67",
   "metadata": {},
   "outputs": [],
   "source": [
    "plot(Sx, xlabel = \"j\", ylabel = \"Sx(j)\")"
   ]
  },
  {
   "cell_type": "code",
   "execution_count": null,
   "id": "acbfda10",
   "metadata": {
    "scrolled": false
   },
   "outputs": [],
   "source": [
    "heatmap(SxSx, xlabel = \"j\", ylabel = \"k\")"
   ]
  },
  {
   "cell_type": "markdown",
   "id": "8087e421",
   "metadata": {},
   "source": [
    "Simulation Finished!!!"
   ]
  }
 ],
 "metadata": {
  "kernelspec": {
   "display_name": "Julia 1.10.4",
   "language": "julia",
   "name": "julia-1.10"
  },
  "language_info": {
   "file_extension": ".jl",
   "mimetype": "application/julia",
   "name": "julia",
   "version": "1.10.4"
  }
 },
 "nbformat": 4,
 "nbformat_minor": 5
}
