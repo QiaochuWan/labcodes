{
 "cells": [
  {
   "cell_type": "markdown",
   "metadata": {},
   "source": [
    "# DMRG-Like Solution for Advection-Diffusion Equation with Periodic Boundary Conditions, With Fit Algorithm"
   ]
  },
  {
   "cell_type": "code",
   "execution_count": null,
   "metadata": {},
   "outputs": [],
   "source": [
    "using HDF5\n",
    "using ITensors\n",
    "using LinearAlgebra\n",
    "using Plots\n",
    "using ITensorMPS\n",
    "using Observers\n",
    "using LaTeXStrings\n",
    "plot_font = \"Computer Modern\";"
   ]
  },
  {
   "cell_type": "markdown",
   "metadata": {},
   "source": [
    "### Construction of the initial condition as MPS"
   ]
  },
  {
   "cell_type": "code",
   "execution_count": null,
   "metadata": {},
   "outputs": [],
   "source": [
    "N = 4;  # Number of sites\n",
    "s = siteinds(\"Qubit\", N);   # Indices for all sites\n",
    "Re = 32;    # Reynolds Number\n",
    "dt = 0.001; # Time step (Cosider the stability criteria: Δt ≤ (Re/2)Δx²)\n",
    "Time = 1; # Final simulation time\n",
    "numsteps = Int.(round(Time/dt)); # Number of time steps\n",
    "\n",
    "χ = 20; # Maximum truncation parameter\n",
    "ϵ = 1e-10; # Truncation error"
   ]
  },
  {
   "cell_type": "markdown",
   "metadata": {},
   "source": [
    "### Initial condition"
   ]
  },
  {
   "cell_type": "code",
   "execution_count": null,
   "metadata": {},
   "outputs": [],
   "source": [
    "xs = range(0, 1-1/(2^N), length=2^N); # Sampling grid points\n",
    "\n",
    "ys = [0.0 for i in 1:2^N] # Initialization\n",
    "\n",
    "# Box, equal to 1 in the central half of the system\n",
    "\n",
    "for j = 1:2^N    \n",
    "    if (xs[j] >= 0.25) && (xs[j] <= 0.75)\n",
    "        ys[j] = 1.0;\n",
    "    end\n",
    "end\n",
    "\n",
    "plot(xs,ys)"
   ]
  },
  {
   "cell_type": "code",
   "execution_count": null,
   "metadata": {},
   "outputs": [],
   "source": [
    "# Create MPS from the function\n",
    "ψ0 = MPS(ys, s, cutoff=ϵ, maxdim=χ);\n",
    "\n",
    "orthogonalize!(ψ0,1)\n",
    "\n",
    "@show norm(ψ0)"
   ]
  },
  {
   "cell_type": "markdown",
   "metadata": {},
   "source": [
    "### Construction of the derivative operations as MPO"
   ]
  },
  {
   "cell_type": "code",
   "execution_count": null,
   "metadata": {},
   "outputs": [],
   "source": [
    "step_size = 1/2^N\n",
    "\n",
    "### Construction of dudx and d2udx2 using 8th order central finite difference\n",
    "\n",
    "# Left shift:\n",
    "\n",
    "#     Input\n",
    "#\n",
    "#   |   |   |\n",
    "#   O - O - O\n",
    "#   |   |   |\n",
    "#\n",
    "#     Output\n",
    "\n",
    "left_ls = zeros(2, 2, 2) #(D, U, R)\n",
    "middle_ls = zeros(2, 2, 2, 2) #(L, D, U, R)\n",
    "right_ls = zeros(2, 2, 2) #(L, D, U)\n",
    "\n",
    "left_ls[1, 2, 2] = 1\n",
    "left_ls[2, 1, 1] = 1\n",
    "middle_ls[1, 1, 1, 1] = 1\n",
    "middle_ls[1, 2, 2, 1] = 1\n",
    "middle_ls[2, 2, 1, 1] = 1\n",
    "middle_ls[2, 1, 2, 2] = 1\n",
    "right_ls[1, 1, 1] = 1\n",
    "right_ls[1, 2, 2] = 1\n",
    "right_ls[2, 1, 2] = 1\n",
    "right_ls[2, 2, 1] = 1\n",
    "\n",
    "H_ls = MPO(N)\n",
    "\n",
    "α = [Index(2) for i in 1:(N-1)] # bond indices\n",
    "\n",
    "for i = 1:N\n",
    "    if i == 1 # first site\n",
    "        H_ls[i] = ITensor(left_ls, s[i], s[i]', α[i])\n",
    "    elseif i == N # last site\n",
    "        H_ls[i] = ITensor(right_ls, α[i-1], s[i], s[i]')\n",
    "    else # middle site\n",
    "        H_ls[i] = ITensor(middle_ls, α[i-1], s[i], s[i]', α[i])\n",
    "    end\n",
    "end\n",
    "\n",
    "orthogonalize!(H_ls,1)\n",
    "\n",
    "# Right shift:\n",
    "\n",
    "#     Input\n",
    "#\n",
    "#   |   |   |\n",
    "#   O - O - O\n",
    "#   |   |   |\n",
    "#\n",
    "#     Output\n",
    "\n",
    "left_rs = zeros(2, 2, 2) #(D, U, R)\n",
    "middle_rs = zeros(2, 2, 2, 2) #(L, D, U, R)\n",
    "right_rs = zeros(2, 2, 2) #(L, D, U)\n",
    "\n",
    "left_rs[1, 2, 1] = 1\n",
    "left_rs[2, 1, 2] = 1\n",
    "middle_rs[1, 1, 1, 1] = 1\n",
    "middle_rs[1, 2, 2, 1] = 1\n",
    "middle_rs[2, 1, 2, 1] = 1\n",
    "middle_rs[2, 2, 1, 2] = 1\n",
    "right_rs[1, 1, 1] = 1\n",
    "right_rs[1, 2, 2] = 1\n",
    "right_rs[2, 1, 2] = 1\n",
    "right_rs[2, 2, 1] = 1\n",
    "\n",
    "H_rs = MPO(N)\n",
    "\n",
    "α = [Index(2) for i in 1:(N-1)] # bond indices\n",
    "\n",
    "for i = 1:N\n",
    "    if i == 1 # first site\n",
    "        H_rs[i] = ITensor(left_rs, s[i], s[i]', α[i])\n",
    "    elseif i == N # last site\n",
    "        H_rs[i] = ITensor(right_rs, α[i-1], s[i], s[i]')\n",
    "    else # middle site\n",
    "        H_rs[i] = ITensor(middle_rs, α[i-1], s[i], s[i]', α[i])\n",
    "    end\n",
    "end\n",
    "\n",
    "orthogonalize!(H_rs,1)\n",
    "\n",
    "# Identity:\n",
    "\n",
    "#     Input\n",
    "#\n",
    "#   |   |   |\n",
    "#   O - O - O\n",
    "#   |   |   |\n",
    "#\n",
    "#     Output\n",
    "\n",
    "left_id = zeros(2, 2, 1) #(D, U, R)\n",
    "middle_id = zeros(1, 2, 2, 1) #(L, D, U, R)\n",
    "right_id = zeros(1, 2, 2) #(L, D, U)\n",
    "\n",
    "left_id[1, 1, 1] = 1\n",
    "left_id[2, 2, 1] = 1\n",
    "middle_id[1, 1, 1, 1] = 1\n",
    "middle_id[1, 2, 2, 1] = 1\n",
    "right_id[1, 1, 1] = 1\n",
    "right_id[1, 2, 2] = 1\n",
    "\n",
    "H_id = MPO(N)\n",
    "\n",
    "α = [Index(1) for i in 1:(N-1)] # bond indices\n",
    "\n",
    "for i = 1:N\n",
    "    if i == 1 # first site\n",
    "        H_id[i] = ITensor(left_id, s[i], s[i]', α[i])\n",
    "    elseif i == N # last site\n",
    "        H_id[i] = ITensor(right_id, α[i-1], s[i], s[i]')\n",
    "    else # middle site\n",
    "        H_id[i] = ITensor(middle_id, α[i-1], s[i], s[i]', α[i])\n",
    "    end\n",
    "end\n",
    "\n",
    "orthogonalize!(H_id,1)\n",
    "\n",
    "# Define derivatives\n",
    "H_dudx = 0.5*(H_ls - H_rs)/step_size; # First derivative\n",
    "H_d2udx2 = (H_rs + H_ls - 2*H_id)/(step_size^2); # Second derivative"
   ]
  },
  {
   "cell_type": "markdown",
   "metadata": {},
   "source": [
    "### DMRG-Like Solver"
   ]
  },
  {
   "cell_type": "code",
   "execution_count": null,
   "metadata": {},
   "outputs": [],
   "source": [
    "function Advection_Diffusion_Fit(ψ0, H_dudx, H_d2udx2, H_id, Re, s, N, dt, numsteps, χ, ϵ)\n",
    "    \n",
    "    ψ_list = []\n",
    "    ψ = ψ0\n",
    "    nsweeps = 5\n",
    "    init = randomMPS(s)\n",
    "\n",
    "    # Perfor time evolution\n",
    "    for t = 1:numsteps\n",
    "    \n",
    "        # Define full MPO to advance one step in time\n",
    "        H = (dt/Re)*H_d2udx2 - dt*H_dudx + H_id;    \n",
    "        \n",
    "        # Advance state by one time step using Fit algorithm\n",
    "        ψ = apply(H, ψ, alg=\"fit\", init=init, maxdim=χ, cutoff=ϵ, nsweeps=nsweeps, outputlevel=0, normalize=false) \n",
    "\n",
    "        if t % (numsteps/4) == 0\n",
    "        \n",
    "            Big_ψ = contract(ψ) # Recovering the original big tensor\n",
    "            J_recon = Array(Big_ψ, s) # Changing the format from ITensor to Julia array for plotting\n",
    "            ys_recon = reshape(J_recon,2^N,1) # Reshaping from N-dimentional tensor to regular array\n",
    "        \n",
    "            push!(ψ_list, ys_recon);\n",
    "        end\n",
    "\n",
    "    end\n",
    "\n",
    "    return ψ_list, maxlinkdim(ψ);\n",
    "\n",
    "end"
   ]
  },
  {
   "cell_type": "code",
   "execution_count": null,
   "metadata": {
    "scrolled": false
   },
   "outputs": [],
   "source": [
    "ψ_list, max_χ = Advection_Diffusion_Fit(ψ0, H_dudx, H_d2udx2, H_id, Re, s, N, dt, numsteps, χ, ϵ);"
   ]
  },
  {
   "cell_type": "code",
   "execution_count": null,
   "metadata": {},
   "outputs": [],
   "source": [
    "plot(xs, ys, labels=\"t = 0\", lw=3, linestyle=:solid, palette=:okabe_ito, framestyle=:box, dpi=1000, gridalpha = 0, legend=false)\n",
    "plot!(xs, ψ_list[1], labels=\"t = 0.25\", lw=3, linestyle=:dash, xguidefontsize=15, yguidefontsize=15,legendfontsize=10)\n",
    "plot!(xs, ψ_list[2], labels=\"t = 0.5\", lw=3, linestyle=:dot)\n",
    "plot!(xs, ψ_list[3], labels=\"t = 0.75\", lw=3, linestyle=:dashdot, color = 6)\n",
    "plot!(xs, ψ_list[4], labels=\"t = 1\", lw=3, linestyle=:dashdotdot)"
   ]
  },
  {
   "cell_type": "markdown",
   "metadata": {},
   "source": [
    "### Simulation finished!!!"
   ]
  }
 ],
 "metadata": {
  "kernelspec": {
   "display_name": "Julia 1.10.4",
   "language": "julia",
   "name": "julia-1.10"
  },
  "language_info": {
   "file_extension": ".jl",
   "mimetype": "application/julia",
   "name": "julia",
   "version": "1.10.4"
  }
 },
 "nbformat": 4,
 "nbformat_minor": 2
}
