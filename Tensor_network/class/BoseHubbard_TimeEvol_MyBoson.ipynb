{
 "cells": [
  {
   "cell_type": "markdown",
   "id": "de8d09e4",
   "metadata": {},
   "source": [
    "# Time evolution of Bose-Hubbard model\n",
    "\n",
    "The Hamiltonian is $H=-J\\sum_{j=1}^{N-1}(a_j^{\\dagger}a_{j+1}+a_{j+1}^{\\dagger}a_{j})+\\frac{U}{2}\\sum_{j=1}^Nn_j(n_j-1)$"
   ]
  },
  {
   "cell_type": "code",
   "execution_count": null,
   "id": "fb47b249",
   "metadata": {},
   "outputs": [],
   "source": [
    "using ITensors\n",
    "using Plots\n",
    "using LinearAlgebra\n",
    "plot_font = \"Computer Modern\";"
   ]
  },
  {
   "cell_type": "markdown",
   "id": "668fe60c",
   "metadata": {},
   "source": [
    "Setup parameters"
   ]
  },
  {
   "cell_type": "code",
   "execution_count": null,
   "id": "e0c7ba0d",
   "metadata": {},
   "outputs": [],
   "source": [
    "N = 4   # Number of sites  \n",
    "nmax = 3   # Maximum number of bosons per site\n",
    "\n",
    "J = 1.0   # Hopping\n",
    "U = 2.0   # Interaction\n",
    "\n",
    "T = 2.0  # Final time\n",
    "δt = 0.01   # Time step\n",
    "time = 0.0:δt:T   # Time vector\n",
    "tbigstep = 10   # Calculate expectation values each tbigstep times\n",
    "num_expvals = Int(((length(time)-1)/tbigstep)) + 1; # Number of times expectation values will be calculated. The ±1 is to account correctly for t = 0  \n",
    "cutoff = 1E-8;   # Truncation allowed per step\n",
    "χ = 100; # Maximum bond dimension"
   ]
  },
  {
   "cell_type": "markdown",
   "id": "922d9981",
   "metadata": {},
   "source": [
    "Initialize expectation values, namely boson population and coherences $\\langle a_i^{\\dagger}a_j\\rangle$ "
   ]
  },
  {
   "cell_type": "code",
   "execution_count": null,
   "id": "04b38c1c",
   "metadata": {},
   "outputs": [],
   "source": [
    "Norm = zeros(num_expvals,1); # Norm of evolved state\n",
    "Popul = zeros(num_expvals,N); # Number of bosons per site\n",
    "Coherences = zeros(num_expvals,N,N)+1im*zeros(num_expvals,N,N); # Coherences between all sites, can be complex\n",
    "SvN = zeros(num_expvals,N-1); # von Neumann entanglement entropy\n",
    "Time_expvals = zeros(num_expvals,1); # Time of expectation values"
   ]
  },
  {
   "cell_type": "markdown",
   "id": "09d2c7ad",
   "metadata": {},
   "source": [
    "Define bosonic operators according to nmax"
   ]
  },
  {
   "cell_type": "code",
   "execution_count": null,
   "id": "b484764b",
   "metadata": {
    "scrolled": true
   },
   "outputs": [],
   "source": [
    "function ITensors.space(::SiteType\"MyBoson\";\n",
    "                        conserve_qns=true)\n",
    "  if conserve_qns\n",
    "       \n",
    "    # Define array of pairs of quantum numbers and the dimension of each one   \n",
    "    array = [QN(\"nb\",0)=>1];    # Initialize array of pairs\n",
    "    for k = 1:nmax\n",
    "        append!(array, [QN(\"nb\",k)=>1])\n",
    "    end\n",
    "        \n",
    "    return array       \n",
    "  end\n",
    "    \n",
    "  return nmax+1 # Only return full dimension if no quantum numbers are used\n",
    "end\n",
    "\n",
    "function ITensors.op!(Op::ITensor,\n",
    "                      ::OpName\"Num\",\n",
    "                      ::SiteType\"MyBoson\",\n",
    "                      s::Index)    \n",
    "    # Fill diagonal \n",
    "    for k = 1:nmax\n",
    "        Op[s'=>k+1,s=>k+1] = k\n",
    "    end\n",
    "    \n",
    "end\n",
    "\n",
    "function ITensors.op!(Op::ITensor,\n",
    "                      ::OpName\"Num2\",\n",
    "                      ::SiteType\"MyBoson\",\n",
    "                      s::Index)    \n",
    "    # Fill diagonal \n",
    "    for k = 1:nmax\n",
    "        Op[s'=>k+1,s=>k+1] = k*k\n",
    "    end\n",
    "    \n",
    "end\n",
    "\n",
    "function ITensors.op!(Op::ITensor,\n",
    "                      ::OpName\"a\",\n",
    "                      ::SiteType\"MyBoson\",\n",
    "                       s::Index)\n",
    "    # Fill +1 diagonal\n",
    "    for k = 1:nmax\n",
    "       Op[s'=>k,s=>k+1] = sqrt(k);\n",
    "    end\n",
    "    \n",
    "end\n",
    "\n",
    "function ITensors.op!(Op::ITensor,\n",
    "                      ::OpName\"adag\",\n",
    "                      ::SiteType\"MyBoson\",\n",
    "                      s::Index)      \n",
    "    # Fill -1 diagonal    \n",
    "    for k = 1:nmax\n",
    "       Op[s'=>k+1,s=>k] = sqrt(k);\n",
    "    end    \n",
    "    \n",
    "end\n",
    "\n",
    "function ITensors.op!(Op::ITensor,\n",
    "                      ::OpName\"Iden\",\n",
    "                      ::SiteType\"MyBoson\",\n",
    "                      s::Index)    \n",
    "    # Fill diagonal \n",
    "    for k = 1:nmax\n",
    "        Op[s'=>k,s=>k] = 1\n",
    "    end\n",
    "    \n",
    "end"
   ]
  },
  {
   "cell_type": "markdown",
   "id": "96ff6d8d",
   "metadata": {},
   "source": [
    "Function to define initial state"
   ]
  },
  {
   "cell_type": "code",
   "execution_count": null,
   "id": "7f29be33",
   "metadata": {
    "scrolled": false
   },
   "outputs": [],
   "source": [
    "function InitialState(s,N)\n",
    "\n",
    "     state = [1 for n=1:N] # Initial empty lattice\n",
    "\n",
    "    for i = 1:N\n",
    "       if mod(i,2) == 0\n",
    "           state[i] = 2 # Put boson on even sites\n",
    "       end\n",
    "    end\n",
    "\n",
    "#     for i = Int(0.25*N):Int(0.75*N)\n",
    "#         state[i] = 2 # Put boson on sites in first half\n",
    "#     end\n",
    "    \n",
    "    ψ0 = MPS(s,state);\n",
    "    \n",
    "    return ψ0;\n",
    "end"
   ]
  },
  {
   "cell_type": "markdown",
   "id": "01bc399f",
   "metadata": {},
   "source": [
    "Function to calculate expectation values"
   ]
  },
  {
   "cell_type": "code",
   "execution_count": null,
   "id": "bd5b58bd",
   "metadata": {},
   "outputs": [],
   "source": [
    "function ExpVals!(ψ,N,Popul,Coherences,Norm,timeval) # Here, timeval is the position in the arrays of expectation values where info will be stored \n",
    "\n",
    "   # The functions expect and correlation_matrix normalize internally the expectation values\n",
    "   Popul[timeval,:] = real(expect(ψ, \"Num\")); # Population of each site\n",
    "   Coherences[timeval,:,:] = correlation_matrix(ψ,\"adag\",\"a\"); # Single particle density matrix\n",
    "   Norm[timeval,1] = real(norm(ψ)); # Norm of the state\n",
    "    \n",
    "end;"
   ]
  },
  {
   "cell_type": "markdown",
   "id": "a6f74c99",
   "metadata": {},
   "source": [
    "Function to calculate von Neumann entanglement entropy"
   ]
  },
  {
   "cell_type": "code",
   "execution_count": null,
   "id": "369dc643",
   "metadata": {},
   "outputs": [],
   "source": [
    "function Entropy!(state, N, SvN, timeval)\n",
    "\n",
    "    SvN_time = zeros(N-1)\n",
    "    \n",
    "    for b=1:N-1\n",
    "        orthogonalize!(state, b)\n",
    "        if b == 1\n",
    "            U,S,V = svd(state[b], (siteind(state, b))) # There is no link to the left\n",
    "        else\n",
    "            U,S,V = svd(state[b], (linkind(state, b-1), siteind(state, b)))\n",
    "        end\n",
    "        for n=1:dim(S, 1)\n",
    "            p = S[n,n]^2\n",
    "            SvN_time[b] -= p * log(p)\n",
    "        end\n",
    "    end\n",
    "\n",
    "    SvN[timeval,:] = SvN_time\n",
    "    \n",
    "    #return SvN\n",
    "    \n",
    "end"
   ]
  },
  {
   "cell_type": "markdown",
   "id": "e641e020",
   "metadata": {},
   "source": [
    "Define sequence of local evolution propagators"
   ]
  },
  {
   "cell_type": "code",
   "execution_count": null,
   "id": "25691787",
   "metadata": {},
   "outputs": [],
   "source": [
    "function staircase_gates(s,N,δt,J,U)\n",
    "\n",
    "    gates = ITensor[] # Initialize network of two-site gates\n",
    "\n",
    "    # Sweep over pairs of sites\n",
    "    for j in 1:(N - 1)\n",
    "        \n",
    "        s1 = s[j]\n",
    "        s2 = s[j + 1]\n",
    "    \n",
    "        # Define factors for single-site operators\n",
    "        fs1 = 0.5;\n",
    "        fs2 = 0.5;\n",
    "        if(j == 1)\n",
    "            fs1 = 1;\n",
    "        elseif(j == N-1)\n",
    "            fs2 = 1;\n",
    "        end\n",
    "    \n",
    "        # Define two-site Hamiltonian\n",
    "        hj = -J*op(\"a\",s1)*op(\"adag\",s2) - J*op(\"adag\",s1)*op(\"a\",s2); # Hopping\n",
    "        hj = hj + 0.5*fs1*U*op(\"Num2\",s1)*op(\"Iden\",s2) - 0.5*fs1*U*op(\"Num\",s1)*op(\"Iden\",s2); # Interaction of left site\n",
    "        hj = hj + 0.5*fs2*U*op(\"Iden\",s1)*op(\"Num2\",s2) - 0.5*fs2*U*op(\"Iden\",s1)*op(\"Num\",s2); # Interaction of right site\n",
    "        \n",
    "        # Create local gate and include in total propagator\n",
    "        Gj = exp(-1im*0.5*δt*hj)\n",
    "        push!(gates, Gj)\n",
    "    end\n",
    "    \n",
    "    # Include gates in reverse order too (N,N-1),(N-1,N-2),...\n",
    "    append!(gates, reverse(gates));\n",
    "    \n",
    "    return gates\n",
    "end;    "
   ]
  },
  {
   "cell_type": "markdown",
   "id": "9b15a27d",
   "metadata": {},
   "source": [
    "----------- Main code of time evolution -----------"
   ]
  },
  {
   "cell_type": "markdown",
   "id": "5de93f24",
   "metadata": {},
   "source": [
    "Define index, and specify use of quantum numbers"
   ]
  },
  {
   "cell_type": "code",
   "execution_count": null,
   "id": "302b62b9",
   "metadata": {
    "scrolled": true
   },
   "outputs": [],
   "source": [
    "s = siteinds(\"MyBoson\", N, conserve_qns=true); # For all sites"
   ]
  },
  {
   "cell_type": "markdown",
   "id": "03a9ecd8",
   "metadata": {},
   "source": [
    "Define initial state"
   ]
  },
  {
   "cell_type": "code",
   "execution_count": null,
   "id": "d2cc388c",
   "metadata": {},
   "outputs": [],
   "source": [
    "ψ0 = InitialState(s,N);"
   ]
  },
  {
   "cell_type": "markdown",
   "id": "65dba95f",
   "metadata": {},
   "source": [
    "Calculate initial expectation values and entropy"
   ]
  },
  {
   "cell_type": "code",
   "execution_count": null,
   "id": "c2097d26",
   "metadata": {},
   "outputs": [],
   "source": [
    "ExpVals!(ψ0, N, Popul, Coherences, Norm, 1);\n",
    "\n",
    "@show Popul[1,:];"
   ]
  },
  {
   "cell_type": "code",
   "execution_count": null,
   "id": "bce7d75c",
   "metadata": {},
   "outputs": [],
   "source": [
    "Entropy!(ψ0, N, SvN, 1);\n",
    "\n",
    "@show SvN[1,:];"
   ]
  },
  {
   "cell_type": "markdown",
   "id": "ec419950",
   "metadata": {},
   "source": [
    "Create gate staircase for time evolution"
   ]
  },
  {
   "cell_type": "code",
   "execution_count": null,
   "id": "dbd224b5",
   "metadata": {},
   "outputs": [],
   "source": [
    "gates = staircase_gates(s,N,δt,J,U);"
   ]
  },
  {
   "cell_type": "markdown",
   "id": "915e6767",
   "metadata": {},
   "source": [
    "Perform time evolution"
   ]
  },
  {
   "cell_type": "code",
   "execution_count": null,
   "id": "3db2ee45",
   "metadata": {
    "scrolled": true
   },
   "outputs": [],
   "source": [
    "ψ = ψ0\n",
    "\n",
    "count_expvals = 1;\n",
    "\n",
    "for t in 1:length(time)-1\n",
    "\n",
    "    ψ = apply(gates, ψ; cutoff=cutoff, maxdim=χ)\n",
    "    #normalize!(ψ)\n",
    "    \n",
    "    if(mod(t,tbigstep)== 0)\n",
    "       \n",
    "        println(\"Calculating expectation values for $(t) number of steps\")\n",
    "        count_expvals = count_expvals + 1;\n",
    "\n",
    "        Time_expvals[count_expvals] = t*δt;\n",
    "            \n",
    "        # The state is not normalized, just the expectation values in the function\n",
    "        ExpVals!(ψ, N, Popul, Coherences, Norm, count_expvals);\n",
    "        Entropy!(ψ, N, SvN, count_expvals);                \n",
    "\n",
    "    end\n",
    "    \n",
    "end;"
   ]
  },
  {
   "cell_type": "markdown",
   "id": "90b721d8",
   "metadata": {},
   "source": [
    "Plot results"
   ]
  },
  {
   "cell_type": "code",
   "execution_count": null,
   "id": "62f6992c",
   "metadata": {},
   "outputs": [],
   "source": [
    "j_array = 1:N\n",
    "heatmap(Time_expvals[:,1], j_array, Popul', xlabel = \"Time\", ylabel = \"j\", xtickfontsize = 15, ytickfontsize = 15, xguidefontsize = 15, yguidefontsize = 15, colorbar_tickfontsize = 15, c = :plasma, fontfamily=plot_font)"
   ]
  },
  {
   "cell_type": "code",
   "execution_count": null,
   "id": "37dd98df",
   "metadata": {},
   "outputs": [],
   "source": [
    "plot(Time_expvals,Popul[:,Int(0.5*N)], xlabel = \"Time\", ylabel = \"Population at site N/2\", xtickfontsize = 15, ytickfontsize = 15, xguidefontsize = 15, yguidefontsize = 15, colorbar_tickfontsize = 15, c = :plasma, fontfamily=plot_font)"
   ]
  },
  {
   "cell_type": "code",
   "execution_count": null,
   "id": "50aaffff",
   "metadata": {},
   "outputs": [],
   "source": [
    "jmin1_array = 1:N-1\n",
    "heatmap(Time_expvals[:,1], jmin1_array, SvN', xlabel = \"Time\", ylabel = \"j\", xtickfontsize = 15, ytickfontsize = 15, xguidefontsize = 15, yguidefontsize = 15, colorbar_tickfontsize = 15, c = :plasma, fontfamily=plot_font)"
   ]
  },
  {
   "cell_type": "code",
   "execution_count": null,
   "id": "d034149f",
   "metadata": {},
   "outputs": [],
   "source": [
    "plot(Time_expvals,SvN[:,Int(0.5*N)], xlabel = \"Time\", ylabel = \"Entanglement at bond N/2\", xtickfontsize = 15, ytickfontsize = 15, xguidefontsize = 15, yguidefontsize = 15, colorbar_tickfontsize = 15, c = :plasma, fontfamily=plot_font)"
   ]
  },
  {
   "cell_type": "code",
   "execution_count": null,
   "id": "a3fcf1fb",
   "metadata": {
    "scrolled": false
   },
   "outputs": [],
   "source": [
    "plot(Time_expvals,real(Coherences[:,1,Int(0.5*N)]), xlabel = \"Time\", ylabel = \"Coherence sites 1 and N/2\", xtickfontsize = 15, ytickfontsize = 15, xguidefontsize = 15, yguidefontsize = 15, colorbar_tickfontsize = 15, c = :plasma, fontfamily=plot_font)"
   ]
  },
  {
   "cell_type": "markdown",
   "id": "4758a5ba",
   "metadata": {},
   "source": [
    "Check quantum numbers"
   ]
  },
  {
   "cell_type": "code",
   "execution_count": null,
   "id": "4031cade",
   "metadata": {},
   "outputs": [],
   "source": [
    "@show sum(Popul,dims=2);"
   ]
  },
  {
   "cell_type": "markdown",
   "id": "e88c6fc3",
   "metadata": {},
   "source": [
    "Simulation finished!!!"
   ]
  }
 ],
 "metadata": {
  "kernelspec": {
   "display_name": "Julia 1.10.4",
   "language": "julia",
   "name": "julia-1.10"
  },
  "language_info": {
   "file_extension": ".jl",
   "mimetype": "application/julia",
   "name": "julia",
   "version": "1.10.4"
  }
 },
 "nbformat": 4,
 "nbformat_minor": 5
}
