{
 "cells": [
  {
   "cell_type": "markdown",
   "id": "9ee94407",
   "metadata": {},
   "source": [
    "# MPS and MPO operations with ITensor"
   ]
  },
  {
   "cell_type": "code",
   "execution_count": 1,
   "id": "71d65ea7",
   "metadata": {},
   "outputs": [],
   "source": [
    "using ITensors\n",
    "using Plots\n",
    "using HDF5"
   ]
  },
  {
   "cell_type": "markdown",
   "id": "309c4e06",
   "metadata": {},
   "source": [
    "Create some MPSs"
   ]
  },
  {
   "cell_type": "code",
   "execution_count": 2,
   "id": "99a6698f",
   "metadata": {},
   "outputs": [
    {
     "name": "stdout",
     "output_type": "stream",
     "text": [
      "ψ0 = MPS\n",
      "[1] ((dim=2|id=571), (dim=2|id=58|\"Link,n=1\"))\n",
      "[2] ((dim=2|id=58|\"Link,n=1\"), (dim=2|id=600), (dim=4|id=643|\"Link,n=2\"))\n",
      "[3] ((dim=4|id=643|\"Link,n=2\"), (dim=2|id=809), (dim=4|id=126|\"Link,n=3\"))\n",
      "[4] ((dim=4|id=126|\"Link,n=3\"), (dim=2|id=136), (dim=2|id=24|\"Link,n=4\"))\n",
      "[5] ((dim=2|id=24|\"Link,n=4\"), (dim=2|id=554))\n",
      "\n"
     ]
    }
   ],
   "source": [
    "# Create MPS from ITensor or from Julia array\n",
    "i = Index(2)\n",
    "j = Index(2)\n",
    "k = Index(2)\n",
    "l = Index(2)\n",
    "m = Index(2)\n",
    "\n",
    "cutoff = 1E-20\n",
    "maxdim = 10\n",
    "T = randomITensor(i,j,k,l,m) # From ITensor\n",
    "#T = randn(2^5); # From Julia array\n",
    "ψ0 = MPS(T,(i,j,k,l,m);cutoff=cutoff,maxdim=maxdim)\n",
    "\n",
    "ψ0cont = contract(ψ0); # Recover (reshaped) entry matrix\n",
    "\n",
    "@show ψ0;"
   ]
  },
  {
   "cell_type": "code",
   "execution_count": 3,
   "id": "96658025",
   "metadata": {},
   "outputs": [],
   "source": [
    "N = 10; # Number of sites\n",
    "s = siteinds(\"Qubit\", N); # Indices for all sites\n",
    "#s = siteinds(\"Qubit\", N, conserve_qns = true); \n",
    "#s = siteinds(\"Qubit\", N, conserve_qns = false);"
   ]
  },
  {
   "cell_type": "code",
   "execution_count": 4,
   "id": "864f59ee",
   "metadata": {},
   "outputs": [
    {
     "name": "stdout",
     "output_type": "stream",
     "text": [
      "ψ3_list = [\"1\", \"0\", \"1\", \"0\", \"1\", \"0\", \"1\", \"0\", \"1\", \"0\"]\n"
     ]
    }
   ],
   "source": [
    "# Create by hand MPS with desired order\n",
    "\n",
    "ψ1_list = [\"0\" for n=1:N]; # Magnetization 1 (up) everywhere\n",
    "ψ1 = MPS(s,ψ1_list);\n",
    "\n",
    "ψ2 = randomMPS(s,linkdims=10);\n",
    "ψ2 = orthogonalize!(ψ2, N);\n",
    "\n",
    "ψ3_list = [isodd(n) ? \"1\" : \"0\" for n in 1:N]; # Magnetization 1 (up) and -1 (down) interleaved\n",
    "ψ3 = MPS(ComplexF64, s, ψ3_list);\n",
    "\n",
    "@show ψ3_list;"
   ]
  },
  {
   "cell_type": "code",
   "execution_count": 5,
   "id": "26ff91b7",
   "metadata": {},
   "outputs": [
    {
     "name": "stdout",
     "output_type": "stream",
     "text": [
      "maxlinkdim(ψ1) = 1\n",
      "maxlinkdim(ψ2) = 10\n",
      "maxlinkdim(ψ3) = 1\n"
     ]
    }
   ],
   "source": [
    "@show maxlinkdim(ψ1);\n",
    "@show maxlinkdim(ψ2);\n",
    "@show maxlinkdim(ψ3);"
   ]
  },
  {
   "cell_type": "code",
   "execution_count": 6,
   "id": "80373433",
   "metadata": {
    "scrolled": true
   },
   "outputs": [
    {
     "name": "stdout",
     "output_type": "stream",
     "text": [
      "(norm(ψ1), norm(ψ2), norm(ψ3)) = (1.0, 1.0, 1.0)\n"
     ]
    }
   ],
   "source": [
    "@show norm(ψ1), norm(ψ2), norm(ψ3);"
   ]
  },
  {
   "cell_type": "markdown",
   "id": "c4dad549",
   "metadata": {},
   "source": [
    "Addition of MPSs"
   ]
  },
  {
   "cell_type": "code",
   "execution_count": 7,
   "id": "26f71784",
   "metadata": {},
   "outputs": [],
   "source": [
    "ψ4 = ψ2 + ψ3; # A cutoff of 1e-15 is used by default\n",
    "ψ5 = +(ψ1, ψ3; cutoff = 1e-8); # Set the cutoff"
   ]
  },
  {
   "cell_type": "code",
   "execution_count": 8,
   "id": "7b51edd1",
   "metadata": {
    "scrolled": true
   },
   "outputs": [
    {
     "name": "stdout",
     "output_type": "stream",
     "text": [
      "(norm(ψ4), norm(ψ5)) = (1.409605314830854, 1.4142135623730951)\n"
     ]
    }
   ],
   "source": [
    "@show norm(ψ4), norm(ψ5);"
   ]
  },
  {
   "cell_type": "code",
   "execution_count": 9,
   "id": "e6b0ae61",
   "metadata": {},
   "outputs": [],
   "source": [
    "normalize!(ψ4); # Use ! so state is replaced by normalized one (in-place operation, where memory of output is preallocated)\n",
    "ψ5 = normalize(ψ5); # Or set A = normalize(B)"
   ]
  },
  {
   "cell_type": "code",
   "execution_count": 10,
   "id": "12783ffc",
   "metadata": {
    "scrolled": true
   },
   "outputs": [
    {
     "name": "stdout",
     "output_type": "stream",
     "text": [
      "linkdims(ψ2) = [2, 4, 8, 10, 10, 10, 8, 4, 2]\n",
      "linkdims(ψ3) = [1, 1, 1, 1, 1, 1, 1, 1, 1]\n",
      "linkdims(ψ4) = [3, 5, 9, 11, 11, 11, 8, 4, 2]\n"
     ]
    }
   ],
   "source": [
    "@show linkdims(ψ2);\n",
    "@show linkdims(ψ3);\n",
    "@show linkdims(ψ4);"
   ]
  },
  {
   "cell_type": "code",
   "execution_count": 11,
   "id": "2ab9f2e1",
   "metadata": {
    "scrolled": true
   },
   "outputs": [
    {
     "name": "stdout",
     "output_type": "stream",
     "text": [
      "linkdims(ψ1) = [1, 1, 1, 1, 1, 1, 1, 1, 1]\n",
      "linkdims(ψ3) = [1, 1, 1, 1, 1, 1, 1, 1, 1]\n",
      "linkdims(ψ5) = [2, 2, 2, 2, 2, 2, 2, 2, 1]\n"
     ]
    }
   ],
   "source": [
    "@show linkdims(ψ1);\n",
    "@show linkdims(ψ3);\n",
    "@show linkdims(ψ5);"
   ]
  },
  {
   "cell_type": "markdown",
   "id": "30946645",
   "metadata": {},
   "source": [
    "Truncate states"
   ]
  },
  {
   "cell_type": "code",
   "execution_count": 12,
   "id": "ae2d7705",
   "metadata": {},
   "outputs": [
    {
     "name": "stdout",
     "output_type": "stream",
     "text": [
      "linkdims(ψ4) = [1, 1, 1, 2, 3, 4, 4, 3, 2]\n"
     ]
    }
   ],
   "source": [
    "ψ4 = truncate(ψ4, cutoff = 1e-1);\n",
    "@show linkdims(ψ4);"
   ]
  },
  {
   "cell_type": "code",
   "execution_count": 13,
   "id": "73dd13d6",
   "metadata": {},
   "outputs": [
    {
     "name": "stdout",
     "output_type": "stream",
     "text": [
      "linkdims(ψ5) = [1, 1, 1, 1, 1, 1, 1, 1, 1]\n"
     ]
    }
   ],
   "source": [
    "truncate!(ψ5, maxdim = 1); # Check what happens when maxdim = 1!\n",
    "@show linkdims(ψ5);"
   ]
  },
  {
   "cell_type": "code",
   "execution_count": 14,
   "id": "0ff9e046",
   "metadata": {},
   "outputs": [
    {
     "name": "stdout",
     "output_type": "stream",
     "text": [
      "linkdims(ψ11) = [1, 1, 1, 1, 1, 1, 1, 1, 1]\n",
      "norm(ψ11) = 2.0\n"
     ]
    }
   ],
   "source": [
    "# Adding a state with itself\n",
    "\n",
    "ψ11 = ψ1 + ψ1;\n",
    "@show linkdims(ψ11); # Automatically truncated\n",
    "@show norm(ψ11); # But not normalized\n",
    "normalize!(ψ11);"
   ]
  },
  {
   "cell_type": "markdown",
   "id": "540e4175",
   "metadata": {},
   "source": [
    "Overlap of MPSs"
   ]
  },
  {
   "cell_type": "code",
   "execution_count": 15,
   "id": "5acff198",
   "metadata": {
    "scrolled": true
   },
   "outputs": [
    {
     "data": {
      "text/plain": [
       "0.0 + 0.0im"
      ]
     },
     "execution_count": 15,
     "metadata": {},
     "output_type": "execute_result"
    }
   ],
   "source": [
    "dot(ψ1,ψ3)"
   ]
  },
  {
   "cell_type": "code",
   "execution_count": 16,
   "id": "68f69b11",
   "metadata": {},
   "outputs": [
    {
     "data": {
      "text/plain": [
       "0.0 + 0.0im"
      ]
     },
     "execution_count": 16,
     "metadata": {},
     "output_type": "execute_result"
    }
   ],
   "source": [
    "inner(ψ5,ψ3) # Check the impact when ψ5 was truncated with maxdim = 1"
   ]
  },
  {
   "cell_type": "code",
   "execution_count": 17,
   "id": "bdce6177",
   "metadata": {},
   "outputs": [
    {
     "data": {
      "text/plain": [
       "1.0"
      ]
     },
     "execution_count": 17,
     "metadata": {},
     "output_type": "execute_result"
    }
   ],
   "source": [
    "dot(ψ1,ψ11)"
   ]
  },
  {
   "cell_type": "markdown",
   "id": "a5818c93",
   "metadata": {},
   "source": [
    "Apply single-site operator to an MPS"
   ]
  },
  {
   "cell_type": "code",
   "execution_count": 18,
   "id": "03d5aaa2",
   "metadata": {},
   "outputs": [
    {
     "name": "stdout",
     "output_type": "stream",
     "text": [
      "ψ1[site] = ITensor ord=3\n",
      "Dim 1: (dim=1|id=874|\"Link,l=2\")\n",
      "Dim 2: (dim=2|id=87|\"Qubit,Site,n=3\")\n",
      "Dim 3: (dim=1|id=888|\"Link,l=3\")\n",
      "NDTensors.Dense{Float64, Vector{Float64}}\n",
      " 1×2×1\n",
      "[:, :, 1] =\n",
      " 1.0  0.0\n"
     ]
    }
   ],
   "source": [
    "site = 3;\n",
    "@show ψ1[site];"
   ]
  },
  {
   "cell_type": "code",
   "execution_count": 19,
   "id": "dd90dbe6",
   "metadata": {},
   "outputs": [
    {
     "name": "stdout",
     "output_type": "stream",
     "text": [
      "ψ1[site] = ITensor ord=3\n",
      "Dim 1: (dim=2|id=87|\"Qubit,Site,n=3\")\n",
      "Dim 2: (dim=1|id=915|\"Link,l=2\")\n",
      "Dim 3: (dim=1|id=101|\"Link,l=3\")\n",
      "NDTensors.Dense{Float64, Vector{Float64}}\n",
      " 2×1×1\n",
      "[:, :, 1] =\n",
      " 0.7071067811865475\n",
      " 0.7071067811865475\n"
     ]
    }
   ],
   "source": [
    "ψ1 = apply(op(\"H\",s[site]),ψ1); # Use Hadamard gate, which creates equal superposition of 0 and 1 \n",
    "@show ψ1[site];"
   ]
  },
  {
   "cell_type": "markdown",
   "id": "616cbe04",
   "metadata": {},
   "source": [
    "Apply two-site operator to an MPS"
   ]
  },
  {
   "cell_type": "code",
   "execution_count": 20,
   "id": "86480efd",
   "metadata": {},
   "outputs": [],
   "source": [
    "# First define two-site operator\n",
    "site1 = 2; site2 = 3;\n",
    "\n",
    "Oper = op(\"SWAP\",s[site1],s[site2]);\n",
    "#Oper = op(\"S-\",s[site1])*op(\"S+\",s[site2]);"
   ]
  },
  {
   "cell_type": "code",
   "execution_count": 21,
   "id": "c3aba80f",
   "metadata": {},
   "outputs": [],
   "source": [
    "orthogonalize!(ψ1,site1) # Set orthogonality center between sites 2 and 3, so other sites are correctly normalized and can be left out\n",
    "\n",
    "wf = (ψ1[site1] * ψ1[site2]) * Oper # Multiply operator with MPS\n",
    "noprime!(wf) # Remove primes of result\n",
    "\n",
    "# Truncate after product to recover MPS structure\n",
    "inds3 = uniqueinds(ψ1[site1],ψ1[site2]) # Finds indices unique to ψ1[site1]\n",
    "U,S,V = svd(wf,inds3,cutoff=1E-12) # These indices will go into U when the SVD is done\n",
    "ψ1[site1] = U;\n",
    "ψ1[site2] = S*V;"
   ]
  },
  {
   "cell_type": "markdown",
   "id": "1819f882",
   "metadata": {},
   "source": [
    "Hadamard product"
   ]
  },
  {
   "cell_type": "code",
   "execution_count": 22,
   "id": "3187b291",
   "metadata": {
    "scrolled": false
   },
   "outputs": [
    {
     "data": {
      "image/png": "[encoded data removed]",
      "image/svg+xml": [
       "<?xml version=\"1.0\" encoding=\"utf-8\"?>\n",
       "<svg xmlns=\"http://www.w3.org/2000/svg\" xmlns:xlink=\"http://www.w3.org/1999/xlink\" width=\"600\" height=\"400\" viewBox=\"0 0 2400 1600\">\n",
       "<defs>\n",
       "  <clipPath id=\"clip690\">\n",
       "    <rect x=\"0\" y=\"0\" width=\"2400\" height=\"1600\"/>\n",
       "  </clipPath>\n",
       "</defs>\n",
       "<path clip-path=\"url(#clip690)\" d=\"M0 1600 L2400 1600 L2400 0 L0 0  Z\" fill=\"#ffffff\" fill-rule=\"evenodd\" fill-opacity=\"1\"/>\n",
       "<defs>\n",
       "  <clipPath id=\"clip691\">\n",
       "    <rect x=\"480\" y=\"0\" width=\"1681\" height=\"1600\"/>\n",
       "  </clipPath>\n",
       "</defs>\n",
       "<path clip-path=\"url(#clip690)\" d=\"M178.867 1486.45 L2352.76 1486.45 L2352.76 47.2441 L178.867 47.2441  Z\" fill=\"#ffffff\" fill-rule=\"evenodd\" fill-opacity=\"1\"/>\n",
       "<defs>\n",
       "  <clipPath id=\"clip692\">\n",
       "    <rect x=\"178\" y=\"47\" width=\"2175\" height=\"1440\"/>\n",
       "  </clipPath>\n",
       "</defs>\n",
       "<polyline clip-path=\"url(#clip692)\" style=\"stroke:#000000; stroke-linecap:round; stroke-linejoin:round; stroke-width:2; stroke-opacity:0.1; fill:none\" points=\"240.392,1486.45 240.392,47.2441 \"/>\n",
       "<polyline clip-path=\"url(#clip692)\" style=\"stroke:#000000; stroke-linecap:round; stroke-linejoin:round; stroke-width:2; stroke-opacity:0.1; fill:none\" points=\"566.793,1486.45 566.793,47.2441 \"/>\n",
       "<polyline clip-path=\"url(#clip692)\" style=\"stroke:#000000; stroke-linecap:round; stroke-linejoin:round; stroke-width:2; stroke-opacity:0.1; fill:none\" points=\"893.194,1486.45 893.194,47.2441 \"/>\n",
       "<polyline clip-path=\"url(#clip692)\" style=\"stroke:#000000; stroke-linecap:round; stroke-linejoin:round; stroke-width:2; stroke-opacity:0.1; fill:none\" points=\"1219.6,1486.45 1219.6,47.2441 \"/>\n",
       "<polyline clip-path=\"url(#clip692)\" style=\"stroke:#000000; stroke-linecap:round; stroke-linejoin:round; stroke-width:2; stroke-opacity:0.1; fill:none\" points=\"1546,1486.45 1546,47.2441 \"/>\n",
       "<polyline clip-path=\"url(#clip692)\" style=\"stroke:#000000; stroke-linecap:round; stroke-linejoin:round; stroke-width:2; stroke-opacity:0.1; fill:none\" points=\"1872.4,1486.45 1872.4,47.2441 \"/>\n",
       "<polyline clip-path=\"url(#clip692)\" style=\"stroke:#000000; stroke-linecap:round; stroke-linejoin:round; stroke-width:2; stroke-opacity:0.1; fill:none\" points=\"2198.8,1486.45 2198.8,47.2441 \"/>\n",
       "<polyline clip-path=\"url(#clip692)\" style=\"stroke:#000000; stroke-linecap:round; stroke-linejoin:round; stroke-width:2; stroke-opacity:0.1; fill:none\" points=\"178.867,1316.3 2352.76,1316.3 \"/>\n",
       "<polyline clip-path=\"url(#clip692)\" style=\"stroke:#000000; stroke-linecap:round; stroke-linejoin:round; stroke-width:2; stroke-opacity:0.1; fill:none\" points=\"178.867,976.67 2352.76,976.67 \"/>\n",
       "<polyline clip-path=\"url(#clip692)\" style=\"stroke:#000000; stroke-linecap:round; stroke-linejoin:round; stroke-width:2; stroke-opacity:0.1; fill:none\" points=\"178.867,637.038 2352.76,637.038 \"/>\n",
       "<polyline clip-path=\"url(#clip692)\" style=\"stroke:#000000; stroke-linecap:round; stroke-linejoin:round; stroke-width:2; stroke-opacity:0.1; fill:none\" points=\"178.867,297.405 2352.76,297.405 \"/>\n",
       "<polyline clip-path=\"url(#clip690)\" style=\"stroke:#000000; stroke-linecap:round; stroke-linejoin:round; stroke-width:4; stroke-opacity:1; fill:none\" points=\"178.867,1486.45 2352.76,1486.45 \"/>\n",
       "<polyline clip-path=\"url(#clip690)\" style=\"stroke:#000000; stroke-linecap:round; stroke-linejoin:round; stroke-width:4; stroke-opacity:1; fill:none\" points=\"240.392,1486.45 240.392,1467.55 \"/>\n",
       "<polyline clip-path=\"url(#clip690)\" style=\"stroke:#000000; stroke-linecap:round; stroke-linejoin:round; stroke-width:4; stroke-opacity:1; fill:none\" points=\"566.793,1486.45 566.793,1467.55 \"/>\n",
       "<polyline clip-path=\"url(#clip690)\" style=\"stroke:#000000; stroke-linecap:round; stroke-linejoin:round; stroke-width:4; stroke-opacity:1; fill:none\" points=\"893.194,1486.45 893.194,1467.55 \"/>\n",
       "<polyline clip-path=\"url(#clip690)\" style=\"stroke:#000000; stroke-linecap:round; stroke-linejoin:round; stroke-width:4; stroke-opacity:1; fill:none\" points=\"1219.6,1486.45 1219.6,1467.55 \"/>\n",
       "<polyline clip-path=\"url(#clip690)\" style=\"stroke:#000000; stroke-linecap:round; stroke-linejoin:round; stroke-width:4; stroke-opacity:1; fill:none\" points=\"1546,1486.45 1546,1467.55 \"/>\n",
       "<polyline clip-path=\"url(#clip690)\" style=\"stroke:#000000; stroke-linecap:round; stroke-linejoin:round; stroke-width:4; stroke-opacity:1; fill:none\" points=\"1872.4,1486.45 1872.4,1467.55 \"/>\n",
       "<polyline clip-path=\"url(#clip690)\" style=\"stroke:#000000; stroke-linecap:round; stroke-linejoin:round; stroke-width:4; stroke-opacity:1; fill:none\" points=\"2198.8,1486.45 2198.8,1467.55 \"/>\n",
       "<path clip-path=\"url(#clip690)\" d=\"M240.392 1517.37 Q236.781 1517.37 234.952 1520.93 Q233.146 1524.47 233.146 1531.6 Q233.146 1538.71 234.952 1542.27 Q236.781 1545.82 240.392 1545.82 Q244.026 1545.82 245.832 1542.27 Q247.66 1538.71 247.66 1531.6 Q247.66 1524.47 245.832 1520.93 Q244.026 1517.37 240.392 1517.37 M240.392 1513.66 Q246.202 1513.66 249.257 1518.27 Q252.336 1522.85 252.336 1531.6 Q252.336 1540.33 249.257 1544.94 Q246.202 1549.52 240.392 1549.52 Q234.582 1549.52 231.503 1544.94 Q228.447 1540.33 228.447 1531.6 Q228.447 1522.85 231.503 1518.27 Q234.582 1513.66 240.392 1513.66 Z\" fill=\"#000000\" fill-rule=\"nonzero\" fill-opacity=\"1\" /><path clip-path=\"url(#clip690)\" d=\"M557.175 1544.91 L564.814 1544.91 L564.814 1518.55 L556.504 1520.21 L556.504 1515.95 L564.768 1514.29 L569.443 1514.29 L569.443 1544.91 L577.082 1544.91 L577.082 1548.85 L557.175 1548.85 L557.175 1544.91 Z\" fill=\"#000000\" fill-rule=\"nonzero\" fill-opacity=\"1\" /><path clip-path=\"url(#clip690)\" d=\"M887.847 1544.91 L904.166 1544.91 L904.166 1548.85 L882.222 1548.85 L882.222 1544.91 Q884.884 1542.16 889.467 1537.53 Q894.074 1532.88 895.254 1531.53 Q897.5 1529.01 898.379 1527.27 Q899.282 1525.51 899.282 1523.82 Q899.282 1521.07 897.338 1519.33 Q895.416 1517.6 892.314 1517.6 Q890.115 1517.6 887.662 1518.36 Q885.231 1519.13 882.453 1520.68 L882.453 1515.95 Q885.277 1514.82 887.731 1514.24 Q890.185 1513.66 892.222 1513.66 Q897.592 1513.66 900.787 1516.35 Q903.981 1519.03 903.981 1523.52 Q903.981 1525.65 903.171 1527.57 Q902.384 1529.47 900.277 1532.07 Q899.699 1532.74 896.597 1535.95 Q893.495 1539.15 887.847 1544.91 Z\" fill=\"#000000\" fill-rule=\"nonzero\" fill-opacity=\"1\" /><path clip-path=\"url(#clip690)\" d=\"M1223.84 1530.21 Q1227.2 1530.93 1229.07 1533.2 Q1230.97 1535.47 1230.97 1538.8 Q1230.97 1543.92 1227.45 1546.72 Q1223.94 1549.52 1217.45 1549.52 Q1215.28 1549.52 1212.96 1549.08 Q1210.67 1548.66 1208.22 1547.81 L1208.22 1543.29 Q1210.16 1544.43 1212.48 1545.01 Q1214.79 1545.58 1217.32 1545.58 Q1221.71 1545.58 1224 1543.85 Q1226.32 1542.11 1226.32 1538.8 Q1226.32 1535.75 1224.17 1534.03 Q1222.04 1532.3 1218.22 1532.3 L1214.19 1532.3 L1214.19 1528.45 L1218.4 1528.45 Q1221.85 1528.45 1223.68 1527.09 Q1225.51 1525.7 1225.51 1523.11 Q1225.51 1520.45 1223.61 1519.03 Q1221.74 1517.6 1218.22 1517.6 Q1216.3 1517.6 1214.1 1518.01 Q1211.9 1518.43 1209.26 1519.31 L1209.26 1515.14 Q1211.92 1514.4 1214.24 1514.03 Q1216.57 1513.66 1218.63 1513.66 Q1223.96 1513.66 1227.06 1516.09 Q1230.16 1518.5 1230.16 1522.62 Q1230.16 1525.49 1228.52 1527.48 Q1226.88 1529.45 1223.84 1530.21 Z\" fill=\"#000000\" fill-rule=\"nonzero\" fill-opacity=\"1\" /><path clip-path=\"url(#clip690)\" d=\"M1549.01 1518.36 L1537.2 1536.81 L1549.01 1536.81 L1549.01 1518.36 M1547.78 1514.29 L1553.66 1514.29 L1553.66 1536.81 L1558.59 1536.81 L1558.59 1540.7 L1553.66 1540.7 L1553.66 1548.85 L1549.01 1548.85 L1549.01 1540.7 L1533.4 1540.7 L1533.4 1536.19 L1547.78 1514.29 Z\" fill=\"#000000\" fill-rule=\"nonzero\" fill-opacity=\"1\" /><path clip-path=\"url(#clip690)\" d=\"M1862.68 1514.29 L1881.03 1514.29 L1881.03 1518.22 L1866.96 1518.22 L1866.96 1526.7 Q1867.98 1526.35 1868.99 1526.19 Q1870.01 1526 1871.03 1526 Q1876.82 1526 1880.2 1529.17 Q1883.58 1532.34 1883.58 1537.76 Q1883.58 1543.34 1880.11 1546.44 Q1876.63 1549.52 1870.31 1549.52 Q1868.14 1549.52 1865.87 1549.15 Q1863.62 1548.78 1861.22 1548.04 L1861.22 1543.34 Q1863.3 1544.47 1865.52 1545.03 Q1867.74 1545.58 1870.22 1545.58 Q1874.23 1545.58 1876.56 1543.48 Q1878.9 1541.37 1878.9 1537.76 Q1878.9 1534.15 1876.56 1532.04 Q1874.23 1529.94 1870.22 1529.94 Q1868.35 1529.94 1866.47 1530.35 Q1864.62 1530.77 1862.68 1531.65 L1862.68 1514.29 Z\" fill=\"#000000\" fill-rule=\"nonzero\" fill-opacity=\"1\" /><path clip-path=\"url(#clip690)\" d=\"M2199.2 1529.7 Q2196.06 1529.7 2194.2 1531.86 Q2192.38 1534.01 2192.38 1537.76 Q2192.38 1541.49 2194.2 1543.66 Q2196.06 1545.82 2199.2 1545.82 Q2202.35 1545.82 2204.18 1543.66 Q2206.03 1541.49 2206.03 1537.76 Q2206.03 1534.01 2204.18 1531.86 Q2202.35 1529.7 2199.2 1529.7 M2208.49 1515.05 L2208.49 1519.31 Q2206.73 1518.48 2204.92 1518.04 Q2203.14 1517.6 2201.38 1517.6 Q2196.75 1517.6 2194.3 1520.72 Q2191.87 1523.85 2191.52 1530.17 Q2192.88 1528.15 2194.94 1527.09 Q2197 1526 2199.48 1526 Q2204.69 1526 2207.7 1529.17 Q2210.73 1532.32 2210.73 1537.76 Q2210.73 1543.08 2207.58 1546.3 Q2204.44 1549.52 2199.2 1549.52 Q2193.21 1549.52 2190.04 1544.94 Q2186.87 1540.33 2186.87 1531.6 Q2186.87 1523.41 2190.75 1518.55 Q2194.64 1513.66 2201.19 1513.66 Q2202.95 1513.66 2204.74 1514.01 Q2206.54 1514.36 2208.49 1515.05 Z\" fill=\"#000000\" fill-rule=\"nonzero\" fill-opacity=\"1\" /><polyline clip-path=\"url(#clip690)\" style=\"stroke:#000000; stroke-linecap:round; stroke-linejoin:round; stroke-width:4; stroke-opacity:1; fill:none\" points=\"178.867,1486.45 178.867,47.2441 \"/>\n",
       "<polyline clip-path=\"url(#clip690)\" style=\"stroke:#000000; stroke-linecap:round; stroke-linejoin:round; stroke-width:4; stroke-opacity:1; fill:none\" points=\"178.867,1316.3 197.764,1316.3 \"/>\n",
       "<polyline clip-path=\"url(#clip690)\" style=\"stroke:#000000; stroke-linecap:round; stroke-linejoin:round; stroke-width:4; stroke-opacity:1; fill:none\" points=\"178.867,976.67 197.764,976.67 \"/>\n",
       "<polyline clip-path=\"url(#clip690)\" style=\"stroke:#000000; stroke-linecap:round; stroke-linejoin:round; stroke-width:4; stroke-opacity:1; fill:none\" points=\"178.867,637.038 197.764,637.038 \"/>\n",
       "<polyline clip-path=\"url(#clip690)\" style=\"stroke:#000000; stroke-linecap:round; stroke-linejoin:round; stroke-width:4; stroke-opacity:1; fill:none\" points=\"178.867,297.405 197.764,297.405 \"/>\n",
       "<path clip-path=\"url(#clip690)\" d=\"M51.9875 1316.75 L81.6633 1316.75 L81.6633 1320.69 L51.9875 1320.69 L51.9875 1316.75 Z\" fill=\"#000000\" fill-rule=\"nonzero\" fill-opacity=\"1\" /><path clip-path=\"url(#clip690)\" d=\"M92.566 1329.65 L100.205 1329.65 L100.205 1303.28 L91.8947 1304.95 L91.8947 1300.69 L100.159 1299.02 L104.834 1299.02 L104.834 1329.65 L112.473 1329.65 L112.473 1333.58 L92.566 1333.58 L92.566 1329.65 Z\" fill=\"#000000\" fill-rule=\"nonzero\" fill-opacity=\"1\" /><path clip-path=\"url(#clip690)\" d=\"M121.964 1299.02 L140.32 1299.02 L140.32 1302.96 L126.246 1302.96 L126.246 1311.43 Q127.265 1311.08 128.283 1310.92 Q129.302 1310.74 130.32 1310.74 Q136.107 1310.74 139.487 1313.91 Q142.867 1317.08 142.867 1322.49 Q142.867 1328.07 139.394 1331.18 Q135.922 1334.25 129.603 1334.25 Q127.427 1334.25 125.158 1333.88 Q122.913 1333.51 120.506 1332.77 L120.506 1328.07 Q122.589 1329.21 124.811 1329.76 Q127.033 1330.32 129.51 1330.32 Q133.515 1330.32 135.853 1328.21 Q138.191 1326.11 138.191 1322.49 Q138.191 1318.88 135.853 1316.78 Q133.515 1314.67 129.51 1314.67 Q127.635 1314.67 125.76 1315.09 Q123.908 1315.5 121.964 1316.38 L121.964 1299.02 Z\" fill=\"#000000\" fill-rule=\"nonzero\" fill-opacity=\"1\" /><path clip-path=\"url(#clip690)\" d=\"M50.9921 977.121 L80.6679 977.121 L80.6679 981.057 L50.9921 981.057 L50.9921 977.121 Z\" fill=\"#000000\" fill-rule=\"nonzero\" fill-opacity=\"1\" /><path clip-path=\"url(#clip690)\" d=\"M91.5706 990.015 L99.2095 990.015 L99.2095 963.649 L90.8993 965.316 L90.8993 961.057 L99.1632 959.39 L103.839 959.39 L103.839 990.015 L111.478 990.015 L111.478 993.95 L91.5706 993.95 L91.5706 990.015 Z\" fill=\"#000000\" fill-rule=\"nonzero\" fill-opacity=\"1\" /><path clip-path=\"url(#clip690)\" d=\"M130.922 962.469 Q127.311 962.469 125.482 966.034 Q123.677 969.575 123.677 976.705 Q123.677 983.811 125.482 987.376 Q127.311 990.918 130.922 990.918 Q134.556 990.918 136.362 987.376 Q138.191 983.811 138.191 976.705 Q138.191 969.575 136.362 966.034 Q134.556 962.469 130.922 962.469 M130.922 958.765 Q136.732 958.765 139.788 963.372 Q142.867 967.955 142.867 976.705 Q142.867 985.432 139.788 990.038 Q136.732 994.621 130.922 994.621 Q125.112 994.621 122.033 990.038 Q118.978 985.432 118.978 976.705 Q118.978 967.955 122.033 963.372 Q125.112 958.765 130.922 958.765 Z\" fill=\"#000000\" fill-rule=\"nonzero\" fill-opacity=\"1\" /><path clip-path=\"url(#clip690)\" d=\"M82.1494 637.489 L111.825 637.489 L111.825 641.424 L82.1494 641.424 L82.1494 637.489 Z\" fill=\"#000000\" fill-rule=\"nonzero\" fill-opacity=\"1\" /><path clip-path=\"url(#clip690)\" d=\"M121.964 619.758 L140.32 619.758 L140.32 623.693 L126.246 623.693 L126.246 632.165 Q127.265 631.818 128.283 631.656 Q129.302 631.47 130.32 631.47 Q136.107 631.47 139.487 634.642 Q142.867 637.813 142.867 643.23 Q142.867 648.808 139.394 651.91 Q135.922 654.989 129.603 654.989 Q127.427 654.989 125.158 654.619 Q122.913 654.248 120.506 653.507 L120.506 648.808 Q122.589 649.943 124.811 650.498 Q127.033 651.054 129.51 651.054 Q133.515 651.054 135.853 648.947 Q138.191 646.841 138.191 643.23 Q138.191 639.619 135.853 637.512 Q133.515 635.406 129.51 635.406 Q127.635 635.406 125.76 635.822 Q123.908 636.239 121.964 637.119 L121.964 619.758 Z\" fill=\"#000000\" fill-rule=\"nonzero\" fill-opacity=\"1\" /><path clip-path=\"url(#clip690)\" d=\"M130.922 283.204 Q127.311 283.204 125.482 286.769 Q123.677 290.31 123.677 297.44 Q123.677 304.546 125.482 308.111 Q127.311 311.653 130.922 311.653 Q134.556 311.653 136.362 308.111 Q138.191 304.546 138.191 297.44 Q138.191 290.31 136.362 286.769 Q134.556 283.204 130.922 283.204 M130.922 279.5 Q136.732 279.5 139.788 284.107 Q142.867 288.69 142.867 297.44 Q142.867 306.167 139.788 310.773 Q136.732 315.356 130.922 315.356 Q125.112 315.356 122.033 310.773 Q118.978 306.167 118.978 297.44 Q118.978 288.69 122.033 284.107 Q125.112 279.5 130.922 279.5 Z\" fill=\"#000000\" fill-rule=\"nonzero\" fill-opacity=\"1\" /><polyline clip-path=\"url(#clip692)\" style=\"stroke:#009af9; stroke-linecap:round; stroke-linejoin:round; stroke-width:4; stroke-opacity:1; fill:none\" points=\"240.392,297.405 256.54,297.237 272.688,296.725 288.837,295.858 304.985,294.628 321.133,293.028 337.282,291.053 353.43,288.698 369.579,285.962 385.727,282.845 401.875,279.348 418.024,275.476 434.172,271.236 450.32,266.634 466.469,261.682 482.617,256.392 498.765,250.778 514.914,244.859 531.062,238.653 547.21,232.182 563.359,225.469 579.507,218.541 595.655,211.425 611.804,204.153 627.952,196.757 644.1,189.271 660.249,181.732 676.397,174.178 692.545,166.65 708.694,159.19 724.842,151.841 740.99,144.65 757.139,137.662 773.287,130.926 789.435,124.491 805.584,118.406 821.732,112.724 837.88,107.495 854.029,102.772 870.177,98.6065 886.325,95.0515 902.474,92.1593 918.622,89.9818 934.77,88.5705 950.919,87.9763 967.067,88.2488 983.215,89.4367 999.364,91.587 1015.51,94.7452 1031.66,98.9548 1047.81,104.257 1063.96,110.691 1080.11,118.293 1096.25,127.096 1112.4,137.131 1128.55,148.424 1144.7,160.998 1160.85,174.874 1177,190.065 1193.14,206.584 1209.29,224.437 1225.44,243.625 1241.59,264.146 1257.74,285.99 1273.89,309.145 1290.03,333.592 1306.18,359.305 1322.33,386.255 1338.48,414.405 1354.63,443.713 1370.78,474.131 1386.92,505.605 1403.07,538.073 1419.22,571.47 1435.37,605.721 1451.52,640.749 1467.67,676.466 1483.81,712.783 1499.96,749.6 1516.11,786.814 1532.26,824.316 1548.41,861.99 1564.56,899.715 1580.7,937.365 1596.85,974.808 1613,1011.91 1629.15,1048.52 1645.3,1084.51 1661.45,1119.72 1677.59,1153.99 1693.74,1187.18 1709.89,1219.12 1726.04,1249.65 1742.19,1278.6 1758.34,1305.82 1774.48,1331.13 1790.63,1354.36 1806.78,1375.36 1822.93,1393.94 1839.08,1409.95 1855.23,1423.22 1871.37,1433.59 1887.52,1440.9 1903.67,1444.99 1919.82,1445.72 1935.97,1442.92 1952.12,1436.47 1968.26,1426.23 1984.41,1412.07 2000.56,1393.86 2016.71,1371.49 2032.86,1344.86 2049.01,1313.87 2065.15,1278.44 2081.3,1238.5 2097.45,1193.97 2113.6,1144.81 2129.75,1090.98 2145.9,1032.45 2162.04,969.214 2178.19,901.273 2194.34,828.644 2210.49,751.361 2226.64,669.471 2242.79,583.041 2258.93,492.151 2275.08,396.9 2291.23,297.405 \"/>\n",
       "<path clip-path=\"url(#clip690)\" d=\"M251.33 1438.47 L521.149 1438.47 L521.149 1334.79 L251.33 1334.79  Z\" fill=\"#ffffff\" fill-rule=\"evenodd\" fill-opacity=\"1\"/>\n",
       "<polyline clip-path=\"url(#clip690)\" style=\"stroke:#000000; stroke-linecap:round; stroke-linejoin:round; stroke-width:4; stroke-opacity:1; fill:none\" points=\"251.33,1438.47 521.149,1438.47 521.149,1334.79 251.33,1334.79 251.33,1438.47 \"/>\n",
       "<polyline clip-path=\"url(#clip690)\" style=\"stroke:#009af9; stroke-linecap:round; stroke-linejoin:round; stroke-width:4; stroke-opacity:1; fill:none\" points=\"275.484,1386.63 420.41,1386.63 \"/>\n",
       "<path clip-path=\"url(#clip690)\" d=\"M458.407 1406.32 Q456.601 1410.95 454.888 1412.36 Q453.175 1413.78 450.305 1413.78 L446.902 1413.78 L446.902 1410.21 L449.402 1410.21 Q451.161 1410.21 452.134 1409.38 Q453.106 1408.54 454.286 1405.44 L455.05 1403.5 L444.564 1377.99 L449.078 1377.99 L457.18 1398.27 L465.282 1377.99 L469.796 1377.99 L458.407 1406.32 Z\" fill=\"#000000\" fill-rule=\"nonzero\" fill-opacity=\"1\" /><path clip-path=\"url(#clip690)\" d=\"M477.087 1399.98 L484.726 1399.98 L484.726 1373.61 L476.416 1375.28 L476.416 1371.02 L484.68 1369.35 L489.356 1369.35 L489.356 1399.98 L496.994 1399.98 L496.994 1403.91 L477.087 1403.91 L477.087 1399.98 Z\" fill=\"#000000\" fill-rule=\"nonzero\" fill-opacity=\"1\" /></svg>\n"
      ],
      "text/html": [
       "<?xml version=\"1.0\" encoding=\"utf-8\"?>\n",
       "<svg xmlns=\"http://www.w3.org/2000/svg\" xmlns:xlink=\"http://www.w3.org/1999/xlink\" width=\"600\" height=\"400\" viewBox=\"0 0 2400 1600\">\n",
       "<defs>\n",
       "  <clipPath id=\"clip740\">\n",
       "    <rect x=\"0\" y=\"0\" width=\"2400\" height=\"1600\"/>\n",
       "  </clipPath>\n",
       "</defs>\n",
       "<path clip-path=\"url(#clip740)\" d=\"M0 1600 L2400 1600 L2400 0 L0 0  Z\" fill=\"#ffffff\" fill-rule=\"evenodd\" fill-opacity=\"1\"/>\n",
       "<defs>\n",
       "  <clipPath id=\"clip741\">\n",
       "    <rect x=\"480\" y=\"0\" width=\"1681\" height=\"1600\"/>\n",
       "  </clipPath>\n",
       "</defs>\n",
       "<path clip-path=\"url(#clip740)\" d=\"M178.867 1486.45 L2352.76 1486.45 L2352.76 47.2441 L178.867 47.2441  Z\" fill=\"#ffffff\" fill-rule=\"evenodd\" fill-opacity=\"1\"/>\n",
       "<defs>\n",
       "  <clipPath id=\"clip742\">\n",
       "    <rect x=\"178\" y=\"47\" width=\"2175\" height=\"1440\"/>\n",
       "  </clipPath>\n",
       "</defs>\n",
       "<polyline clip-path=\"url(#clip742)\" style=\"stroke:#000000; stroke-linecap:round; stroke-linejoin:round; stroke-width:2; stroke-opacity:0.1; fill:none\" points=\"240.392,1486.45 240.392,47.2441 \"/>\n",
       "<polyline clip-path=\"url(#clip742)\" style=\"stroke:#000000; stroke-linecap:round; stroke-linejoin:round; stroke-width:2; stroke-opacity:0.1; fill:none\" points=\"566.793,1486.45 566.793,47.2441 \"/>\n",
       "<polyline clip-path=\"url(#clip742)\" style=\"stroke:#000000; stroke-linecap:round; stroke-linejoin:round; stroke-width:2; stroke-opacity:0.1; fill:none\" points=\"893.194,1486.45 893.194,47.2441 \"/>\n",
       "<polyline clip-path=\"url(#clip742)\" style=\"stroke:#000000; stroke-linecap:round; stroke-linejoin:round; stroke-width:2; stroke-opacity:0.1; fill:none\" points=\"1219.6,1486.45 1219.6,47.2441 \"/>\n",
       "<polyline clip-path=\"url(#clip742)\" style=\"stroke:#000000; stroke-linecap:round; stroke-linejoin:round; stroke-width:2; stroke-opacity:0.1; fill:none\" points=\"1546,1486.45 1546,47.2441 \"/>\n",
       "<polyline clip-path=\"url(#clip742)\" style=\"stroke:#000000; stroke-linecap:round; stroke-linejoin:round; stroke-width:2; stroke-opacity:0.1; fill:none\" points=\"1872.4,1486.45 1872.4,47.2441 \"/>\n",
       "<polyline clip-path=\"url(#clip742)\" style=\"stroke:#000000; stroke-linecap:round; stroke-linejoin:round; stroke-width:2; stroke-opacity:0.1; fill:none\" points=\"2198.8,1486.45 2198.8,47.2441 \"/>\n",
       "<polyline clip-path=\"url(#clip742)\" style=\"stroke:#000000; stroke-linecap:round; stroke-linejoin:round; stroke-width:2; stroke-opacity:0.1; fill:none\" points=\"178.867,1316.3 2352.76,1316.3 \"/>\n",
       "<polyline clip-path=\"url(#clip742)\" style=\"stroke:#000000; stroke-linecap:round; stroke-linejoin:round; stroke-width:2; stroke-opacity:0.1; fill:none\" points=\"178.867,976.67 2352.76,976.67 \"/>\n",
       "<polyline clip-path=\"url(#clip742)\" style=\"stroke:#000000; stroke-linecap:round; stroke-linejoin:round; stroke-width:2; stroke-opacity:0.1; fill:none\" points=\"178.867,637.038 2352.76,637.038 \"/>\n",
       "<polyline clip-path=\"url(#clip742)\" style=\"stroke:#000000; stroke-linecap:round; stroke-linejoin:round; stroke-width:2; stroke-opacity:0.1; fill:none\" points=\"178.867,297.405 2352.76,297.405 \"/>\n",
       "<polyline clip-path=\"url(#clip740)\" style=\"stroke:#000000; stroke-linecap:round; stroke-linejoin:round; stroke-width:4; stroke-opacity:1; fill:none\" points=\"178.867,1486.45 2352.76,1486.45 \"/>\n",
       "<polyline clip-path=\"url(#clip740)\" style=\"stroke:#000000; stroke-linecap:round; stroke-linejoin:round; stroke-width:4; stroke-opacity:1; fill:none\" points=\"240.392,1486.45 240.392,1467.55 \"/>\n",
       "<polyline clip-path=\"url(#clip740)\" style=\"stroke:#000000; stroke-linecap:round; stroke-linejoin:round; stroke-width:4; stroke-opacity:1; fill:none\" points=\"566.793,1486.45 566.793,1467.55 \"/>\n",
       "<polyline clip-path=\"url(#clip740)\" style=\"stroke:#000000; stroke-linecap:round; stroke-linejoin:round; stroke-width:4; stroke-opacity:1; fill:none\" points=\"893.194,1486.45 893.194,1467.55 \"/>\n",
       "<polyline clip-path=\"url(#clip740)\" style=\"stroke:#000000; stroke-linecap:round; stroke-linejoin:round; stroke-width:4; stroke-opacity:1; fill:none\" points=\"1219.6,1486.45 1219.6,1467.55 \"/>\n",
       "<polyline clip-path=\"url(#clip740)\" style=\"stroke:#000000; stroke-linecap:round; stroke-linejoin:round; stroke-width:4; stroke-opacity:1; fill:none\" points=\"1546,1486.45 1546,1467.55 \"/>\n",
       "<polyline clip-path=\"url(#clip740)\" style=\"stroke:#000000; stroke-linecap:round; stroke-linejoin:round; stroke-width:4; stroke-opacity:1; fill:none\" points=\"1872.4,1486.45 1872.4,1467.55 \"/>\n",
       "<polyline clip-path=\"url(#clip740)\" style=\"stroke:#000000; stroke-linecap:round; stroke-linejoin:round; stroke-width:4; stroke-opacity:1; fill:none\" points=\"2198.8,1486.45 2198.8,1467.55 \"/>\n",
       "<path clip-path=\"url(#clip740)\" d=\"M240.392 1517.37 Q236.781 1517.37 234.952 1520.93 Q233.146 1524.47 233.146 1531.6 Q233.146 1538.71 234.952 1542.27 Q236.781 1545.82 240.392 1545.82 Q244.026 1545.82 245.832 1542.27 Q247.66 1538.71 247.66 1531.6 Q247.66 1524.47 245.832 1520.93 Q244.026 1517.37 240.392 1517.37 M240.392 1513.66 Q246.202 1513.66 249.257 1518.27 Q252.336 1522.85 252.336 1531.6 Q252.336 1540.33 249.257 1544.94 Q246.202 1549.52 240.392 1549.52 Q234.582 1549.52 231.503 1544.94 Q228.447 1540.33 228.447 1531.6 Q228.447 1522.85 231.503 1518.27 Q234.582 1513.66 240.392 1513.66 Z\" fill=\"#000000\" fill-rule=\"nonzero\" fill-opacity=\"1\" /><path clip-path=\"url(#clip740)\" d=\"M557.175 1544.91 L564.814 1544.91 L564.814 1518.55 L556.504 1520.21 L556.504 1515.95 L564.768 1514.29 L569.443 1514.29 L569.443 1544.91 L577.082 1544.91 L577.082 1548.85 L557.175 1548.85 L557.175 1544.91 Z\" fill=\"#000000\" fill-rule=\"nonzero\" fill-opacity=\"1\" /><path clip-path=\"url(#clip740)\" d=\"M887.847 1544.91 L904.166 1544.91 L904.166 1548.85 L882.222 1548.85 L882.222 1544.91 Q884.884 1542.16 889.467 1537.53 Q894.074 1532.88 895.254 1531.53 Q897.5 1529.01 898.379 1527.27 Q899.282 1525.51 899.282 1523.82 Q899.282 1521.07 897.338 1519.33 Q895.416 1517.6 892.314 1517.6 Q890.115 1517.6 887.662 1518.36 Q885.231 1519.13 882.453 1520.68 L882.453 1515.95 Q885.277 1514.82 887.731 1514.24 Q890.185 1513.66 892.222 1513.66 Q897.592 1513.66 900.787 1516.35 Q903.981 1519.03 903.981 1523.52 Q903.981 1525.65 903.171 1527.57 Q902.384 1529.47 900.277 1532.07 Q899.699 1532.74 896.597 1535.95 Q893.495 1539.15 887.847 1544.91 Z\" fill=\"#000000\" fill-rule=\"nonzero\" fill-opacity=\"1\" /><path clip-path=\"url(#clip740)\" d=\"M1223.84 1530.21 Q1227.2 1530.93 1229.07 1533.2 Q1230.97 1535.47 1230.97 1538.8 Q1230.97 1543.92 1227.45 1546.72 Q1223.94 1549.52 1217.45 1549.52 Q1215.28 1549.52 1212.96 1549.08 Q1210.67 1548.66 1208.22 1547.81 L1208.22 1543.29 Q1210.16 1544.43 1212.48 1545.01 Q1214.79 1545.58 1217.32 1545.58 Q1221.71 1545.58 1224 1543.85 Q1226.32 1542.11 1226.32 1538.8 Q1226.32 1535.75 1224.17 1534.03 Q1222.04 1532.3 1218.22 1532.3 L1214.19 1532.3 L1214.19 1528.45 L1218.4 1528.45 Q1221.85 1528.45 1223.68 1527.09 Q1225.51 1525.7 1225.51 1523.11 Q1225.51 1520.45 1223.61 1519.03 Q1221.74 1517.6 1218.22 1517.6 Q1216.3 1517.6 1214.1 1518.01 Q1211.9 1518.43 1209.26 1519.31 L1209.26 1515.14 Q1211.92 1514.4 1214.24 1514.03 Q1216.57 1513.66 1218.63 1513.66 Q1223.96 1513.66 1227.06 1516.09 Q1230.16 1518.5 1230.16 1522.62 Q1230.16 1525.49 1228.52 1527.48 Q1226.88 1529.45 1223.84 1530.21 Z\" fill=\"#000000\" fill-rule=\"nonzero\" fill-opacity=\"1\" /><path clip-path=\"url(#clip740)\" d=\"M1549.01 1518.36 L1537.2 1536.81 L1549.01 1536.81 L1549.01 1518.36 M1547.78 1514.29 L1553.66 1514.29 L1553.66 1536.81 L1558.59 1536.81 L1558.59 1540.7 L1553.66 1540.7 L1553.66 1548.85 L1549.01 1548.85 L1549.01 1540.7 L1533.4 1540.7 L1533.4 1536.19 L1547.78 1514.29 Z\" fill=\"#000000\" fill-rule=\"nonzero\" fill-opacity=\"1\" /><path clip-path=\"url(#clip740)\" d=\"M1862.68 1514.29 L1881.03 1514.29 L1881.03 1518.22 L1866.96 1518.22 L1866.96 1526.7 Q1867.98 1526.35 1868.99 1526.19 Q1870.01 1526 1871.03 1526 Q1876.82 1526 1880.2 1529.17 Q1883.58 1532.34 1883.58 1537.76 Q1883.58 1543.34 1880.11 1546.44 Q1876.63 1549.52 1870.31 1549.52 Q1868.14 1549.52 1865.87 1549.15 Q1863.62 1548.78 1861.22 1548.04 L1861.22 1543.34 Q1863.3 1544.47 1865.52 1545.03 Q1867.74 1545.58 1870.22 1545.58 Q1874.23 1545.58 1876.56 1543.48 Q1878.9 1541.37 1878.9 1537.76 Q1878.9 1534.15 1876.56 1532.04 Q1874.23 1529.94 1870.22 1529.94 Q1868.35 1529.94 1866.47 1530.35 Q1864.62 1530.77 1862.68 1531.65 L1862.68 1514.29 Z\" fill=\"#000000\" fill-rule=\"nonzero\" fill-opacity=\"1\" /><path clip-path=\"url(#clip740)\" d=\"M2199.2 1529.7 Q2196.06 1529.7 2194.2 1531.86 Q2192.38 1534.01 2192.38 1537.76 Q2192.38 1541.49 2194.2 1543.66 Q2196.06 1545.82 2199.2 1545.82 Q2202.35 1545.82 2204.18 1543.66 Q2206.03 1541.49 2206.03 1537.76 Q2206.03 1534.01 2204.18 1531.86 Q2202.35 1529.7 2199.2 1529.7 M2208.49 1515.05 L2208.49 1519.31 Q2206.73 1518.48 2204.92 1518.04 Q2203.14 1517.6 2201.38 1517.6 Q2196.75 1517.6 2194.3 1520.72 Q2191.87 1523.85 2191.52 1530.17 Q2192.88 1528.15 2194.94 1527.09 Q2197 1526 2199.48 1526 Q2204.69 1526 2207.7 1529.17 Q2210.73 1532.32 2210.73 1537.76 Q2210.73 1543.08 2207.58 1546.3 Q2204.44 1549.52 2199.2 1549.52 Q2193.21 1549.52 2190.04 1544.94 Q2186.87 1540.33 2186.87 1531.6 Q2186.87 1523.41 2190.75 1518.55 Q2194.64 1513.66 2201.19 1513.66 Q2202.95 1513.66 2204.74 1514.01 Q2206.54 1514.36 2208.49 1515.05 Z\" fill=\"#000000\" fill-rule=\"nonzero\" fill-opacity=\"1\" /><polyline clip-path=\"url(#clip740)\" style=\"stroke:#000000; stroke-linecap:round; stroke-linejoin:round; stroke-width:4; stroke-opacity:1; fill:none\" points=\"178.867,1486.45 178.867,47.2441 \"/>\n",
       "<polyline clip-path=\"url(#clip740)\" style=\"stroke:#000000; stroke-linecap:round; stroke-linejoin:round; stroke-width:4; stroke-opacity:1; fill:none\" points=\"178.867,1316.3 197.764,1316.3 \"/>\n",
       "<polyline clip-path=\"url(#clip740)\" style=\"stroke:#000000; stroke-linecap:round; stroke-linejoin:round; stroke-width:4; stroke-opacity:1; fill:none\" points=\"178.867,976.67 197.764,976.67 \"/>\n",
       "<polyline clip-path=\"url(#clip740)\" style=\"stroke:#000000; stroke-linecap:round; stroke-linejoin:round; stroke-width:4; stroke-opacity:1; fill:none\" points=\"178.867,637.038 197.764,637.038 \"/>\n",
       "<polyline clip-path=\"url(#clip740)\" style=\"stroke:#000000; stroke-linecap:round; stroke-linejoin:round; stroke-width:4; stroke-opacity:1; fill:none\" points=\"178.867,297.405 197.764,297.405 \"/>\n",
       "<path clip-path=\"url(#clip740)\" d=\"M51.9875 1316.75 L81.6633 1316.75 L81.6633 1320.69 L51.9875 1320.69 L51.9875 1316.75 Z\" fill=\"#000000\" fill-rule=\"nonzero\" fill-opacity=\"1\" /><path clip-path=\"url(#clip740)\" d=\"M92.566 1329.65 L100.205 1329.65 L100.205 1303.28 L91.8947 1304.95 L91.8947 1300.69 L100.159 1299.02 L104.834 1299.02 L104.834 1329.65 L112.473 1329.65 L112.473 1333.58 L92.566 1333.58 L92.566 1329.65 Z\" fill=\"#000000\" fill-rule=\"nonzero\" fill-opacity=\"1\" /><path clip-path=\"url(#clip740)\" d=\"M121.964 1299.02 L140.32 1299.02 L140.32 1302.96 L126.246 1302.96 L126.246 1311.43 Q127.265 1311.08 128.283 1310.92 Q129.302 1310.74 130.32 1310.74 Q136.107 1310.74 139.487 1313.91 Q142.867 1317.08 142.867 1322.49 Q142.867 1328.07 139.394 1331.18 Q135.922 1334.25 129.603 1334.25 Q127.427 1334.25 125.158 1333.88 Q122.913 1333.51 120.506 1332.77 L120.506 1328.07 Q122.589 1329.21 124.811 1329.76 Q127.033 1330.32 129.51 1330.32 Q133.515 1330.32 135.853 1328.21 Q138.191 1326.11 138.191 1322.49 Q138.191 1318.88 135.853 1316.78 Q133.515 1314.67 129.51 1314.67 Q127.635 1314.67 125.76 1315.09 Q123.908 1315.5 121.964 1316.38 L121.964 1299.02 Z\" fill=\"#000000\" fill-rule=\"nonzero\" fill-opacity=\"1\" /><path clip-path=\"url(#clip740)\" d=\"M50.9921 977.121 L80.6679 977.121 L80.6679 981.057 L50.9921 981.057 L50.9921 977.121 Z\" fill=\"#000000\" fill-rule=\"nonzero\" fill-opacity=\"1\" /><path clip-path=\"url(#clip740)\" d=\"M91.5706 990.015 L99.2095 990.015 L99.2095 963.649 L90.8993 965.316 L90.8993 961.057 L99.1632 959.39 L103.839 959.39 L103.839 990.015 L111.478 990.015 L111.478 993.95 L91.5706 993.95 L91.5706 990.015 Z\" fill=\"#000000\" fill-rule=\"nonzero\" fill-opacity=\"1\" /><path clip-path=\"url(#clip740)\" d=\"M130.922 962.469 Q127.311 962.469 125.482 966.034 Q123.677 969.575 123.677 976.705 Q123.677 983.811 125.482 987.376 Q127.311 990.918 130.922 990.918 Q134.556 990.918 136.362 987.376 Q138.191 983.811 138.191 976.705 Q138.191 969.575 136.362 966.034 Q134.556 962.469 130.922 962.469 M130.922 958.765 Q136.732 958.765 139.788 963.372 Q142.867 967.955 142.867 976.705 Q142.867 985.432 139.788 990.038 Q136.732 994.621 130.922 994.621 Q125.112 994.621 122.033 990.038 Q118.978 985.432 118.978 976.705 Q118.978 967.955 122.033 963.372 Q125.112 958.765 130.922 958.765 Z\" fill=\"#000000\" fill-rule=\"nonzero\" fill-opacity=\"1\" /><path clip-path=\"url(#clip740)\" d=\"M82.1494 637.489 L111.825 637.489 L111.825 641.424 L82.1494 641.424 L82.1494 637.489 Z\" fill=\"#000000\" fill-rule=\"nonzero\" fill-opacity=\"1\" /><path clip-path=\"url(#clip740)\" d=\"M121.964 619.758 L140.32 619.758 L140.32 623.693 L126.246 623.693 L126.246 632.165 Q127.265 631.818 128.283 631.656 Q129.302 631.47 130.32 631.47 Q136.107 631.47 139.487 634.642 Q142.867 637.813 142.867 643.23 Q142.867 648.808 139.394 651.91 Q135.922 654.989 129.603 654.989 Q127.427 654.989 125.158 654.619 Q122.913 654.248 120.506 653.507 L120.506 648.808 Q122.589 649.943 124.811 650.498 Q127.033 651.054 129.51 651.054 Q133.515 651.054 135.853 648.947 Q138.191 646.841 138.191 643.23 Q138.191 639.619 135.853 637.512 Q133.515 635.406 129.51 635.406 Q127.635 635.406 125.76 635.822 Q123.908 636.239 121.964 637.119 L121.964 619.758 Z\" fill=\"#000000\" fill-rule=\"nonzero\" fill-opacity=\"1\" /><path clip-path=\"url(#clip740)\" d=\"M130.922 283.204 Q127.311 283.204 125.482 286.769 Q123.677 290.31 123.677 297.44 Q123.677 304.546 125.482 308.111 Q127.311 311.653 130.922 311.653 Q134.556 311.653 136.362 308.111 Q138.191 304.546 138.191 297.44 Q138.191 290.31 136.362 286.769 Q134.556 283.204 130.922 283.204 M130.922 279.5 Q136.732 279.5 139.788 284.107 Q142.867 288.69 142.867 297.44 Q142.867 306.167 139.788 310.773 Q136.732 315.356 130.922 315.356 Q125.112 315.356 122.033 310.773 Q118.978 306.167 118.978 297.44 Q118.978 288.69 122.033 284.107 Q125.112 279.5 130.922 279.5 Z\" fill=\"#000000\" fill-rule=\"nonzero\" fill-opacity=\"1\" /><polyline clip-path=\"url(#clip742)\" style=\"stroke:#009af9; stroke-linecap:round; stroke-linejoin:round; stroke-width:4; stroke-opacity:1; fill:none\" points=\"240.392,297.405 256.54,297.237 272.688,296.725 288.837,295.858 304.985,294.628 321.133,293.028 337.282,291.053 353.43,288.698 369.579,285.962 385.727,282.845 401.875,279.348 418.024,275.476 434.172,271.236 450.32,266.634 466.469,261.682 482.617,256.392 498.765,250.778 514.914,244.859 531.062,238.653 547.21,232.182 563.359,225.469 579.507,218.541 595.655,211.425 611.804,204.153 627.952,196.757 644.1,189.271 660.249,181.732 676.397,174.178 692.545,166.65 708.694,159.19 724.842,151.841 740.99,144.65 757.139,137.662 773.287,130.926 789.435,124.491 805.584,118.406 821.732,112.724 837.88,107.495 854.029,102.772 870.177,98.6065 886.325,95.0515 902.474,92.1593 918.622,89.9818 934.77,88.5705 950.919,87.9763 967.067,88.2488 983.215,89.4367 999.364,91.587 1015.51,94.7452 1031.66,98.9548 1047.81,104.257 1063.96,110.691 1080.11,118.293 1096.25,127.096 1112.4,137.131 1128.55,148.424 1144.7,160.998 1160.85,174.874 1177,190.065 1193.14,206.584 1209.29,224.437 1225.44,243.625 1241.59,264.146 1257.74,285.99 1273.89,309.145 1290.03,333.592 1306.18,359.305 1322.33,386.255 1338.48,414.405 1354.63,443.713 1370.78,474.131 1386.92,505.605 1403.07,538.073 1419.22,571.47 1435.37,605.721 1451.52,640.749 1467.67,676.466 1483.81,712.783 1499.96,749.6 1516.11,786.814 1532.26,824.316 1548.41,861.99 1564.56,899.715 1580.7,937.365 1596.85,974.808 1613,1011.91 1629.15,1048.52 1645.3,1084.51 1661.45,1119.72 1677.59,1153.99 1693.74,1187.18 1709.89,1219.12 1726.04,1249.65 1742.19,1278.6 1758.34,1305.82 1774.48,1331.13 1790.63,1354.36 1806.78,1375.36 1822.93,1393.94 1839.08,1409.95 1855.23,1423.22 1871.37,1433.59 1887.52,1440.9 1903.67,1444.99 1919.82,1445.72 1935.97,1442.92 1952.12,1436.47 1968.26,1426.23 1984.41,1412.07 2000.56,1393.86 2016.71,1371.49 2032.86,1344.86 2049.01,1313.87 2065.15,1278.44 2081.3,1238.5 2097.45,1193.97 2113.6,1144.81 2129.75,1090.98 2145.9,1032.45 2162.04,969.214 2178.19,901.273 2194.34,828.644 2210.49,751.361 2226.64,669.471 2242.79,583.041 2258.93,492.151 2275.08,396.9 2291.23,297.405 \"/>\n",
       "<path clip-path=\"url(#clip740)\" d=\"M251.33 1438.47 L521.149 1438.47 L521.149 1334.79 L251.33 1334.79  Z\" fill=\"#ffffff\" fill-rule=\"evenodd\" fill-opacity=\"1\"/>\n",
       "<polyline clip-path=\"url(#clip740)\" style=\"stroke:#000000; stroke-linecap:round; stroke-linejoin:round; stroke-width:4; stroke-opacity:1; fill:none\" points=\"251.33,1438.47 521.149,1438.47 521.149,1334.79 251.33,1334.79 251.33,1438.47 \"/>\n",
       "<polyline clip-path=\"url(#clip740)\" style=\"stroke:#009af9; stroke-linecap:round; stroke-linejoin:round; stroke-width:4; stroke-opacity:1; fill:none\" points=\"275.484,1386.63 420.41,1386.63 \"/>\n",
       "<path clip-path=\"url(#clip740)\" d=\"M458.407 1406.32 Q456.601 1410.95 454.888 1412.36 Q453.175 1413.78 450.305 1413.78 L446.902 1413.78 L446.902 1410.21 L449.402 1410.21 Q451.161 1410.21 452.134 1409.38 Q453.106 1408.54 454.286 1405.44 L455.05 1403.5 L444.564 1377.99 L449.078 1377.99 L457.18 1398.27 L465.282 1377.99 L469.796 1377.99 L458.407 1406.32 Z\" fill=\"#000000\" fill-rule=\"nonzero\" fill-opacity=\"1\" /><path clip-path=\"url(#clip740)\" d=\"M477.087 1399.98 L484.726 1399.98 L484.726 1373.61 L476.416 1375.28 L476.416 1371.02 L484.68 1369.35 L489.356 1369.35 L489.356 1399.98 L496.994 1399.98 L496.994 1403.91 L477.087 1403.91 L477.087 1399.98 Z\" fill=\"#000000\" fill-rule=\"nonzero\" fill-opacity=\"1\" /></svg>\n"
      ]
     },
     "execution_count": 22,
     "metadata": {},
     "output_type": "execute_result"
    }
   ],
   "source": [
    "# Define two functions and their product\n",
    "N = 7; # Number of sites\n",
    "s = siteinds(\"Qubit\", N); # Indices for all sites\n",
    "xs = range(0, 2pi, length=2^N); # Sampling grid points\n",
    "\n",
    "f1(x) = sin(x); # First function\n",
    "ys1 = f1.(xs); # Construction f1(x)\n",
    "\n",
    "f2(x) = x*exp(0.25*x); # Second function\n",
    "ys2 = f2.(xs); # Construction f2(x)\n",
    "\n",
    "f3(x) = f1(x)*f2(x);\n",
    "ys3 = f3.(xs); # Construction f3(x)\n",
    "\n",
    "plot(xs, ys3) # Plotting the original function"
   ]
  },
  {
   "cell_type": "markdown",
   "id": "b6dc48de",
   "metadata": {},
   "source": [
    "Encode the functions and their product as MPS"
   ]
  },
  {
   "cell_type": "code",
   "execution_count": 23,
   "id": "02f49af6",
   "metadata": {},
   "outputs": [
    {
     "name": "stdout",
     "output_type": "stream",
     "text": [
      "linkdims(ψ1) = [2, 2, 2, 2, 2, 2]\n",
      "linkdims(ψ2) = [2, 2, 2, 2, 2, 2]\n",
      "linkdims(ψ3) = [2, 4, 4, 4, 4, 2]\n"
     ]
    }
   ],
   "source": [
    "cutoff = 1E-16;\n",
    "χ = 30;\n",
    "\n",
    "ψ1 = MPS(ys1, s, cutoff=cutoff, maxdim=χ);\n",
    "ψ2 = MPS(ys2, s, cutoff=cutoff, maxdim=χ);\n",
    "ψ3 = MPS(ys3, s, cutoff=cutoff, maxdim=χ);\n",
    "\n",
    "@show linkdims(ψ1);\n",
    "@show linkdims(ψ2);\n",
    "@show linkdims(ψ3);"
   ]
  },
  {
   "cell_type": "markdown",
   "id": "61cb0919",
   "metadata": {},
   "source": [
    "Perform Hadamard product of the MPS of the two functions"
   ]
  },
  {
   "cell_type": "code",
   "execution_count": 24,
   "id": "6ee2ec8d",
   "metadata": {},
   "outputs": [
    {
     "name": "stdout",
     "output_type": "stream",
     "text": [
      "linkdims(ψ3_Had) = [2, 4, 4, 4, 4, 2]\n"
     ]
    }
   ],
   "source": [
    "had = MPO(N)\n",
    "had .= convert(MPO, ψ1)\n",
    "for i = 1:N\n",
    "    had[i] *= δ(s[i], s[i]', s[i]'')\n",
    "end\n",
    "\n",
    "had = replaceprime(had, 2 => 0)\n",
    "\n",
    "ψ3_Had = apply(had, ψ2; maxdim=maxdim)\n",
    "\n",
    "@show linkdims(ψ3_Had);"
   ]
  },
  {
   "cell_type": "markdown",
   "id": "a8a8df5e",
   "metadata": {},
   "source": [
    "Contract the resulting MPS and plot the result"
   ]
  },
  {
   "cell_type": "code",
   "execution_count": 25,
   "id": "814a1963",
   "metadata": {},
   "outputs": [
    {
     "data": {
      "image/png": "[encoded data removed]",
      "image/svg+xml": [
       "<?xml version=\"1.0\" encoding=\"utf-8\"?>\n",
       "<svg xmlns=\"http://www.w3.org/2000/svg\" xmlns:xlink=\"http://www.w3.org/1999/xlink\" width=\"600\" height=\"400\" viewBox=\"0 0 2400 1600\">\n",
       "<defs>\n",
       "  <clipPath id=\"clip780\">\n",
       "    <rect x=\"0\" y=\"0\" width=\"2400\" height=\"1600\"/>\n",
       "  </clipPath>\n",
       "</defs>\n",
       "<path clip-path=\"url(#clip780)\" d=\"M0 1600 L2400 1600 L2400 0 L0 0  Z\" fill=\"#ffffff\" fill-rule=\"evenodd\" fill-opacity=\"1\"/>\n",
       "<defs>\n",
       "  <clipPath id=\"clip781\">\n",
       "    <rect x=\"480\" y=\"0\" width=\"1681\" height=\"1600\"/>\n",
       "  </clipPath>\n",
       "</defs>\n",
       "<path clip-path=\"url(#clip780)\" d=\"M178.867 1486.45 L2352.76 1486.45 L2352.76 47.2441 L178.867 47.2441  Z\" fill=\"#ffffff\" fill-rule=\"evenodd\" fill-opacity=\"1\"/>\n",
       "<defs>\n",
       "  <clipPath id=\"clip782\">\n",
       "    <rect x=\"178\" y=\"47\" width=\"2175\" height=\"1440\"/>\n",
       "  </clipPath>\n",
       "</defs>\n",
       "<polyline clip-path=\"url(#clip782)\" style=\"stroke:#000000; stroke-linecap:round; stroke-linejoin:round; stroke-width:2; stroke-opacity:0.1; fill:none\" points=\"240.392,1486.45 240.392,47.2441 \"/>\n",
       "<polyline clip-path=\"url(#clip782)\" style=\"stroke:#000000; stroke-linecap:round; stroke-linejoin:round; stroke-width:2; stroke-opacity:0.1; fill:none\" points=\"566.793,1486.45 566.793,47.2441 \"/>\n",
       "<polyline clip-path=\"url(#clip782)\" style=\"stroke:#000000; stroke-linecap:round; stroke-linejoin:round; stroke-width:2; stroke-opacity:0.1; fill:none\" points=\"893.194,1486.45 893.194,47.2441 \"/>\n",
       "<polyline clip-path=\"url(#clip782)\" style=\"stroke:#000000; stroke-linecap:round; stroke-linejoin:round; stroke-width:2; stroke-opacity:0.1; fill:none\" points=\"1219.6,1486.45 1219.6,47.2441 \"/>\n",
       "<polyline clip-path=\"url(#clip782)\" style=\"stroke:#000000; stroke-linecap:round; stroke-linejoin:round; stroke-width:2; stroke-opacity:0.1; fill:none\" points=\"1546,1486.45 1546,47.2441 \"/>\n",
       "<polyline clip-path=\"url(#clip782)\" style=\"stroke:#000000; stroke-linecap:round; stroke-linejoin:round; stroke-width:2; stroke-opacity:0.1; fill:none\" points=\"1872.4,1486.45 1872.4,47.2441 \"/>\n",
       "<polyline clip-path=\"url(#clip782)\" style=\"stroke:#000000; stroke-linecap:round; stroke-linejoin:round; stroke-width:2; stroke-opacity:0.1; fill:none\" points=\"2198.8,1486.45 2198.8,47.2441 \"/>\n",
       "<polyline clip-path=\"url(#clip782)\" style=\"stroke:#000000; stroke-linecap:round; stroke-linejoin:round; stroke-width:2; stroke-opacity:0.1; fill:none\" points=\"178.867,1316.3 2352.76,1316.3 \"/>\n",
       "<polyline clip-path=\"url(#clip782)\" style=\"stroke:#000000; stroke-linecap:round; stroke-linejoin:round; stroke-width:2; stroke-opacity:0.1; fill:none\" points=\"178.867,976.67 2352.76,976.67 \"/>\n",
       "<polyline clip-path=\"url(#clip782)\" style=\"stroke:#000000; stroke-linecap:round; stroke-linejoin:round; stroke-width:2; stroke-opacity:0.1; fill:none\" points=\"178.867,637.038 2352.76,637.038 \"/>\n",
       "<polyline clip-path=\"url(#clip782)\" style=\"stroke:#000000; stroke-linecap:round; stroke-linejoin:round; stroke-width:2; stroke-opacity:0.1; fill:none\" points=\"178.867,297.405 2352.76,297.405 \"/>\n",
       "<polyline clip-path=\"url(#clip780)\" style=\"stroke:#000000; stroke-linecap:round; stroke-linejoin:round; stroke-width:4; stroke-opacity:1; fill:none\" points=\"178.867,1486.45 2352.76,1486.45 \"/>\n",
       "<polyline clip-path=\"url(#clip780)\" style=\"stroke:#000000; stroke-linecap:round; stroke-linejoin:round; stroke-width:4; stroke-opacity:1; fill:none\" points=\"240.392,1486.45 240.392,1467.55 \"/>\n",
       "<polyline clip-path=\"url(#clip780)\" style=\"stroke:#000000; stroke-linecap:round; stroke-linejoin:round; stroke-width:4; stroke-opacity:1; fill:none\" points=\"566.793,1486.45 566.793,1467.55 \"/>\n",
       "<polyline clip-path=\"url(#clip780)\" style=\"stroke:#000000; stroke-linecap:round; stroke-linejoin:round; stroke-width:4; stroke-opacity:1; fill:none\" points=\"893.194,1486.45 893.194,1467.55 \"/>\n",
       "<polyline clip-path=\"url(#clip780)\" style=\"stroke:#000000; stroke-linecap:round; stroke-linejoin:round; stroke-width:4; stroke-opacity:1; fill:none\" points=\"1219.6,1486.45 1219.6,1467.55 \"/>\n",
       "<polyline clip-path=\"url(#clip780)\" style=\"stroke:#000000; stroke-linecap:round; stroke-linejoin:round; stroke-width:4; stroke-opacity:1; fill:none\" points=\"1546,1486.45 1546,1467.55 \"/>\n",
       "<polyline clip-path=\"url(#clip780)\" style=\"stroke:#000000; stroke-linecap:round; stroke-linejoin:round; stroke-width:4; stroke-opacity:1; fill:none\" points=\"1872.4,1486.45 1872.4,1467.55 \"/>\n",
       "<polyline clip-path=\"url(#clip780)\" style=\"stroke:#000000; stroke-linecap:round; stroke-linejoin:round; stroke-width:4; stroke-opacity:1; fill:none\" points=\"2198.8,1486.45 2198.8,1467.55 \"/>\n",
       "<path clip-path=\"url(#clip780)\" d=\"M240.392 1517.37 Q236.781 1517.37 234.952 1520.93 Q233.146 1524.47 233.146 1531.6 Q233.146 1538.71 234.952 1542.27 Q236.781 1545.82 240.392 1545.82 Q244.026 1545.82 245.832 1542.27 Q247.66 1538.71 247.66 1531.6 Q247.66 1524.47 245.832 1520.93 Q244.026 1517.37 240.392 1517.37 M240.392 1513.66 Q246.202 1513.66 249.257 1518.27 Q252.336 1522.85 252.336 1531.6 Q252.336 1540.33 249.257 1544.94 Q246.202 1549.52 240.392 1549.52 Q234.582 1549.52 231.503 1544.94 Q228.447 1540.33 228.447 1531.6 Q228.447 1522.85 231.503 1518.27 Q234.582 1513.66 240.392 1513.66 Z\" fill=\"#000000\" fill-rule=\"nonzero\" fill-opacity=\"1\" /><path clip-path=\"url(#clip780)\" d=\"M557.175 1544.91 L564.814 1544.91 L564.814 1518.55 L556.504 1520.21 L556.504 1515.95 L564.768 1514.29 L569.443 1514.29 L569.443 1544.91 L577.082 1544.91 L577.082 1548.85 L557.175 1548.85 L557.175 1544.91 Z\" fill=\"#000000\" fill-rule=\"nonzero\" fill-opacity=\"1\" /><path clip-path=\"url(#clip780)\" d=\"M887.847 1544.91 L904.166 1544.91 L904.166 1548.85 L882.222 1548.85 L882.222 1544.91 Q884.884 1542.16 889.467 1537.53 Q894.074 1532.88 895.254 1531.53 Q897.5 1529.01 898.379 1527.27 Q899.282 1525.51 899.282 1523.82 Q899.282 1521.07 897.338 1519.33 Q895.416 1517.6 892.314 1517.6 Q890.115 1517.6 887.662 1518.36 Q885.231 1519.13 882.453 1520.68 L882.453 1515.95 Q885.277 1514.82 887.731 1514.24 Q890.185 1513.66 892.222 1513.66 Q897.592 1513.66 900.787 1516.35 Q903.981 1519.03 903.981 1523.52 Q903.981 1525.65 903.171 1527.57 Q902.384 1529.47 900.277 1532.07 Q899.699 1532.74 896.597 1535.95 Q893.495 1539.15 887.847 1544.91 Z\" fill=\"#000000\" fill-rule=\"nonzero\" fill-opacity=\"1\" /><path clip-path=\"url(#clip780)\" d=\"M1223.84 1530.21 Q1227.2 1530.93 1229.07 1533.2 Q1230.97 1535.47 1230.97 1538.8 Q1230.97 1543.92 1227.45 1546.72 Q1223.94 1549.52 1217.45 1549.52 Q1215.28 1549.52 1212.96 1549.08 Q1210.67 1548.66 1208.22 1547.81 L1208.22 1543.29 Q1210.16 1544.43 1212.48 1545.01 Q1214.79 1545.58 1217.32 1545.58 Q1221.71 1545.58 1224 1543.85 Q1226.32 1542.11 1226.32 1538.8 Q1226.32 1535.75 1224.17 1534.03 Q1222.04 1532.3 1218.22 1532.3 L1214.19 1532.3 L1214.19 1528.45 L1218.4 1528.45 Q1221.85 1528.45 1223.68 1527.09 Q1225.51 1525.7 1225.51 1523.11 Q1225.51 1520.45 1223.61 1519.03 Q1221.74 1517.6 1218.22 1517.6 Q1216.3 1517.6 1214.1 1518.01 Q1211.9 1518.43 1209.26 1519.31 L1209.26 1515.14 Q1211.92 1514.4 1214.24 1514.03 Q1216.57 1513.66 1218.63 1513.66 Q1223.96 1513.66 1227.06 1516.09 Q1230.16 1518.5 1230.16 1522.62 Q1230.16 1525.49 1228.52 1527.48 Q1226.88 1529.45 1223.84 1530.21 Z\" fill=\"#000000\" fill-rule=\"nonzero\" fill-opacity=\"1\" /><path clip-path=\"url(#clip780)\" d=\"M1549.01 1518.36 L1537.2 1536.81 L1549.01 1536.81 L1549.01 1518.36 M1547.78 1514.29 L1553.66 1514.29 L1553.66 1536.81 L1558.59 1536.81 L1558.59 1540.7 L1553.66 1540.7 L1553.66 1548.85 L1549.01 1548.85 L1549.01 1540.7 L1533.4 1540.7 L1533.4 1536.19 L1547.78 1514.29 Z\" fill=\"#000000\" fill-rule=\"nonzero\" fill-opacity=\"1\" /><path clip-path=\"url(#clip780)\" d=\"M1862.68 1514.29 L1881.03 1514.29 L1881.03 1518.22 L1866.96 1518.22 L1866.96 1526.7 Q1867.98 1526.35 1868.99 1526.19 Q1870.01 1526 1871.03 1526 Q1876.82 1526 1880.2 1529.17 Q1883.58 1532.34 1883.58 1537.76 Q1883.58 1543.34 1880.11 1546.44 Q1876.63 1549.52 1870.31 1549.52 Q1868.14 1549.52 1865.87 1549.15 Q1863.62 1548.78 1861.22 1548.04 L1861.22 1543.34 Q1863.3 1544.47 1865.52 1545.03 Q1867.74 1545.58 1870.22 1545.58 Q1874.23 1545.58 1876.56 1543.48 Q1878.9 1541.37 1878.9 1537.76 Q1878.9 1534.15 1876.56 1532.04 Q1874.23 1529.94 1870.22 1529.94 Q1868.35 1529.94 1866.47 1530.35 Q1864.62 1530.77 1862.68 1531.65 L1862.68 1514.29 Z\" fill=\"#000000\" fill-rule=\"nonzero\" fill-opacity=\"1\" /><path clip-path=\"url(#clip780)\" d=\"M2199.2 1529.7 Q2196.06 1529.7 2194.2 1531.86 Q2192.38 1534.01 2192.38 1537.76 Q2192.38 1541.49 2194.2 1543.66 Q2196.06 1545.82 2199.2 1545.82 Q2202.35 1545.82 2204.18 1543.66 Q2206.03 1541.49 2206.03 1537.76 Q2206.03 1534.01 2204.18 1531.86 Q2202.35 1529.7 2199.2 1529.7 M2208.49 1515.05 L2208.49 1519.31 Q2206.73 1518.48 2204.92 1518.04 Q2203.14 1517.6 2201.38 1517.6 Q2196.75 1517.6 2194.3 1520.72 Q2191.87 1523.85 2191.52 1530.17 Q2192.88 1528.15 2194.94 1527.09 Q2197 1526 2199.48 1526 Q2204.69 1526 2207.7 1529.17 Q2210.73 1532.32 2210.73 1537.76 Q2210.73 1543.08 2207.58 1546.3 Q2204.44 1549.52 2199.2 1549.52 Q2193.21 1549.52 2190.04 1544.94 Q2186.87 1540.33 2186.87 1531.6 Q2186.87 1523.41 2190.75 1518.55 Q2194.64 1513.66 2201.19 1513.66 Q2202.95 1513.66 2204.74 1514.01 Q2206.54 1514.36 2208.49 1515.05 Z\" fill=\"#000000\" fill-rule=\"nonzero\" fill-opacity=\"1\" /><polyline clip-path=\"url(#clip780)\" style=\"stroke:#000000; stroke-linecap:round; stroke-linejoin:round; stroke-width:4; stroke-opacity:1; fill:none\" points=\"178.867,1486.45 178.867,47.2441 \"/>\n",
       "<polyline clip-path=\"url(#clip780)\" style=\"stroke:#000000; stroke-linecap:round; stroke-linejoin:round; stroke-width:4; stroke-opacity:1; fill:none\" points=\"178.867,1316.3 197.764,1316.3 \"/>\n",
       "<polyline clip-path=\"url(#clip780)\" style=\"stroke:#000000; stroke-linecap:round; stroke-linejoin:round; stroke-width:4; stroke-opacity:1; fill:none\" points=\"178.867,976.67 197.764,976.67 \"/>\n",
       "<polyline clip-path=\"url(#clip780)\" style=\"stroke:#000000; stroke-linecap:round; stroke-linejoin:round; stroke-width:4; stroke-opacity:1; fill:none\" points=\"178.867,637.038 197.764,637.038 \"/>\n",
       "<polyline clip-path=\"url(#clip780)\" style=\"stroke:#000000; stroke-linecap:round; stroke-linejoin:round; stroke-width:4; stroke-opacity:1; fill:none\" points=\"178.867,297.405 197.764,297.405 \"/>\n",
       "<path clip-path=\"url(#clip780)\" d=\"M51.9875 1316.75 L81.6633 1316.75 L81.6633 1320.69 L51.9875 1320.69 L51.9875 1316.75 Z\" fill=\"#000000\" fill-rule=\"nonzero\" fill-opacity=\"1\" /><path clip-path=\"url(#clip780)\" d=\"M92.566 1329.65 L100.205 1329.65 L100.205 1303.28 L91.8947 1304.95 L91.8947 1300.69 L100.159 1299.02 L104.834 1299.02 L104.834 1329.65 L112.473 1329.65 L112.473 1333.58 L92.566 1333.58 L92.566 1329.65 Z\" fill=\"#000000\" fill-rule=\"nonzero\" fill-opacity=\"1\" /><path clip-path=\"url(#clip780)\" d=\"M121.964 1299.02 L140.32 1299.02 L140.32 1302.96 L126.246 1302.96 L126.246 1311.43 Q127.265 1311.08 128.283 1310.92 Q129.302 1310.74 130.32 1310.74 Q136.107 1310.74 139.487 1313.91 Q142.867 1317.08 142.867 1322.49 Q142.867 1328.07 139.394 1331.18 Q135.922 1334.25 129.603 1334.25 Q127.427 1334.25 125.158 1333.88 Q122.913 1333.51 120.506 1332.77 L120.506 1328.07 Q122.589 1329.21 124.811 1329.76 Q127.033 1330.32 129.51 1330.32 Q133.515 1330.32 135.853 1328.21 Q138.191 1326.11 138.191 1322.49 Q138.191 1318.88 135.853 1316.78 Q133.515 1314.67 129.51 1314.67 Q127.635 1314.67 125.76 1315.09 Q123.908 1315.5 121.964 1316.38 L121.964 1299.02 Z\" fill=\"#000000\" fill-rule=\"nonzero\" fill-opacity=\"1\" /><path clip-path=\"url(#clip780)\" d=\"M50.9921 977.121 L80.6679 977.121 L80.6679 981.057 L50.9921 981.057 L50.9921 977.121 Z\" fill=\"#000000\" fill-rule=\"nonzero\" fill-opacity=\"1\" /><path clip-path=\"url(#clip780)\" d=\"M91.5706 990.015 L99.2095 990.015 L99.2095 963.649 L90.8993 965.316 L90.8993 961.057 L99.1632 959.39 L103.839 959.39 L103.839 990.015 L111.478 990.015 L111.478 993.95 L91.5706 993.95 L91.5706 990.015 Z\" fill=\"#000000\" fill-rule=\"nonzero\" fill-opacity=\"1\" /><path clip-path=\"url(#clip780)\" d=\"M130.922 962.469 Q127.311 962.469 125.482 966.034 Q123.677 969.575 123.677 976.705 Q123.677 983.811 125.482 987.376 Q127.311 990.918 130.922 990.918 Q134.556 990.918 136.362 987.376 Q138.191 983.811 138.191 976.705 Q138.191 969.575 136.362 966.034 Q134.556 962.469 130.922 962.469 M130.922 958.765 Q136.732 958.765 139.788 963.372 Q142.867 967.955 142.867 976.705 Q142.867 985.432 139.788 990.038 Q136.732 994.621 130.922 994.621 Q125.112 994.621 122.033 990.038 Q118.978 985.432 118.978 976.705 Q118.978 967.955 122.033 963.372 Q125.112 958.765 130.922 958.765 Z\" fill=\"#000000\" fill-rule=\"nonzero\" fill-opacity=\"1\" /><path clip-path=\"url(#clip780)\" d=\"M82.1494 637.489 L111.825 637.489 L111.825 641.424 L82.1494 641.424 L82.1494 637.489 Z\" fill=\"#000000\" fill-rule=\"nonzero\" fill-opacity=\"1\" /><path clip-path=\"url(#clip780)\" d=\"M121.964 619.758 L140.32 619.758 L140.32 623.693 L126.246 623.693 L126.246 632.165 Q127.265 631.818 128.283 631.656 Q129.302 631.47 130.32 631.47 Q136.107 631.47 139.487 634.642 Q142.867 637.813 142.867 643.23 Q142.867 648.808 139.394 651.91 Q135.922 654.989 129.603 654.989 Q127.427 654.989 125.158 654.619 Q122.913 654.248 120.506 653.507 L120.506 648.808 Q122.589 649.943 124.811 650.498 Q127.033 651.054 129.51 651.054 Q133.515 651.054 135.853 648.947 Q138.191 646.841 138.191 643.23 Q138.191 639.619 135.853 637.512 Q133.515 635.406 129.51 635.406 Q127.635 635.406 125.76 635.822 Q123.908 636.239 121.964 637.119 L121.964 619.758 Z\" fill=\"#000000\" fill-rule=\"nonzero\" fill-opacity=\"1\" /><path clip-path=\"url(#clip780)\" d=\"M130.922 283.204 Q127.311 283.204 125.482 286.769 Q123.677 290.31 123.677 297.44 Q123.677 304.546 125.482 308.111 Q127.311 311.653 130.922 311.653 Q134.556 311.653 136.362 308.111 Q138.191 304.546 138.191 297.44 Q138.191 290.31 136.362 286.769 Q134.556 283.204 130.922 283.204 M130.922 279.5 Q136.732 279.5 139.788 284.107 Q142.867 288.69 142.867 297.44 Q142.867 306.167 139.788 310.773 Q136.732 315.356 130.922 315.356 Q125.112 315.356 122.033 310.773 Q118.978 306.167 118.978 297.44 Q118.978 288.69 122.033 284.107 Q125.112 279.5 130.922 279.5 Z\" fill=\"#000000\" fill-rule=\"nonzero\" fill-opacity=\"1\" /><polyline clip-path=\"url(#clip782)\" style=\"stroke:#009af9; stroke-linecap:round; stroke-linejoin:round; stroke-width:4; stroke-opacity:1; fill:none\" points=\"240.392,297.405 256.54,297.237 272.688,296.725 288.837,295.858 304.985,294.628 321.133,293.028 337.282,291.053 353.43,288.698 369.579,285.962 385.727,282.845 401.875,279.348 418.024,275.476 434.172,271.236 450.32,266.634 466.469,261.682 482.617,256.392 498.765,250.778 514.914,244.859 531.062,238.653 547.21,232.182 563.359,225.469 579.507,218.541 595.655,211.425 611.804,204.153 627.952,196.757 644.1,189.271 660.249,181.732 676.397,174.178 692.545,166.65 708.694,159.19 724.842,151.841 740.99,144.65 757.139,137.662 773.287,130.926 789.435,124.491 805.584,118.406 821.732,112.724 837.88,107.495 854.029,102.772 870.177,98.6065 886.325,95.0515 902.474,92.1593 918.622,89.9818 934.77,88.5705 950.919,87.9763 967.067,88.2488 983.215,89.4367 999.364,91.587 1015.51,94.7452 1031.66,98.9548 1047.81,104.257 1063.96,110.691 1080.11,118.293 1096.25,127.096 1112.4,137.131 1128.55,148.424 1144.7,160.998 1160.85,174.874 1177,190.065 1193.14,206.584 1209.29,224.437 1225.44,243.625 1241.59,264.146 1257.74,285.99 1273.89,309.145 1290.03,333.592 1306.18,359.305 1322.33,386.255 1338.48,414.405 1354.63,443.713 1370.78,474.131 1386.92,505.605 1403.07,538.073 1419.22,571.47 1435.37,605.721 1451.52,640.749 1467.67,676.466 1483.81,712.783 1499.96,749.6 1516.11,786.814 1532.26,824.316 1548.41,861.99 1564.56,899.715 1580.7,937.365 1596.85,974.808 1613,1011.91 1629.15,1048.52 1645.3,1084.51 1661.45,1119.72 1677.59,1153.99 1693.74,1187.18 1709.89,1219.12 1726.04,1249.65 1742.19,1278.6 1758.34,1305.82 1774.48,1331.13 1790.63,1354.36 1806.78,1375.36 1822.93,1393.94 1839.08,1409.95 1855.23,1423.22 1871.37,1433.59 1887.52,1440.9 1903.67,1444.99 1919.82,1445.72 1935.97,1442.92 1952.12,1436.47 1968.26,1426.23 1984.41,1412.07 2000.56,1393.86 2016.71,1371.49 2032.86,1344.86 2049.01,1313.87 2065.15,1278.44 2081.3,1238.5 2097.45,1193.97 2113.6,1144.81 2129.75,1090.98 2145.9,1032.45 2162.04,969.214 2178.19,901.273 2194.34,828.644 2210.49,751.361 2226.64,669.471 2242.79,583.041 2258.93,492.151 2275.08,396.9 2291.23,297.405 \"/>\n",
       "<path clip-path=\"url(#clip780)\" d=\"M251.33 1438.47 L521.149 1438.47 L521.149 1334.79 L251.33 1334.79  Z\" fill=\"#ffffff\" fill-rule=\"evenodd\" fill-opacity=\"1\"/>\n",
       "<polyline clip-path=\"url(#clip780)\" style=\"stroke:#000000; stroke-linecap:round; stroke-linejoin:round; stroke-width:4; stroke-opacity:1; fill:none\" points=\"251.33,1438.47 521.149,1438.47 521.149,1334.79 251.33,1334.79 251.33,1438.47 \"/>\n",
       "<polyline clip-path=\"url(#clip780)\" style=\"stroke:#009af9; stroke-linecap:round; stroke-linejoin:round; stroke-width:4; stroke-opacity:1; fill:none\" points=\"275.484,1386.63 420.41,1386.63 \"/>\n",
       "<path clip-path=\"url(#clip780)\" d=\"M458.407 1406.32 Q456.601 1410.95 454.888 1412.36 Q453.175 1413.78 450.305 1413.78 L446.902 1413.78 L446.902 1410.21 L449.402 1410.21 Q451.161 1410.21 452.134 1409.38 Q453.106 1408.54 454.286 1405.44 L455.05 1403.5 L444.564 1377.99 L449.078 1377.99 L457.18 1398.27 L465.282 1377.99 L469.796 1377.99 L458.407 1406.32 Z\" fill=\"#000000\" fill-rule=\"nonzero\" fill-opacity=\"1\" /><path clip-path=\"url(#clip780)\" d=\"M477.087 1399.98 L484.726 1399.98 L484.726 1373.61 L476.416 1375.28 L476.416 1371.02 L484.68 1369.35 L489.356 1369.35 L489.356 1399.98 L496.994 1399.98 L496.994 1403.91 L477.087 1403.91 L477.087 1399.98 Z\" fill=\"#000000\" fill-rule=\"nonzero\" fill-opacity=\"1\" /></svg>\n"
      ],
      "text/html": [
       "<?xml version=\"1.0\" encoding=\"utf-8\"?>\n",
       "<svg xmlns=\"http://www.w3.org/2000/svg\" xmlns:xlink=\"http://www.w3.org/1999/xlink\" width=\"600\" height=\"400\" viewBox=\"0 0 2400 1600\">\n",
       "<defs>\n",
       "  <clipPath id=\"clip830\">\n",
       "    <rect x=\"0\" y=\"0\" width=\"2400\" height=\"1600\"/>\n",
       "  </clipPath>\n",
       "</defs>\n",
       "<path clip-path=\"url(#clip830)\" d=\"M0 1600 L2400 1600 L2400 0 L0 0  Z\" fill=\"#ffffff\" fill-rule=\"evenodd\" fill-opacity=\"1\"/>\n",
       "<defs>\n",
       "  <clipPath id=\"clip831\">\n",
       "    <rect x=\"480\" y=\"0\" width=\"1681\" height=\"1600\"/>\n",
       "  </clipPath>\n",
       "</defs>\n",
       "<path clip-path=\"url(#clip830)\" d=\"M178.867 1486.45 L2352.76 1486.45 L2352.76 47.2441 L178.867 47.2441  Z\" fill=\"#ffffff\" fill-rule=\"evenodd\" fill-opacity=\"1\"/>\n",
       "<defs>\n",
       "  <clipPath id=\"clip832\">\n",
       "    <rect x=\"178\" y=\"47\" width=\"2175\" height=\"1440\"/>\n",
       "  </clipPath>\n",
       "</defs>\n",
       "<polyline clip-path=\"url(#clip832)\" style=\"stroke:#000000; stroke-linecap:round; stroke-linejoin:round; stroke-width:2; stroke-opacity:0.1; fill:none\" points=\"240.392,1486.45 240.392,47.2441 \"/>\n",
       "<polyline clip-path=\"url(#clip832)\" style=\"stroke:#000000; stroke-linecap:round; stroke-linejoin:round; stroke-width:2; stroke-opacity:0.1; fill:none\" points=\"566.793,1486.45 566.793,47.2441 \"/>\n",
       "<polyline clip-path=\"url(#clip832)\" style=\"stroke:#000000; stroke-linecap:round; stroke-linejoin:round; stroke-width:2; stroke-opacity:0.1; fill:none\" points=\"893.194,1486.45 893.194,47.2441 \"/>\n",
       "<polyline clip-path=\"url(#clip832)\" style=\"stroke:#000000; stroke-linecap:round; stroke-linejoin:round; stroke-width:2; stroke-opacity:0.1; fill:none\" points=\"1219.6,1486.45 1219.6,47.2441 \"/>\n",
       "<polyline clip-path=\"url(#clip832)\" style=\"stroke:#000000; stroke-linecap:round; stroke-linejoin:round; stroke-width:2; stroke-opacity:0.1; fill:none\" points=\"1546,1486.45 1546,47.2441 \"/>\n",
       "<polyline clip-path=\"url(#clip832)\" style=\"stroke:#000000; stroke-linecap:round; stroke-linejoin:round; stroke-width:2; stroke-opacity:0.1; fill:none\" points=\"1872.4,1486.45 1872.4,47.2441 \"/>\n",
       "<polyline clip-path=\"url(#clip832)\" style=\"stroke:#000000; stroke-linecap:round; stroke-linejoin:round; stroke-width:2; stroke-opacity:0.1; fill:none\" points=\"2198.8,1486.45 2198.8,47.2441 \"/>\n",
       "<polyline clip-path=\"url(#clip832)\" style=\"stroke:#000000; stroke-linecap:round; stroke-linejoin:round; stroke-width:2; stroke-opacity:0.1; fill:none\" points=\"178.867,1316.3 2352.76,1316.3 \"/>\n",
       "<polyline clip-path=\"url(#clip832)\" style=\"stroke:#000000; stroke-linecap:round; stroke-linejoin:round; stroke-width:2; stroke-opacity:0.1; fill:none\" points=\"178.867,976.67 2352.76,976.67 \"/>\n",
       "<polyline clip-path=\"url(#clip832)\" style=\"stroke:#000000; stroke-linecap:round; stroke-linejoin:round; stroke-width:2; stroke-opacity:0.1; fill:none\" points=\"178.867,637.038 2352.76,637.038 \"/>\n",
       "<polyline clip-path=\"url(#clip832)\" style=\"stroke:#000000; stroke-linecap:round; stroke-linejoin:round; stroke-width:2; stroke-opacity:0.1; fill:none\" points=\"178.867,297.405 2352.76,297.405 \"/>\n",
       "<polyline clip-path=\"url(#clip830)\" style=\"stroke:#000000; stroke-linecap:round; stroke-linejoin:round; stroke-width:4; stroke-opacity:1; fill:none\" points=\"178.867,1486.45 2352.76,1486.45 \"/>\n",
       "<polyline clip-path=\"url(#clip830)\" style=\"stroke:#000000; stroke-linecap:round; stroke-linejoin:round; stroke-width:4; stroke-opacity:1; fill:none\" points=\"240.392,1486.45 240.392,1467.55 \"/>\n",
       "<polyline clip-path=\"url(#clip830)\" style=\"stroke:#000000; stroke-linecap:round; stroke-linejoin:round; stroke-width:4; stroke-opacity:1; fill:none\" points=\"566.793,1486.45 566.793,1467.55 \"/>\n",
       "<polyline clip-path=\"url(#clip830)\" style=\"stroke:#000000; stroke-linecap:round; stroke-linejoin:round; stroke-width:4; stroke-opacity:1; fill:none\" points=\"893.194,1486.45 893.194,1467.55 \"/>\n",
       "<polyline clip-path=\"url(#clip830)\" style=\"stroke:#000000; stroke-linecap:round; stroke-linejoin:round; stroke-width:4; stroke-opacity:1; fill:none\" points=\"1219.6,1486.45 1219.6,1467.55 \"/>\n",
       "<polyline clip-path=\"url(#clip830)\" style=\"stroke:#000000; stroke-linecap:round; stroke-linejoin:round; stroke-width:4; stroke-opacity:1; fill:none\" points=\"1546,1486.45 1546,1467.55 \"/>\n",
       "<polyline clip-path=\"url(#clip830)\" style=\"stroke:#000000; stroke-linecap:round; stroke-linejoin:round; stroke-width:4; stroke-opacity:1; fill:none\" points=\"1872.4,1486.45 1872.4,1467.55 \"/>\n",
       "<polyline clip-path=\"url(#clip830)\" style=\"stroke:#000000; stroke-linecap:round; stroke-linejoin:round; stroke-width:4; stroke-opacity:1; fill:none\" points=\"2198.8,1486.45 2198.8,1467.55 \"/>\n",
       "<path clip-path=\"url(#clip830)\" d=\"M240.392 1517.37 Q236.781 1517.37 234.952 1520.93 Q233.146 1524.47 233.146 1531.6 Q233.146 1538.71 234.952 1542.27 Q236.781 1545.82 240.392 1545.82 Q244.026 1545.82 245.832 1542.27 Q247.66 1538.71 247.66 1531.6 Q247.66 1524.47 245.832 1520.93 Q244.026 1517.37 240.392 1517.37 M240.392 1513.66 Q246.202 1513.66 249.257 1518.27 Q252.336 1522.85 252.336 1531.6 Q252.336 1540.33 249.257 1544.94 Q246.202 1549.52 240.392 1549.52 Q234.582 1549.52 231.503 1544.94 Q228.447 1540.33 228.447 1531.6 Q228.447 1522.85 231.503 1518.27 Q234.582 1513.66 240.392 1513.66 Z\" fill=\"#000000\" fill-rule=\"nonzero\" fill-opacity=\"1\" /><path clip-path=\"url(#clip830)\" d=\"M557.175 1544.91 L564.814 1544.91 L564.814 1518.55 L556.504 1520.21 L556.504 1515.95 L564.768 1514.29 L569.443 1514.29 L569.443 1544.91 L577.082 1544.91 L577.082 1548.85 L557.175 1548.85 L557.175 1544.91 Z\" fill=\"#000000\" fill-rule=\"nonzero\" fill-opacity=\"1\" /><path clip-path=\"url(#clip830)\" d=\"M887.847 1544.91 L904.166 1544.91 L904.166 1548.85 L882.222 1548.85 L882.222 1544.91 Q884.884 1542.16 889.467 1537.53 Q894.074 1532.88 895.254 1531.53 Q897.5 1529.01 898.379 1527.27 Q899.282 1525.51 899.282 1523.82 Q899.282 1521.07 897.338 1519.33 Q895.416 1517.6 892.314 1517.6 Q890.115 1517.6 887.662 1518.36 Q885.231 1519.13 882.453 1520.68 L882.453 1515.95 Q885.277 1514.82 887.731 1514.24 Q890.185 1513.66 892.222 1513.66 Q897.592 1513.66 900.787 1516.35 Q903.981 1519.03 903.981 1523.52 Q903.981 1525.65 903.171 1527.57 Q902.384 1529.47 900.277 1532.07 Q899.699 1532.74 896.597 1535.95 Q893.495 1539.15 887.847 1544.91 Z\" fill=\"#000000\" fill-rule=\"nonzero\" fill-opacity=\"1\" /><path clip-path=\"url(#clip830)\" d=\"M1223.84 1530.21 Q1227.2 1530.93 1229.07 1533.2 Q1230.97 1535.47 1230.97 1538.8 Q1230.97 1543.92 1227.45 1546.72 Q1223.94 1549.52 1217.45 1549.52 Q1215.28 1549.52 1212.96 1549.08 Q1210.67 1548.66 1208.22 1547.81 L1208.22 1543.29 Q1210.16 1544.43 1212.48 1545.01 Q1214.79 1545.58 1217.32 1545.58 Q1221.71 1545.58 1224 1543.85 Q1226.32 1542.11 1226.32 1538.8 Q1226.32 1535.75 1224.17 1534.03 Q1222.04 1532.3 1218.22 1532.3 L1214.19 1532.3 L1214.19 1528.45 L1218.4 1528.45 Q1221.85 1528.45 1223.68 1527.09 Q1225.51 1525.7 1225.51 1523.11 Q1225.51 1520.45 1223.61 1519.03 Q1221.74 1517.6 1218.22 1517.6 Q1216.3 1517.6 1214.1 1518.01 Q1211.9 1518.43 1209.26 1519.31 L1209.26 1515.14 Q1211.92 1514.4 1214.24 1514.03 Q1216.57 1513.66 1218.63 1513.66 Q1223.96 1513.66 1227.06 1516.09 Q1230.16 1518.5 1230.16 1522.62 Q1230.16 1525.49 1228.52 1527.48 Q1226.88 1529.45 1223.84 1530.21 Z\" fill=\"#000000\" fill-rule=\"nonzero\" fill-opacity=\"1\" /><path clip-path=\"url(#clip830)\" d=\"M1549.01 1518.36 L1537.2 1536.81 L1549.01 1536.81 L1549.01 1518.36 M1547.78 1514.29 L1553.66 1514.29 L1553.66 1536.81 L1558.59 1536.81 L1558.59 1540.7 L1553.66 1540.7 L1553.66 1548.85 L1549.01 1548.85 L1549.01 1540.7 L1533.4 1540.7 L1533.4 1536.19 L1547.78 1514.29 Z\" fill=\"#000000\" fill-rule=\"nonzero\" fill-opacity=\"1\" /><path clip-path=\"url(#clip830)\" d=\"M1862.68 1514.29 L1881.03 1514.29 L1881.03 1518.22 L1866.96 1518.22 L1866.96 1526.7 Q1867.98 1526.35 1868.99 1526.19 Q1870.01 1526 1871.03 1526 Q1876.82 1526 1880.2 1529.17 Q1883.58 1532.34 1883.58 1537.76 Q1883.58 1543.34 1880.11 1546.44 Q1876.63 1549.52 1870.31 1549.52 Q1868.14 1549.52 1865.87 1549.15 Q1863.62 1548.78 1861.22 1548.04 L1861.22 1543.34 Q1863.3 1544.47 1865.52 1545.03 Q1867.74 1545.58 1870.22 1545.58 Q1874.23 1545.58 1876.56 1543.48 Q1878.9 1541.37 1878.9 1537.76 Q1878.9 1534.15 1876.56 1532.04 Q1874.23 1529.94 1870.22 1529.94 Q1868.35 1529.94 1866.47 1530.35 Q1864.62 1530.77 1862.68 1531.65 L1862.68 1514.29 Z\" fill=\"#000000\" fill-rule=\"nonzero\" fill-opacity=\"1\" /><path clip-path=\"url(#clip830)\" d=\"M2199.2 1529.7 Q2196.06 1529.7 2194.2 1531.86 Q2192.38 1534.01 2192.38 1537.76 Q2192.38 1541.49 2194.2 1543.66 Q2196.06 1545.82 2199.2 1545.82 Q2202.35 1545.82 2204.18 1543.66 Q2206.03 1541.49 2206.03 1537.76 Q2206.03 1534.01 2204.18 1531.86 Q2202.35 1529.7 2199.2 1529.7 M2208.49 1515.05 L2208.49 1519.31 Q2206.73 1518.48 2204.92 1518.04 Q2203.14 1517.6 2201.38 1517.6 Q2196.75 1517.6 2194.3 1520.72 Q2191.87 1523.85 2191.52 1530.17 Q2192.88 1528.15 2194.94 1527.09 Q2197 1526 2199.48 1526 Q2204.69 1526 2207.7 1529.17 Q2210.73 1532.32 2210.73 1537.76 Q2210.73 1543.08 2207.58 1546.3 Q2204.44 1549.52 2199.2 1549.52 Q2193.21 1549.52 2190.04 1544.94 Q2186.87 1540.33 2186.87 1531.6 Q2186.87 1523.41 2190.75 1518.55 Q2194.64 1513.66 2201.19 1513.66 Q2202.95 1513.66 2204.74 1514.01 Q2206.54 1514.36 2208.49 1515.05 Z\" fill=\"#000000\" fill-rule=\"nonzero\" fill-opacity=\"1\" /><polyline clip-path=\"url(#clip830)\" style=\"stroke:#000000; stroke-linecap:round; stroke-linejoin:round; stroke-width:4; stroke-opacity:1; fill:none\" points=\"178.867,1486.45 178.867,47.2441 \"/>\n",
       "<polyline clip-path=\"url(#clip830)\" style=\"stroke:#000000; stroke-linecap:round; stroke-linejoin:round; stroke-width:4; stroke-opacity:1; fill:none\" points=\"178.867,1316.3 197.764,1316.3 \"/>\n",
       "<polyline clip-path=\"url(#clip830)\" style=\"stroke:#000000; stroke-linecap:round; stroke-linejoin:round; stroke-width:4; stroke-opacity:1; fill:none\" points=\"178.867,976.67 197.764,976.67 \"/>\n",
       "<polyline clip-path=\"url(#clip830)\" style=\"stroke:#000000; stroke-linecap:round; stroke-linejoin:round; stroke-width:4; stroke-opacity:1; fill:none\" points=\"178.867,637.038 197.764,637.038 \"/>\n",
       "<polyline clip-path=\"url(#clip830)\" style=\"stroke:#000000; stroke-linecap:round; stroke-linejoin:round; stroke-width:4; stroke-opacity:1; fill:none\" points=\"178.867,297.405 197.764,297.405 \"/>\n",
       "<path clip-path=\"url(#clip830)\" d=\"M51.9875 1316.75 L81.6633 1316.75 L81.6633 1320.69 L51.9875 1320.69 L51.9875 1316.75 Z\" fill=\"#000000\" fill-rule=\"nonzero\" fill-opacity=\"1\" /><path clip-path=\"url(#clip830)\" d=\"M92.566 1329.65 L100.205 1329.65 L100.205 1303.28 L91.8947 1304.95 L91.8947 1300.69 L100.159 1299.02 L104.834 1299.02 L104.834 1329.65 L112.473 1329.65 L112.473 1333.58 L92.566 1333.58 L92.566 1329.65 Z\" fill=\"#000000\" fill-rule=\"nonzero\" fill-opacity=\"1\" /><path clip-path=\"url(#clip830)\" d=\"M121.964 1299.02 L140.32 1299.02 L140.32 1302.96 L126.246 1302.96 L126.246 1311.43 Q127.265 1311.08 128.283 1310.92 Q129.302 1310.74 130.32 1310.74 Q136.107 1310.74 139.487 1313.91 Q142.867 1317.08 142.867 1322.49 Q142.867 1328.07 139.394 1331.18 Q135.922 1334.25 129.603 1334.25 Q127.427 1334.25 125.158 1333.88 Q122.913 1333.51 120.506 1332.77 L120.506 1328.07 Q122.589 1329.21 124.811 1329.76 Q127.033 1330.32 129.51 1330.32 Q133.515 1330.32 135.853 1328.21 Q138.191 1326.11 138.191 1322.49 Q138.191 1318.88 135.853 1316.78 Q133.515 1314.67 129.51 1314.67 Q127.635 1314.67 125.76 1315.09 Q123.908 1315.5 121.964 1316.38 L121.964 1299.02 Z\" fill=\"#000000\" fill-rule=\"nonzero\" fill-opacity=\"1\" /><path clip-path=\"url(#clip830)\" d=\"M50.9921 977.121 L80.6679 977.121 L80.6679 981.057 L50.9921 981.057 L50.9921 977.121 Z\" fill=\"#000000\" fill-rule=\"nonzero\" fill-opacity=\"1\" /><path clip-path=\"url(#clip830)\" d=\"M91.5706 990.015 L99.2095 990.015 L99.2095 963.649 L90.8993 965.316 L90.8993 961.057 L99.1632 959.39 L103.839 959.39 L103.839 990.015 L111.478 990.015 L111.478 993.95 L91.5706 993.95 L91.5706 990.015 Z\" fill=\"#000000\" fill-rule=\"nonzero\" fill-opacity=\"1\" /><path clip-path=\"url(#clip830)\" d=\"M130.922 962.469 Q127.311 962.469 125.482 966.034 Q123.677 969.575 123.677 976.705 Q123.677 983.811 125.482 987.376 Q127.311 990.918 130.922 990.918 Q134.556 990.918 136.362 987.376 Q138.191 983.811 138.191 976.705 Q138.191 969.575 136.362 966.034 Q134.556 962.469 130.922 962.469 M130.922 958.765 Q136.732 958.765 139.788 963.372 Q142.867 967.955 142.867 976.705 Q142.867 985.432 139.788 990.038 Q136.732 994.621 130.922 994.621 Q125.112 994.621 122.033 990.038 Q118.978 985.432 118.978 976.705 Q118.978 967.955 122.033 963.372 Q125.112 958.765 130.922 958.765 Z\" fill=\"#000000\" fill-rule=\"nonzero\" fill-opacity=\"1\" /><path clip-path=\"url(#clip830)\" d=\"M82.1494 637.489 L111.825 637.489 L111.825 641.424 L82.1494 641.424 L82.1494 637.489 Z\" fill=\"#000000\" fill-rule=\"nonzero\" fill-opacity=\"1\" /><path clip-path=\"url(#clip830)\" d=\"M121.964 619.758 L140.32 619.758 L140.32 623.693 L126.246 623.693 L126.246 632.165 Q127.265 631.818 128.283 631.656 Q129.302 631.47 130.32 631.47 Q136.107 631.47 139.487 634.642 Q142.867 637.813 142.867 643.23 Q142.867 648.808 139.394 651.91 Q135.922 654.989 129.603 654.989 Q127.427 654.989 125.158 654.619 Q122.913 654.248 120.506 653.507 L120.506 648.808 Q122.589 649.943 124.811 650.498 Q127.033 651.054 129.51 651.054 Q133.515 651.054 135.853 648.947 Q138.191 646.841 138.191 643.23 Q138.191 639.619 135.853 637.512 Q133.515 635.406 129.51 635.406 Q127.635 635.406 125.76 635.822 Q123.908 636.239 121.964 637.119 L121.964 619.758 Z\" fill=\"#000000\" fill-rule=\"nonzero\" fill-opacity=\"1\" /><path clip-path=\"url(#clip830)\" d=\"M130.922 283.204 Q127.311 283.204 125.482 286.769 Q123.677 290.31 123.677 297.44 Q123.677 304.546 125.482 308.111 Q127.311 311.653 130.922 311.653 Q134.556 311.653 136.362 308.111 Q138.191 304.546 138.191 297.44 Q138.191 290.31 136.362 286.769 Q134.556 283.204 130.922 283.204 M130.922 279.5 Q136.732 279.5 139.788 284.107 Q142.867 288.69 142.867 297.44 Q142.867 306.167 139.788 310.773 Q136.732 315.356 130.922 315.356 Q125.112 315.356 122.033 310.773 Q118.978 306.167 118.978 297.44 Q118.978 288.69 122.033 284.107 Q125.112 279.5 130.922 279.5 Z\" fill=\"#000000\" fill-rule=\"nonzero\" fill-opacity=\"1\" /><polyline clip-path=\"url(#clip832)\" style=\"stroke:#009af9; stroke-linecap:round; stroke-linejoin:round; stroke-width:4; stroke-opacity:1; fill:none\" points=\"240.392,297.405 256.54,297.237 272.688,296.725 288.837,295.858 304.985,294.628 321.133,293.028 337.282,291.053 353.43,288.698 369.579,285.962 385.727,282.845 401.875,279.348 418.024,275.476 434.172,271.236 450.32,266.634 466.469,261.682 482.617,256.392 498.765,250.778 514.914,244.859 531.062,238.653 547.21,232.182 563.359,225.469 579.507,218.541 595.655,211.425 611.804,204.153 627.952,196.757 644.1,189.271 660.249,181.732 676.397,174.178 692.545,166.65 708.694,159.19 724.842,151.841 740.99,144.65 757.139,137.662 773.287,130.926 789.435,124.491 805.584,118.406 821.732,112.724 837.88,107.495 854.029,102.772 870.177,98.6065 886.325,95.0515 902.474,92.1593 918.622,89.9818 934.77,88.5705 950.919,87.9763 967.067,88.2488 983.215,89.4367 999.364,91.587 1015.51,94.7452 1031.66,98.9548 1047.81,104.257 1063.96,110.691 1080.11,118.293 1096.25,127.096 1112.4,137.131 1128.55,148.424 1144.7,160.998 1160.85,174.874 1177,190.065 1193.14,206.584 1209.29,224.437 1225.44,243.625 1241.59,264.146 1257.74,285.99 1273.89,309.145 1290.03,333.592 1306.18,359.305 1322.33,386.255 1338.48,414.405 1354.63,443.713 1370.78,474.131 1386.92,505.605 1403.07,538.073 1419.22,571.47 1435.37,605.721 1451.52,640.749 1467.67,676.466 1483.81,712.783 1499.96,749.6 1516.11,786.814 1532.26,824.316 1548.41,861.99 1564.56,899.715 1580.7,937.365 1596.85,974.808 1613,1011.91 1629.15,1048.52 1645.3,1084.51 1661.45,1119.72 1677.59,1153.99 1693.74,1187.18 1709.89,1219.12 1726.04,1249.65 1742.19,1278.6 1758.34,1305.82 1774.48,1331.13 1790.63,1354.36 1806.78,1375.36 1822.93,1393.94 1839.08,1409.95 1855.23,1423.22 1871.37,1433.59 1887.52,1440.9 1903.67,1444.99 1919.82,1445.72 1935.97,1442.92 1952.12,1436.47 1968.26,1426.23 1984.41,1412.07 2000.56,1393.86 2016.71,1371.49 2032.86,1344.86 2049.01,1313.87 2065.15,1278.44 2081.3,1238.5 2097.45,1193.97 2113.6,1144.81 2129.75,1090.98 2145.9,1032.45 2162.04,969.214 2178.19,901.273 2194.34,828.644 2210.49,751.361 2226.64,669.471 2242.79,583.041 2258.93,492.151 2275.08,396.9 2291.23,297.405 \"/>\n",
       "<path clip-path=\"url(#clip830)\" d=\"M251.33 1438.47 L521.149 1438.47 L521.149 1334.79 L251.33 1334.79  Z\" fill=\"#ffffff\" fill-rule=\"evenodd\" fill-opacity=\"1\"/>\n",
       "<polyline clip-path=\"url(#clip830)\" style=\"stroke:#000000; stroke-linecap:round; stroke-linejoin:round; stroke-width:4; stroke-opacity:1; fill:none\" points=\"251.33,1438.47 521.149,1438.47 521.149,1334.79 251.33,1334.79 251.33,1438.47 \"/>\n",
       "<polyline clip-path=\"url(#clip830)\" style=\"stroke:#009af9; stroke-linecap:round; stroke-linejoin:round; stroke-width:4; stroke-opacity:1; fill:none\" points=\"275.484,1386.63 420.41,1386.63 \"/>\n",
       "<path clip-path=\"url(#clip830)\" d=\"M458.407 1406.32 Q456.601 1410.95 454.888 1412.36 Q453.175 1413.78 450.305 1413.78 L446.902 1413.78 L446.902 1410.21 L449.402 1410.21 Q451.161 1410.21 452.134 1409.38 Q453.106 1408.54 454.286 1405.44 L455.05 1403.5 L444.564 1377.99 L449.078 1377.99 L457.18 1398.27 L465.282 1377.99 L469.796 1377.99 L458.407 1406.32 Z\" fill=\"#000000\" fill-rule=\"nonzero\" fill-opacity=\"1\" /><path clip-path=\"url(#clip830)\" d=\"M477.087 1399.98 L484.726 1399.98 L484.726 1373.61 L476.416 1375.28 L476.416 1371.02 L484.68 1369.35 L489.356 1369.35 L489.356 1399.98 L496.994 1399.98 L496.994 1403.91 L477.087 1403.91 L477.087 1399.98 Z\" fill=\"#000000\" fill-rule=\"nonzero\" fill-opacity=\"1\" /></svg>\n"
      ]
     },
     "execution_count": 25,
     "metadata": {},
     "output_type": "execute_result"
    }
   ],
   "source": [
    "Big_ψ = contract(ψ3_Had) # Recovering the original big tensor\n",
    "J_recon = Array(Big_ψ, s) # Changing the format from ITensor to Julia array for plotting\n",
    "ys_recon = reshape(J_recon,2^N,1) # Reshaping from N-dimentional tensor to regular array\n",
    "plot(xs, ys_recon) # Plotting the reconstructed function"
   ]
  },
  {
   "cell_type": "markdown",
   "id": "b5e74d51",
   "metadata": {},
   "source": [
    "Exercise finished!!!"
   ]
  }
 ],
 "metadata": {
  "kernelspec": {
   "display_name": "Julia 1.10.5",
   "language": "julia",
   "name": "julia-1.10"
  },
  "language_info": {
   "file_extension": ".jl",
   "mimetype": "application/julia",
   "name": "julia",
   "version": "1.10.5"
  }
 },
 "nbformat": 4,
 "nbformat_minor": 5
}
