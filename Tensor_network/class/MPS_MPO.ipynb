{
 "cells": [
  {
   "cell_type": "markdown",
   "id": "9ee94407",
   "metadata": {},
   "source": [
    "# MPS and MPO operations with ITensor"
   ]
  },
  {
   "cell_type": "code",
   "execution_count": null,
   "id": "71d65ea7",
   "metadata": {},
   "outputs": [],
   "source": [
    "using ITensors\n",
    "using Plots\n",
    "using HDF5"
   ]
  },
  {
   "cell_type": "markdown",
   "id": "309c4e06",
   "metadata": {},
   "source": [
    "Create some MPSs"
   ]
  },
  {
   "cell_type": "code",
   "execution_count": null,
   "id": "99a6698f",
   "metadata": {},
   "outputs": [],
   "source": [
    "# Create MPS from ITensor or from Julia array\n",
    "i = Index(2)\n",
    "j = Index(2)\n",
    "k = Index(2)\n",
    "l = Index(2)\n",
    "m = Index(2)\n",
    "\n",
    "cutoff = 1E-20\n",
    "maxdim = 10\n",
    "T = randomITensor(i,j,k,l,m) # From ITensor\n",
    "#T = randn(2^5); # From Julia array\n",
    "ψ0 = MPS(T,(i,j,k,l,m);cutoff=cutoff,maxdim=maxdim)\n",
    "\n",
    "ψ0cont = contract(ψ0); # Recover (reshaped) entry matrix\n",
    "\n",
    "@show ψ0;"
   ]
  },
  {
   "cell_type": "code",
   "execution_count": null,
   "id": "96658025",
   "metadata": {},
   "outputs": [],
   "source": [
    "N = 10; # Number of sites\n",
    "s = siteinds(\"Qubit\", N); # Indices for all sites\n",
    "#s = siteinds(\"Qubit\", N, conserve_qns = true); \n",
    "#s = siteinds(\"Qubit\", N, conserve_qns = false);"
   ]
  },
  {
   "cell_type": "code",
   "execution_count": null,
   "id": "864f59ee",
   "metadata": {},
   "outputs": [],
   "source": [
    "# Create by hand MPS with desired order\n",
    "\n",
    "ψ1_list = [\"0\" for n=1:N]; # Magnetization 1 (up) everywhere\n",
    "ψ1 = MPS(s,ψ1_list);\n",
    "\n",
    "ψ2 = randomMPS(s,linkdims=10);\n",
    "ψ2 = orthogonalize!(ψ2, N);\n",
    "\n",
    "ψ3_list = [isodd(n) ? \"1\" : \"0\" for n in 1:N]; # Magnetization 1 (up) and -1 (down) interleaved\n",
    "ψ3 = MPS(ComplexF64, s, ψ3_list);\n",
    "\n",
    "@show ψ3_list;"
   ]
  },
  {
   "cell_type": "code",
   "execution_count": null,
   "id": "26ff91b7",
   "metadata": {},
   "outputs": [],
   "source": [
    "@show maxlinkdim(ψ1);\n",
    "@show maxlinkdim(ψ2);\n",
    "@show maxlinkdim(ψ3);"
   ]
  },
  {
   "cell_type": "code",
   "execution_count": null,
   "id": "80373433",
   "metadata": {
    "scrolled": true
   },
   "outputs": [],
   "source": [
    "@show norm(ψ1), norm(ψ2), norm(ψ3);"
   ]
  },
  {
   "cell_type": "markdown",
   "id": "c4dad549",
   "metadata": {},
   "source": [
    "Addition of MPSs"
   ]
  },
  {
   "cell_type": "code",
   "execution_count": null,
   "id": "26f71784",
   "metadata": {},
   "outputs": [],
   "source": [
    "ψ4 = ψ2 + ψ3; # A cutoff of 1e-15 is used by default\n",
    "ψ5 = +(ψ1, ψ3; cutoff = 1e-8); # Set the cutoff"
   ]
  },
  {
   "cell_type": "code",
   "execution_count": null,
   "id": "7b51edd1",
   "metadata": {
    "scrolled": true
   },
   "outputs": [],
   "source": [
    "@show norm(ψ4), norm(ψ5);"
   ]
  },
  {
   "cell_type": "code",
   "execution_count": null,
   "id": "e6b0ae61",
   "metadata": {},
   "outputs": [],
   "source": [
    "normalize!(ψ4); # Use ! so state is replaced by normalized one (in-place operation, where memory of output is preallocated)\n",
    "ψ5 = normalize(ψ5); # Or set A = normalize(B)"
   ]
  },
  {
   "cell_type": "code",
   "execution_count": null,
   "id": "12783ffc",
   "metadata": {
    "scrolled": true
   },
   "outputs": [],
   "source": [
    "@show linkdims(ψ2);\n",
    "@show linkdims(ψ3);\n",
    "@show linkdims(ψ4);"
   ]
  },
  {
   "cell_type": "code",
   "execution_count": null,
   "id": "2ab9f2e1",
   "metadata": {
    "scrolled": true
   },
   "outputs": [],
   "source": [
    "@show linkdims(ψ1);\n",
    "@show linkdims(ψ3);\n",
    "@show linkdims(ψ5);"
   ]
  },
  {
   "cell_type": "markdown",
   "id": "30946645",
   "metadata": {},
   "source": [
    "Truncate states"
   ]
  },
  {
   "cell_type": "code",
   "execution_count": null,
   "id": "ae2d7705",
   "metadata": {},
   "outputs": [],
   "source": [
    "ψ4 = truncate(ψ4, cutoff = 1e-1);\n",
    "@show linkdims(ψ4);"
   ]
  },
  {
   "cell_type": "code",
   "execution_count": null,
   "id": "73dd13d6",
   "metadata": {},
   "outputs": [],
   "source": [
    "truncate!(ψ5, maxdim = 1); # Check what happens when maxdim = 1!\n",
    "@show linkdims(ψ5);"
   ]
  },
  {
   "cell_type": "code",
   "execution_count": null,
   "id": "0ff9e046",
   "metadata": {},
   "outputs": [],
   "source": [
    "# Adding a state with itself\n",
    "\n",
    "ψ11 = ψ1 + ψ1;\n",
    "@show linkdims(ψ11); # Automatically truncated\n",
    "@show norm(ψ11); # But not normalized\n",
    "normalize!(ψ11);"
   ]
  },
  {
   "cell_type": "markdown",
   "id": "540e4175",
   "metadata": {},
   "source": [
    "Overlap of MPSs"
   ]
  },
  {
   "cell_type": "code",
   "execution_count": null,
   "id": "5acff198",
   "metadata": {
    "scrolled": true
   },
   "outputs": [],
   "source": [
    "dot(ψ1,ψ3)"
   ]
  },
  {
   "cell_type": "code",
   "execution_count": null,
   "id": "68f69b11",
   "metadata": {},
   "outputs": [],
   "source": [
    "inner(ψ5,ψ3) # Check the impact when ψ5 was truncated with maxdim = 1"
   ]
  },
  {
   "cell_type": "code",
   "execution_count": null,
   "id": "bdce6177",
   "metadata": {},
   "outputs": [],
   "source": [
    "dot(ψ1,ψ11)"
   ]
  },
  {
   "cell_type": "markdown",
   "id": "a5818c93",
   "metadata": {},
   "source": [
    "Apply single-site operator to an MPS"
   ]
  },
  {
   "cell_type": "code",
   "execution_count": null,
   "id": "03d5aaa2",
   "metadata": {},
   "outputs": [],
   "source": [
    "site = 3;\n",
    "@show ψ1[site];"
   ]
  },
  {
   "cell_type": "code",
   "execution_count": null,
   "id": "dd90dbe6",
   "metadata": {},
   "outputs": [],
   "source": [
    "ψ1 = apply(op(\"H\",s[site]),ψ1); # Use Hadamard gate, which creates equal superposition of 0 and 1 \n",
    "@show ψ1[site];"
   ]
  },
  {
   "cell_type": "markdown",
   "id": "616cbe04",
   "metadata": {},
   "source": [
    "Apply two-site operator to an MPS"
   ]
  },
  {
   "cell_type": "code",
   "execution_count": null,
   "id": "86480efd",
   "metadata": {},
   "outputs": [],
   "source": [
    "# First define two-site operator\n",
    "site1 = 2; site2 = 3;\n",
    "\n",
    "Oper = op(\"SWAP\",s[site1],s[site2]);\n",
    "#Oper = op(\"S-\",s[site1])*op(\"S+\",s[site2]);"
   ]
  },
  {
   "cell_type": "code",
   "execution_count": null,
   "id": "c3aba80f",
   "metadata": {},
   "outputs": [],
   "source": [
    "orthogonalize!(ψ1,site1) # Set orthogonality center between sites 2 and 3, so other sites are correctly normalized and can be left out\n",
    "\n",
    "wf = (ψ1[site1] * ψ1[site2]) * Oper # Multiply operator with MPS\n",
    "noprime!(wf) # Remove primes of result\n",
    "\n",
    "# Truncate after product to recover MPS structure\n",
    "inds3 = uniqueinds(ψ1[site1],ψ1[site2]) # Finds indices unique to ψ1[site1]\n",
    "U,S,V = svd(wf,inds3,cutoff=1E-12) # These indices will go into U when the SVD is done\n",
    "ψ1[site1] = U;\n",
    "ψ1[site2] = S*V;"
   ]
  },
  {
   "cell_type": "markdown",
   "id": "1819f882",
   "metadata": {},
   "source": [
    "Hadamard product"
   ]
  },
  {
   "cell_type": "code",
   "execution_count": null,
   "id": "3187b291",
   "metadata": {
    "scrolled": false
   },
   "outputs": [],
   "source": [
    "# Define two functions and their product\n",
    "N = 7; # Number of sites\n",
    "s = siteinds(\"Qubit\", N); # Indices for all sites\n",
    "xs = range(0, 2pi, length=2^N); # Sampling grid points\n",
    "\n",
    "f1(x) = sin(x); # First function\n",
    "ys1 = f1.(xs); # Construction f1(x)\n",
    "\n",
    "f2(x) = x*exp(0.25*x); # Second function\n",
    "ys2 = f2.(xs); # Construction f2(x)\n",
    "\n",
    "f3(x) = f1(x)*f2(x);\n",
    "ys3 = f3.(xs); # Construction f3(x)\n",
    "\n",
    "plot(xs, ys3) # Plotting the original function"
   ]
  },
  {
   "cell_type": "markdown",
   "id": "b6dc48de",
   "metadata": {},
   "source": [
    "Encode the functions and their product as MPS"
   ]
  },
  {
   "cell_type": "code",
   "execution_count": null,
   "id": "02f49af6",
   "metadata": {},
   "outputs": [],
   "source": [
    "cutoff = 1E-16;\n",
    "χ = 30;\n",
    "\n",
    "ψ1 = MPS(ys1, s, cutoff=cutoff, maxdim=χ);\n",
    "ψ2 = MPS(ys2, s, cutoff=cutoff, maxdim=χ);\n",
    "ψ3 = MPS(ys3, s, cutoff=cutoff, maxdim=χ);\n",
    "\n",
    "@show linkdims(ψ1);\n",
    "@show linkdims(ψ2);\n",
    "@show linkdims(ψ3);"
   ]
  },
  {
   "cell_type": "markdown",
   "id": "61cb0919",
   "metadata": {},
   "source": [
    "Perform Hadamard product of the MPS of the two functions"
   ]
  },
  {
   "cell_type": "code",
   "execution_count": null,
   "id": "6ee2ec8d",
   "metadata": {},
   "outputs": [],
   "source": [
    "had = MPO(N)\n",
    "had .= convert(MPO, ψ1)\n",
    "for i = 1:N\n",
    "    had[i] *= δ(s[i], s[i]', s[i]'')\n",
    "end\n",
    "\n",
    "had = replaceprime(had, 2 => 0)\n",
    "\n",
    "ψ3_Had = apply(had, ψ2; maxdim=maxdim)\n",
    "\n",
    "@show linkdims(ψ3_Had);"
   ]
  },
  {
   "cell_type": "markdown",
   "id": "a8a8df5e",
   "metadata": {},
   "source": [
    "Contract the resulting MPS and plot the result"
   ]
  },
  {
   "cell_type": "code",
   "execution_count": null,
   "id": "814a1963",
   "metadata": {},
   "outputs": [],
   "source": [
    "Big_ψ = contract(ψ3_Had) # Recovering the original big tensor\n",
    "J_recon = Array(Big_ψ, s) # Changing the format from ITensor to Julia array for plotting\n",
    "ys_recon = reshape(J_recon,2^N,1) # Reshaping from N-dimentional tensor to regular array\n",
    "plot(xs, ys_recon) # Plotting the reconstructed function"
   ]
  },
  {
   "cell_type": "markdown",
   "id": "b5e74d51",
   "metadata": {},
   "source": [
    "Exercise finished!!!"
   ]
  }
 ],
 "metadata": {
  "kernelspec": {
   "display_name": "Julia 1.10.4",
   "language": "julia",
   "name": "julia-1.10"
  },
  "language_info": {
   "file_extension": ".jl",
   "mimetype": "application/julia",
   "name": "julia",
   "version": "1.10.4"
  }
 },
 "nbformat": 4,
 "nbformat_minor": 5
}
