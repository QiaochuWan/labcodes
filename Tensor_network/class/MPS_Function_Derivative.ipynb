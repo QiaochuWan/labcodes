{
 "cells": [
  {
   "cell_type": "markdown",
   "id": "9ee94407",
   "metadata": {},
   "source": [
    "# First and Second Derivative of Function"
   ]
  },
  {
   "cell_type": "code",
   "execution_count": null,
   "id": "71d65ea7",
   "metadata": {},
   "outputs": [],
   "source": [
    "using ITensors\n",
    "using Plots\n",
    "using HDF5"
   ]
  },
  {
   "cell_type": "markdown",
   "id": "309c4e06",
   "metadata": {},
   "source": [
    "Define function of interest"
   ]
  },
  {
   "cell_type": "code",
   "execution_count": null,
   "id": "3187b291",
   "metadata": {
    "scrolled": false
   },
   "outputs": [],
   "source": [
    "N = 10; # Number of sites\n",
    "s = siteinds(\"Qubit\", N); # Indices for all sites\n",
    "xs = range(0, 2pi*(1-(1/2^N)), length=2^N); # Sampling grid points\n",
    "step_size = 2pi/(2^N);\n",
    "\n",
    "f(x) = cos(x);\n",
    "ys = f.(xs);\n",
    "\n",
    "plot(xs, ys) # Plotting the function"
   ]
  },
  {
   "cell_type": "markdown",
   "id": "b6dc48de",
   "metadata": {},
   "source": [
    "Encode function as MPS"
   ]
  },
  {
   "cell_type": "code",
   "execution_count": null,
   "id": "02f49af6",
   "metadata": {},
   "outputs": [],
   "source": [
    "cutoff = 1E-16;\n",
    "χ = 30;\n",
    "\n",
    "ψ = MPS(ys, s, cutoff=cutoff, maxdim=χ);\n",
    "\n",
    "orthogonalize!(ψ,1)\n",
    "\n",
    "@show linkdims(ψ);"
   ]
  },
  {
   "cell_type": "markdown",
   "id": "61cb0919",
   "metadata": {},
   "source": [
    "Define MPO for first and second derivatives, using central finite difference up to second order"
   ]
  },
  {
   "cell_type": "code",
   "execution_count": null,
   "id": "14c4b413",
   "metadata": {},
   "outputs": [],
   "source": [
    "# Left shift:\n",
    "\n",
    "left_ls = zeros(2, 2, 2) \n",
    "middle_ls = zeros(2, 2, 2, 2) \n",
    "right_ls = zeros(2, 2, 2) \n",
    "\n",
    "left_ls[1, 2, 2] = 1\n",
    "left_ls[2, 1, 1] = 1\n",
    "middle_ls[1, 1, 1, 1] = 1\n",
    "middle_ls[1, 2, 2, 1] = 1\n",
    "middle_ls[2, 2, 1, 1] = 1\n",
    "middle_ls[2, 1, 2, 2] = 1\n",
    "right_ls[1, 1, 1] = 1\n",
    "right_ls[1, 2, 2] = 1\n",
    "right_ls[2, 1, 2] = 1\n",
    "right_ls[2, 2, 1] = 1\n",
    "\n",
    "H_ls = MPO(N);\n",
    "\n",
    "α = [Index(2) for i in 1:(N-1)]; # bond indices\n",
    "\n",
    "for i = 1:N\n",
    "    if i == 1 # first site\n",
    "        H_ls[i] = ITensor(left_ls, s[i], s[i]', α[i]);\n",
    "    elseif i == N # last site\n",
    "        H_ls[i] = ITensor(right_ls, α[i-1], s[i], s[i]');\n",
    "    else # middle site\n",
    "        H_ls[i] = ITensor(middle_ls, α[i-1], s[i], s[i]', α[i]);\n",
    "    end\n",
    "end\n",
    "\n",
    "orthogonalize!(H_ls,1);\n",
    "\n",
    "# Right shift:\n",
    "\n",
    "left_rs = zeros(2, 2, 2) \n",
    "middle_rs = zeros(2, 2, 2, 2) \n",
    "right_rs = zeros(2, 2, 2) \n",
    "\n",
    "left_rs[1, 2, 1] = 1\n",
    "left_rs[2, 1, 2] = 1\n",
    "middle_rs[1, 1, 1, 1] = 1\n",
    "middle_rs[1, 2, 2, 1] = 1\n",
    "middle_rs[2, 1, 2, 1] = 1\n",
    "middle_rs[2, 2, 1, 2] = 1\n",
    "right_rs[1, 1, 1] = 1\n",
    "right_rs[1, 2, 2] = 1\n",
    "right_rs[2, 1, 2] = 1\n",
    "right_rs[2, 2, 1] = 1\n",
    "\n",
    "H_rs = MPO(N);\n",
    "\n",
    "α = [Index(2) for i in 1:(N-1)]; # bond indices\n",
    "\n",
    "for i = 1:N\n",
    "    if i == 1 # first site\n",
    "        H_rs[i] = ITensor(left_rs, s[i], s[i]', α[i]);\n",
    "    elseif i == N # last site\n",
    "        H_rs[i] = ITensor(right_rs, α[i-1], s[i], s[i]');\n",
    "    else # middle site\n",
    "        H_rs[i] = ITensor(middle_rs, α[i-1], s[i], s[i]', α[i]);\n",
    "    end\n",
    "end\n",
    "\n",
    "orthogonalize!(H_rs,1);\n",
    "\n",
    "# Identity:\n",
    "\n",
    "left_id = zeros(2, 2, 1) \n",
    "middle_id = zeros(1, 2, 2, 1) \n",
    "right_id = zeros(1, 2, 2) \n",
    "\n",
    "left_id[1, 1, 1] = 1\n",
    "left_id[2, 2, 1] = 1\n",
    "middle_id[1, 1, 1, 1] = 1\n",
    "middle_id[1, 2, 2, 1] = 1\n",
    "right_id[1, 1, 1] = 1\n",
    "right_id[1, 2, 2] = 1\n",
    "\n",
    "H_id = MPO(N);\n",
    "\n",
    "α = [Index(1) for i in 1:(N-1)]; # bond indices\n",
    "\n",
    "for i = 1:N\n",
    "    if i == 1 # first site\n",
    "        H_id[i] = ITensor(left_id, s[i], s[i]', α[i]);\n",
    "    elseif i == N # last site\n",
    "        H_id[i] = ITensor(right_id, α[i-1], s[i], s[i]');\n",
    "    else # middle site\n",
    "        H_id[i] = ITensor(middle_id, α[i-1], s[i], s[i]', α[i]);\n",
    "    end\n",
    "end\n",
    "\n",
    "orthogonalize!(H_id,1);\n",
    "\n",
    "# Define derivatives\n",
    "H_dudx = 0.5*(H_ls - H_rs)/step_size; # First derivative\n",
    "H_d2udx2 = (H_rs + H_ls - 2*H_id)/(step_size^2); # Second derivative"
   ]
  },
  {
   "cell_type": "markdown",
   "id": "64868b99",
   "metadata": {},
   "source": [
    "Apply derivatives to MPS encoding function"
   ]
  },
  {
   "cell_type": "code",
   "execution_count": null,
   "id": "58c85624",
   "metadata": {},
   "outputs": [],
   "source": [
    "Deriv1 = apply(H_dudx,ψ);\n",
    "Deriv2 = apply(H_d2udx2,ψ);\n",
    "\n",
    "@show linkdims(Deriv1);\n",
    "@show linkdims(Deriv2);"
   ]
  },
  {
   "cell_type": "markdown",
   "id": "a8a8df5e",
   "metadata": {},
   "source": [
    "Contract the resulting MPS and plot the results"
   ]
  },
  {
   "cell_type": "code",
   "execution_count": null,
   "id": "814a1963",
   "metadata": {
    "scrolled": false
   },
   "outputs": [],
   "source": [
    "# Recovering the original big tensors\n",
    "Big_ψ1 = contract(Deriv1); \n",
    "Big_ψ2 = contract(Deriv2); \n",
    "\n",
    "# Changing the format from ITensor to Julia array for plotting\n",
    "J_recon1 = Array(Big_ψ1, s) \n",
    "J_recon2 = Array(Big_ψ2, s) \n",
    "\n",
    "# Reshaping from N-dimentional tensor to regular array\n",
    "ys_recon1 = reshape(J_recon1,2^N,1) \n",
    "ys_recon2 = reshape(J_recon2,2^N,1) \n",
    "\n",
    "# Plotting the reconstructed derivatives of the function\n",
    "plot(xs, ys_recon1) \n",
    "plot!(xs, ys_recon2) "
   ]
  },
  {
   "cell_type": "markdown",
   "id": "b5e74d51",
   "metadata": {},
   "source": [
    "Exercise finished!!!"
   ]
  }
 ],
 "metadata": {
  "kernelspec": {
   "display_name": "Julia 1.10.4",
   "language": "julia",
   "name": "julia-1.10"
  },
  "language_info": {
   "file_extension": ".jl",
   "mimetype": "application/julia",
   "name": "julia",
   "version": "1.10.4"
  }
 },
 "nbformat": 4,
 "nbformat_minor": 5
}
