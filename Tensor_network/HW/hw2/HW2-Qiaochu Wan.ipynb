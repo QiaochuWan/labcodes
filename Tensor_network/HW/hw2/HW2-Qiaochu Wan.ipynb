{
 "cells": [
  {
   "cell_type": "markdown",
   "id": "9ee94407",
   "metadata": {},
   "source": [
    "# First and Second Derivative of Function"
   ]
  },
  {
   "cell_type": "code",
   "execution_count": null,
   "id": "71d65ea7",
   "metadata": {},
   "outputs": [],
   "source": [
    "using ITensors\n",
    "using Plots\n",
    "using HDF5"
   ]
  },
  {
   "cell_type": "markdown",
   "id": "309c4e06",
   "metadata": {},
   "source": [
    "Define function of interest"
   ]
  },
  {
   "cell_type": "code",
   "execution_count": null,
   "id": "3187b291",
   "metadata": {
    "scrolled": false
   },
   "outputs": [],
   "source": [
    "N = 8; # Number of sites\n",
    "s = siteinds(\"Qubit\", N); # Indices for all sites\n",
    "xs = range(0, 2pi*(1-(1/2^N)), length=2^N); # Sampling grid points\n",
    "step_size = 2pi/(2^N);\n",
    "\n",
    "f(x) = cos(x).^2;\n",
    "ys = f.(xs);\n",
    "\n",
    "plot(xs, ys) # Plotting the function"
   ]
  },
  {
   "cell_type": "markdown",
   "id": "b6dc48de",
   "metadata": {},
   "source": [
    "Encode function as MPS"
   ]
  },
  {
   "cell_type": "code",
   "execution_count": null,
   "id": "02f49af6",
   "metadata": {},
   "outputs": [],
   "source": [
    "cutoff = 1E-16;\n",
    "χ = 30;\n",
    "\n",
    "ψ = MPS(ys, s, cutoff=cutoff, maxdim=χ);\n",
    "\n",
    "orthogonalize!(ψ,1)\n",
    "\n",
    "@show linkdims(ψ);"
   ]
  },
  {
   "cell_type": "markdown",
   "id": "61cb0919",
   "metadata": {},
   "source": [
    "Define MPO for first and second derivatives, using central finite difference up to second order"
   ]
  },
  {
   "cell_type": "code",
   "execution_count": null,
   "id": "14c4b413",
   "metadata": {},
   "outputs": [],
   "source": [
    "# Left shift:\n",
    "\n",
    "left_ls = zeros(2, 2, 2) \n",
    "middle_ls = zeros(2, 2, 2, 2) \n",
    "right_ls = zeros(2, 2, 2) \n",
    "\n",
    "left_ls[1, 2, 2] = 1\n",
    "left_ls[2, 1, 1] = 1\n",
    "middle_ls[1, 1, 1, 1] = 1\n",
    "middle_ls[1, 2, 2, 1] = 1\n",
    "middle_ls[2, 2, 1, 1] = 1\n",
    "middle_ls[2, 1, 2, 2] = 1\n",
    "right_ls[1, 1, 1] = 1\n",
    "right_ls[1, 2, 2] = 1\n",
    "right_ls[2, 1, 2] = 1\n",
    "right_ls[2, 2, 1] = 1\n",
    "\n",
    "H_ls = MPO(N);\n",
    "\n",
    "α = [Index(2) for i in 1:(N-1)]; # bond indices\n",
    "\n",
    "for i = 1:N\n",
    "    if i == 1 # first site\n",
    "        H_ls[i] = ITensor(left_ls, s[i], s[i]', α[i]);\n",
    "    elseif i == N # last site\n",
    "        H_ls[i] = ITensor(right_ls, α[i-1], s[i], s[i]');\n",
    "    else # middle site\n",
    "        H_ls[i] = ITensor(middle_ls, α[i-1], s[i], s[i]', α[i]);\n",
    "    end\n",
    "end\n",
    "\n",
    "orthogonalize!(H_ls,1);\n",
    "\n",
    "# Right shift:\n",
    "\n",
    "left_rs = zeros(2, 2, 2) \n",
    "middle_rs = zeros(2, 2, 2, 2) \n",
    "right_rs = zeros(2, 2, 2) \n",
    "\n",
    "left_rs[1, 2, 1] = 1\n",
    "left_rs[2, 1, 2] = 1\n",
    "middle_rs[1, 1, 1, 1] = 1\n",
    "middle_rs[1, 2, 2, 1] = 1\n",
    "middle_rs[2, 1, 2, 1] = 1\n",
    "middle_rs[2, 2, 1, 2] = 1\n",
    "right_rs[1, 1, 1] = 1\n",
    "right_rs[1, 2, 2] = 1\n",
    "right_rs[2, 1, 2] = 1\n",
    "right_rs[2, 2, 1] = 1\n",
    "\n",
    "H_rs = MPO(N);\n",
    "\n",
    "α = [Index(2) for i in 1:(N-1)]; # bond indices\n",
    "\n",
    "for i = 1:N\n",
    "    if i == 1 # first site\n",
    "        H_rs[i] = ITensor(left_rs, s[i], s[i]', α[i]);\n",
    "    elseif i == N # last site\n",
    "        H_rs[i] = ITensor(right_rs, α[i-1], s[i], s[i]');\n",
    "    else # middle site\n",
    "        H_rs[i] = ITensor(middle_rs, α[i-1], s[i], s[i]', α[i]);\n",
    "    end\n",
    "end\n",
    "\n",
    "orthogonalize!(H_rs,1);\n",
    "\n",
    "# Identity:\n",
    "\n",
    "left_id = zeros(2, 2, 1) \n",
    "middle_id = zeros(1, 2, 2, 1) \n",
    "right_id = zeros(1, 2, 2) \n",
    "\n",
    "left_id[1, 1, 1] = 1\n",
    "left_id[2, 2, 1] = 1\n",
    "middle_id[1, 1, 1, 1] = 1\n",
    "middle_id[1, 2, 2, 1] = 1\n",
    "right_id[1, 1, 1] = 1\n",
    "right_id[1, 2, 2] = 1\n",
    "\n",
    "H_id = MPO(N);\n",
    "\n",
    "α = [Index(1) for i in 1:(N-1)]; # bond indices\n",
    "\n",
    "for i = 1:N\n",
    "    if i == 1 # first site\n",
    "        H_id[i] = ITensor(left_id, s[i], s[i]', α[i]);\n",
    "    elseif i == N # last site\n",
    "        H_id[i] = ITensor(right_id, α[i-1], s[i], s[i]');\n",
    "    else # middle site\n",
    "        H_id[i] = ITensor(middle_id, α[i-1], s[i], s[i]', α[i]);\n",
    "    end\n",
    "end\n",
    "\n",
    "orthogonalize!(H_id,1);\n",
    "\n",
    "# Define derivatives\n",
    "#H_dudx = 0.5*(H_ls - H_rs)/step_size; # First derivative\n",
    "#H_d2udx2 = (H_rs + H_ls - 2*H_id)/(step_size^2); # Second derivative\n"
   ]
  },
  {
   "cell_type": "code",
   "execution_count": null,
   "id": "d3e7f28f",
   "metadata": {},
   "outputs": [],
   "source": [
    "#hh=deepcopy(H_rs);\n",
    "#C=MPO(N);\n",
    "#C = prime(hh)*H_rs*H_rs*H_rs\n",
    "H_rs4=apply(H_rs,H_rs,H_rs,H_rs);\n",
    "H_ls4=apply(H_ls,H_ls,H_ls,H_ls);\n",
    "H_rs3=apply(H_rs,H_rs,H_rs);\n",
    "H_ls3=apply(H_ls,H_ls,H_ls);\n",
    "H_rs2=apply(H_rs,H_rs);\n",
    "H_ls2=apply(H_ls,H_ls);\n",
    "\n",
    "H_dudx= (1/280*H_rs4-4/105*H_rs3+1/5*H_rs2-4/5*H_rs+4/5*H_ls-1/5*H_ls2+4/105*H_ls3-1/280*H_ls4)/step_size;\n",
    "H_d2udx2 = (-1/560*H_rs4+8/315*H_rs3-1/5*H_rs2+8/5*H_rs-205/72*H_id+8/5*H_ls-1/5*H_ls2+8/315*H_ls3-1/560*H_ls4)/(step_size^2);"
   ]
  },
  {
   "cell_type": "code",
   "execution_count": null,
   "id": "ed973094",
   "metadata": {},
   "outputs": [],
   "source": [
    "\n",
    "f(x) = -sin(2*x);\n",
    "yd = f.(xs);\n",
    "f(x) = -2 * cos(2x);\n",
    "ydd = f.(xs);\n",
    "\n",
    "plot(xs, yd) \n",
    "plot!(xs, ydd) "
   ]
  },
  {
   "cell_type": "markdown",
   "id": "64868b99",
   "metadata": {},
   "source": [
    "Apply derivatives to MPS encoding function"
   ]
  },
  {
   "cell_type": "code",
   "execution_count": null,
   "id": "58c85624",
   "metadata": {},
   "outputs": [],
   "source": [
    "Deriv1 = apply(H_dudx,ψ);\n",
    "Deriv2 = apply(H_d2udx2,ψ);\n",
    "\n",
    "@show linkdims(Deriv1);\n",
    "@show linkdims(Deriv2);"
   ]
  },
  {
   "cell_type": "code",
   "execution_count": null,
   "id": "1fc211cd",
   "metadata": {},
   "outputs": [],
   "source": [
    "@show linkdims(ψ);\n",
    "@show linkdims(H_dudx);"
   ]
  },
  {
   "cell_type": "markdown",
   "id": "a8a8df5e",
   "metadata": {},
   "source": [
    "Contract the resulting MPS and plot the results"
   ]
  },
  {
   "cell_type": "code",
   "execution_count": null,
   "id": "814a1963",
   "metadata": {
    "scrolled": false
   },
   "outputs": [],
   "source": [
    "# Recovering the original big tensors\n",
    "Big_ψ1 = contract(Deriv1); \n",
    "Big_ψ2 = contract(Deriv2); \n",
    "\n",
    "# Changing the format from ITensor to Julia array for plotting\n",
    "J_recon1 = Array(Big_ψ1, s) \n",
    "J_recon2 = Array(Big_ψ2, s) \n",
    "\n",
    "# Reshaping from N-dimentional tensor to regular array\n",
    "ys_recon1 = reshape(J_recon1,2^N,1) \n",
    "ys_recon2 = reshape(J_recon2,2^N,1) \n",
    "\n",
    "# Plotting the reconstructed derivatives of the function\n",
    "plot(xs, ys_recon1,label=\"Frist df\",linewidth=2) \n",
    "plot!(xs, ys_recon2,label=\"Second df\",linewidth=2) \n",
    "plot!(xs, yd,label=\"real f1\",linewidth=6,linestyle=:dash) \n",
    "plot!(xs, ydd,label=\"real f2\",linewidth=6,linestyle=:dash) "
   ]
  },
  {
   "cell_type": "markdown",
   "id": "b5e74d51",
   "metadata": {},
   "source": [
    "Exercise finished!!!"
   ]
  },
  {
   "cell_type": "markdown",
   "id": "d7d56538",
   "metadata": {},
   "source": [
    "# Problem2"
   ]
  },
  {
   "cell_type": "code",
   "execution_count": null,
   "id": "bb056e21",
   "metadata": {},
   "outputs": [],
   "source": [
    "N = 8; # Number of sites\n",
    "s_x = siteinds(\"Qubit\", N); # Indices for all sites\n",
    "xb = range(0, (1-(1/2^N)), length=2^N); # Sampling grid points"
   ]
  },
  {
   "cell_type": "code",
   "execution_count": null,
   "id": "a9a8e296",
   "metadata": {},
   "outputs": [],
   "source": [
    "\n",
    "step_size = 1/(2^N);\n",
    "Re=1000;\n",
    "dt=0.001;\n",
    "final_t=0.24;\n",
    "tb = range(0, final_t, step=dt);\n",
    "f(x) = exp(-8*pi*(x-0.5).^2);\n",
    "yb = f.(xb);\n",
    "\n",
    "plot(xb, yb)"
   ]
  },
  {
   "cell_type": "code",
   "execution_count": null,
   "id": "0f445175",
   "metadata": {},
   "outputs": [],
   "source": [
    "utoff = 1E-30;\n",
    "χ = 8;\n",
    "\n",
    "ϕ = MPS(yb, s_x, cutoff=cutoff, maxdim=χ);\n",
    "\n",
    "orthogonalize!(ϕ,1)\n",
    "\n",
    "@show linkdims(ϕ);"
   ]
  },
  {
   "cell_type": "code",
   "execution_count": null,
   "id": "11f144b7",
   "metadata": {},
   "outputs": [],
   "source": [
    "# Left shift:\n",
    "\n",
    "left_ls = zeros(2, 2, 2) \n",
    "middle_ls = zeros(2, 2, 2, 2) \n",
    "right_ls = zeros(2, 2, 2) \n",
    "\n",
    "left_ls[1, 2, 2] = 1\n",
    "left_ls[2, 1, 1] = 1\n",
    "middle_ls[1, 1, 1, 1] = 1\n",
    "middle_ls[1, 2, 2, 1] = 1\n",
    "middle_ls[2, 2, 1, 1] = 1\n",
    "middle_ls[2, 1, 2, 2] = 1\n",
    "right_ls[1, 1, 1] = 1\n",
    "right_ls[1, 2, 2] = 1\n",
    "right_ls[2, 1, 2] = 1\n",
    "right_ls[2, 2, 1] = 1\n",
    "\n",
    "H_ls = MPO(N);\n",
    "\n",
    "α = [Index(2) for i in 1:(N-1)]; # bond indices\n",
    "\n",
    "for i = 1:N\n",
    "    if i == 1 # first site\n",
    "        H_ls[i] = ITensor(left_ls, s_x[i], s_x[i]', α[i]);\n",
    "    elseif i == N # last site\n",
    "        H_ls[i] = ITensor(right_ls, α[i-1], s_x[i], s_x[i]');\n",
    "    else # middle site\n",
    "        H_ls[i] = ITensor(middle_ls, α[i-1], s_x[i], s_x[i]', α[i]);\n",
    "    end\n",
    "end\n",
    "\n",
    "orthogonalize!(H_ls,1);\n",
    "\n",
    "# Right shift:\n",
    "\n",
    "left_rs = zeros(2, 2, 2) \n",
    "middle_rs = zeros(2, 2, 2, 2) \n",
    "right_rs = zeros(2, 2, 2) \n",
    "\n",
    "left_rs[1, 2, 1] = 1\n",
    "left_rs[2, 1, 2] = 1\n",
    "middle_rs[1, 1, 1, 1] = 1\n",
    "middle_rs[1, 2, 2, 1] = 1\n",
    "middle_rs[2, 1, 2, 1] = 1\n",
    "middle_rs[2, 2, 1, 2] = 1\n",
    "right_rs[1, 1, 1] = 1\n",
    "right_rs[1, 2, 2] = 1\n",
    "right_rs[2, 1, 2] = 1\n",
    "right_rs[2, 2, 1] = 1\n",
    "\n",
    "H_rs = MPO(N);\n",
    "\n",
    "α = [Index(2) for i in 1:(N-1)]; # bond indices\n",
    "\n",
    "for i = 1:N\n",
    "    if i == 1 # first site\n",
    "        H_rs[i] = ITensor(left_rs, s_x[i], s_x[i]', α[i]);\n",
    "    elseif i == N # last site\n",
    "        H_rs[i] = ITensor(right_rs, α[i-1], s_x[i], s_x[i]');\n",
    "    else # middle site\n",
    "        H_rs[i] = ITensor(middle_rs, α[i-1], s_x[i], s_x[i]', α[i]);\n",
    "    end\n",
    "end\n",
    "\n",
    "orthogonalize!(H_rs,1);\n",
    "\n",
    "# Identity:\n",
    "\n",
    "left_id = zeros(2, 2, 1) \n",
    "middle_id = zeros(1, 2, 2, 1) \n",
    "right_id = zeros(1, 2, 2) \n",
    "\n",
    "left_id[1, 1, 1] = 1\n",
    "left_id[2, 2, 1] = 1\n",
    "middle_id[1, 1, 1, 1] = 1\n",
    "middle_id[1, 2, 2, 1] = 1\n",
    "right_id[1, 1, 1] = 1\n",
    "right_id[1, 2, 2] = 1\n",
    "\n",
    "H_id = MPO(N);\n",
    "\n",
    "α = [Index(1) for i in 1:(N-1)]; # bond indices\n",
    "\n",
    "for i = 1:N\n",
    "    if i == 1 # first site\n",
    "        H_id[i] = ITensor(left_id, s_x[i], s_x[i]', α[i]);\n",
    "    elseif i == N # last site\n",
    "        H_id[i] = ITensor(right_id, α[i-1], s_x[i], s_x[i]');\n",
    "    else # middle site\n",
    "        H_id[i] = ITensor(middle_id, α[i-1], s_x[i], s_x[i]', α[i]);\n",
    "    end\n",
    "end\n",
    "\n",
    "orthogonalize!(H_id,1);\n",
    "\n",
    "# Define derivatives\n",
    "#H_dudx = 0.5*(H_ls - H_rs)/step_size; # First derivative\n",
    "#H_d2udx2 = (H_rs + H_ls - 2*H_id)/(step_size^2); # Second derivative\n"
   ]
  },
  {
   "cell_type": "code",
   "execution_count": null,
   "id": "a544cfdb",
   "metadata": {},
   "outputs": [],
   "source": [
    "#hh=deepcopy(H_rs);\n",
    "#C=MPO(N);\n",
    "#C = prime(hh)*H_rs*H_rs*H_rs\n",
    "H_rs4=apply(H_rs,H_rs,H_rs,H_rs);\n",
    "H_ls4=apply(H_ls,H_ls,H_ls,H_ls);\n",
    "H_rs3=apply(H_rs,H_rs,H_rs);\n",
    "H_ls3=apply(H_ls,H_ls,H_ls);\n",
    "H_rs2=apply(H_rs,H_rs);\n",
    "H_ls2=apply(H_ls,H_ls);\n",
    "\n",
    "H_dudx= (1/280*H_rs4-4/105*H_rs3+1/5*H_rs2-4/5*H_rs+4/5*H_ls-1/5*H_ls2+4/105*H_ls3-1/280*H_ls4)/step_size;\n",
    "H_d2udx2 = (-1/560*H_rs4+8/315*H_rs3-1/5*H_rs2+8/5*H_rs-205/72*H_id+8/5*H_ls-1/5*H_ls2+8/315*H_ls3-1/560*H_ls4)/(step_size^2);"
   ]
  },
  {
   "cell_type": "code",
   "execution_count": null,
   "id": "6bbffd81",
   "metadata": {},
   "outputs": [],
   "source": [
    "f(x) = -8*pi*exp(-2*pi*(1 - 2*x).^2) *(-1 + 2*x)\n",
    "yd = f.(xb);\n",
    "f(x) = 16*pi*exp(-2*pi*(1-2*x).^2)*(4*pi*(1-2*x).^2-1);\n",
    "ydd = f.(xb);"
   ]
  },
  {
   "cell_type": "code",
   "execution_count": null,
   "id": "ef87fc2e",
   "metadata": {},
   "outputs": [],
   "source": [
    "Deriv_x1 = apply(H_dudx,ϕ);\n",
    "Deriv_x2 = apply(H_d2udx2,ϕ);"
   ]
  },
  {
   "cell_type": "code",
   "execution_count": null,
   "id": "fb9b4e0b",
   "metadata": {},
   "outputs": [],
   "source": [
    "\n",
    "Big_ϕ1 = contract(Deriv_x1); \n",
    "Big_ϕ2 = contract(Deriv_x2); \n",
    "\n",
    "# Changing the format from ITensor to Julia array for plotting\n",
    "J_recon1 = Array(Big_ϕ1, s_x) \n",
    "J_recon2 = Array(Big_ϕ2, s_x) \n",
    "\n",
    "# Reshaping from N-dimentional tensor to regular array\n",
    "ys_recon1 = reshape(J_recon1,2^N,1) \n",
    "ys_recon2 = reshape(J_recon2,2^N,1) \n",
    "\n",
    "# Plotting the reconstructed derivatives of the function\n",
    "plot(xb, ys_recon1,label=\"Frist df\",linewidth=2) \n",
    "plot!(xb, ys_recon2,label=\"Second df\",linewidth=2) \n",
    "plot!(xb, yd,label=\"real f1\",linewidth=6,linestyle=:dash) \n",
    "plot!(xb, ydd,label=\"real f2\",linewidth=6,linestyle=:dash) \n",
    "#plot!(xb, yb)"
   ]
  },
  {
   "cell_type": "code",
   "execution_count": null,
   "id": "8c4fd35b",
   "metadata": {},
   "outputs": [],
   "source": [
    "#create hadamard_product_MPO\n",
    "had = MPO(N);\n",
    "had .= convert(MPO, ϕ)\n",
    "for i = 1:N\n",
    "    had[i] *= δ(s_x[i], s_x[i]', s_x[i]'')\n",
    "end\n",
    "\n",
    "had = replaceprime(had, 2 => 0)\n",
    "\n",
    "#ψ3_Had = apply(had, Deriv_x1)\n",
    "\n",
    "#@show linkdims(ψ3_Had);"
   ]
  },
  {
   "cell_type": "code",
   "execution_count": null,
   "id": "0425c62e",
   "metadata": {},
   "outputs": [],
   "source": [
    "for χ = [4,6,7];\n",
    "    cutoff = 1E-30;\n",
    "\n",
    "    Re=1000;\n",
    "    ϕ = MPS(yb, s_x, cutoff=cutoff, maxdim=χ);\n",
    "\n",
    "    orthogonalize!(ϕ,1)\n",
    "    t=0;\n",
    "    runs=0;\n",
    "    #u_xt = []\n",
    "    saved_times = [0.0, 0.06, 0.12, 0.18, 0.24]\n",
    "    saved_steps = saved_times./dt;\n",
    "\n",
    "    #P=plot(xb, yb,label= \"t=0\")\n",
    "    #println(\"00\")\n",
    "    P=plot()\n",
    "    while t <= final_t+0.01\n",
    "        Deriv1 = apply(H_dudx,ϕ,maxdim=χ);\n",
    "        ϕ_Had = apply(had, Deriv1,maxdim=χ);\n",
    "        Deriv2 = apply(H_d2udx2,ϕ,maxdim=χ);\n",
    "\n",
    "        ϕ_next = +(ϕ,(dt/Re)*Deriv2,(-dt)*ϕ_Had  ; maxdim=χ);\n",
    "        \n",
    "        if runs in saved_steps\n",
    "            Big_ϕ = contract(ϕ_next); \n",
    "            J_recon = Array(Big_ϕ, s_x) \n",
    "            y_recon = reshape(J_recon,2^N,1) \n",
    "            plot!(xb, y_recon, label=\"t = $(round(t, digits=2))\", lw=2)\n",
    "            title!(\"χ = $χ\")\n",
    "            #println(\"t=$t\")\n",
    "            #plot!(P,pl)\n",
    "        end\n",
    "        runs+=1;\n",
    "        ϕ = ϕ_next;\n",
    "        t=t+dt;\n",
    "    end\n",
    "    display(P)\n",
    "    \n",
    "end\n"
   ]
  },
  {
   "cell_type": "code",
   "execution_count": null,
   "id": "cca52305",
   "metadata": {},
   "outputs": [],
   "source": [
    "using Plots\n",
    "χ =8\n",
    "ϕ = MPS(yb, s_x, cutoff=cutoff, maxdim=χ);\n",
    "\n",
    "orthogonalize!(ϕ,1)\n",
    "t=0\n",
    "#dt =1e-4;\n",
    "tmax=0.5;\n",
    "nmax=round(tmax/dt);\n",
    "anim = Animation()\n",
    "for n=1:nmax\n",
    "    Deriv1 = apply(H_dudx,ϕ);\n",
    "    ϕ_Had = apply(had, Deriv1);\n",
    "    Deriv2 = apply(H_d2udx2,ϕ);\n",
    "\n",
    "    ϕ_next = +(ϕ,(dt/Re)*Deriv2,(-dt)*ϕ_Had  ; maxdim=χ);\n",
    "    \n",
    "    \n",
    "    Big_ϕ = contract(ϕ_next); \n",
    "    J_recon = Array(Big_ϕ, s_x) \n",
    "    y_recon = reshape(J_recon,2^N,1) \n",
    "    p=plot(xb, y_recon, legend= false ,title=\"t = $(round(t, digits=2))\", lw=2)\n",
    "    #println(\"t=$t\")\n",
    "    frame(anim,p)\n",
    "    ϕ = ϕ_next;\n",
    "    t=t+dt;\n",
    "end\n",
    "gif(anim, \"burger_equation.gif\", fps=100)"
   ]
  },
  {
   "cell_type": "code",
   "execution_count": null,
   "id": "dfc026b6",
   "metadata": {},
   "outputs": [],
   "source": [
    "mp4(anim, \"burger_equation.mp4\", fps=100)\n"
   ]
  },
  {
   "cell_type": "markdown",
   "id": "fe4a19a6",
   "metadata": {},
   "source": [
    "# problem4"
   ]
  },
  {
   "cell_type": "code",
   "execution_count": null,
   "id": "49f93145",
   "metadata": {},
   "outputs": [],
   "source": [
    "N = 30 # System size\n",
    "J1 = 1; # Hopping parameters\n",
    "J2 = 0.5;\n",
    "h=2;\n",
    "#PBC = 0; # Periodic boundary conditions\n",
    "\n",
    "# Define N S=1/2 spin indices\n",
    "sites = siteinds(\"S=1/2\",N);"
   ]
  },
  {
   "cell_type": "code",
   "execution_count": null,
   "id": "7c8fe94f",
   "metadata": {},
   "outputs": [],
   "source": [
    "function Hamiltonian(N,sites,J1,J2,h)\n",
    "\n",
    "    # Initiate construction\n",
    "    ops = OpSum()\n",
    "\n",
    "    # Hopping terms\n",
    "    for j=1:N-1\n",
    "        ops += J1,\"Sz\",j,\"Sz\",j+1\n",
    "        ops += J1,\"Sz\",j,\"Sz\",j+1    \n",
    "    end\n",
    "    for j=1:N-2\n",
    "        ops += J2,\"Sz\",j,\"Sz\",j+2\n",
    "        ops += J2,\"Sz\",j,\"Sz\",j+2    \n",
    "    end\n",
    "    for j=1:N\n",
    "        ops += -h,\"Sx\",j\n",
    "    end\n",
    "\n",
    "    # PBC if required\n",
    "   \n",
    "\n",
    "    H = MPO(ops,sites);\n",
    "    \n",
    "    return H;\n",
    "    \n",
    "end;"
   ]
  },
  {
   "cell_type": "code",
   "execution_count": null,
   "id": "d3f4d858",
   "metadata": {},
   "outputs": [],
   "source": [
    "function InitialState(sites,N)\n",
    "    \n",
    "    state = [isodd(n) ? \"Up\" : \"Dn\" for n=1:N];\n",
    "    ψi = MPS(sites,state);\n",
    "    \n",
    "    return ψi;\n",
    "end"
   ]
  },
  {
   "cell_type": "code",
   "execution_count": null,
   "id": "f2aae80d",
   "metadata": {},
   "outputs": [],
   "source": [
    "function GroundState(H,ψi)\n",
    "\n",
    "    # Do many sweeps of DMRG, gradually increasing the maximum MPS bond dimension\n",
    "    nsweeps = 50;\n",
    "    maxdim = 100;\n",
    "    cutoff = 1E-10;\n",
    "\n",
    "    # Run the DMRG algorithm for ground state   \n",
    "    energy0,ψ0 = dmrg(H,ψi; nsweeps, maxdim, cutoff, outputlevel=1);\n",
    "\n",
    "    @show energy0\n",
    "\n",
    "    # Orthonormalize state. Leave site 1 as orthogonalization center\n",
    "    orthogonalize!(ψ0,1)\n",
    "\n",
    "    return energy0, ψ0;\n",
    "    \n",
    "end"
   ]
  },
  {
   "cell_type": "code",
   "execution_count": null,
   "id": "b6d6f3df",
   "metadata": {},
   "outputs": [],
   "source": [
    "# Define spin Hamiltonian\n",
    "H = Hamiltonian(N,sites,J1,J2,h);\n",
    "ψi = InitialState(sites,N);\n",
    "# Calculate ground state\n",
    "E0,ψ0 = GroundState(H,ψi);"
   ]
  },
  {
   "cell_type": "code",
   "execution_count": null,
   "id": "40bca13d",
   "metadata": {},
   "outputs": [],
   "source": [
    "E0 = inner(ψ0',H,ψ0);\n",
    "@show E0;"
   ]
  },
  {
   "cell_type": "code",
   "execution_count": null,
   "id": "d4444191",
   "metadata": {},
   "outputs": [],
   "source": [
    "H2 = inner(H,ψ0,H,ψ0)\n",
    "var = H2-E^2\n",
    "@show var"
   ]
  },
  {
   "cell_type": "code",
   "execution_count": null,
   "id": "cce61832",
   "metadata": {},
   "outputs": [],
   "source": [
    "# Calculate ground state expectation values\n",
    "Norm = real(norm(ψ0)); # Norm of the state \n",
    "Sx = real(expect(ψ0, \"Sx\"))/Norm^2; # Magnetization along x\n",
    "Sz = real(expect(ψ0, \"Sz\"))/Norm^2; # Magnetization along z\n",
    "SxSx = correlation_matrix(ψ0,\"Sx\",\"Sx\")/Norm^2; # XX Correlations\n",
    "SzSz = correlation_matrix(ψ0,\"Sz\",\"Sz\")/Norm^2; # ZZ Correlations"
   ]
  },
  {
   "cell_type": "code",
   "execution_count": null,
   "id": "26468ae0",
   "metadata": {},
   "outputs": [],
   "source": [
    "plot(Sx, xlabel = \"j\", ylabel = \"Sx(j)\")"
   ]
  },
  {
   "cell_type": "code",
   "execution_count": null,
   "id": "c5972925",
   "metadata": {},
   "outputs": [],
   "source": [
    "heatmap(SzSz, xlabel = \"j\", ylabel = \"k\")"
   ]
  },
  {
   "cell_type": "code",
   "execution_count": null,
   "id": "345b48f6",
   "metadata": {},
   "outputs": [],
   "source": [
    "mutable struct DmrgObserver <: AbstractObserver\n",
    "    energy_tol::Float64\n",
    "    last_energy::Float64\n",
    " \n",
    "    DmrgObserver(energy_tol=0.0) = new(energy_tol,1000.0)\n",
    " end"
   ]
  },
  {
   "cell_type": "code",
   "execution_count": null,
   "id": "8d06859f",
   "metadata": {},
   "outputs": [],
   "source": [
    "function ITensors.checkdone!(o::DmrgObserver;kwargs...)\n",
    "    sw = kwargs[:sweep]\n",
    "    energy = kwargs[:energy]\n",
    "  \n",
    "    # Stop DMRG if current sweep sequence converged\n",
    "    if (abs(energy-o.last_energy)/abs(energy) < o.energy_tol)  \n",
    "      println(\"Stopping DMRG after sweep $sw\") \n",
    "      return true\n",
    "    end\n",
    "      \n",
    "    # Otherwise, update last_energy and keep going\n",
    "    o.last_energy = energy\n",
    "    return false\n",
    "  end"
   ]
  },
  {
   "cell_type": "code",
   "execution_count": null,
   "id": "ea11c9d6",
   "metadata": {},
   "outputs": [],
   "source": [
    "function ExcitedState(H,ψi,ψ0)\n",
    "\n",
    "    # Do many sweeps of DMRG, gradually increasing the maximum MPS bond dimension\n",
    "    nsweeps = 50;\n",
    "    #maxdim = [10 20 30 50 80 100 120]\n",
    "    maxdim= 200\n",
    "    cutoff = [1E-10]\n",
    "    #noise = [1E-6]; # Could also use setnoise!\n",
    "    noise = [1E+44]\n",
    "    obs = DmrgObserver(1E-15) # Convergence criterium\n",
    "\n",
    "    # Run the DMRG algorithm for ground state   \n",
    "    energy1,ψ1 = dmrg(H,[ψ0],ψi; nsweeps, maxdim, cutoff, noise, observer=obs, outputlevel=1)\n",
    "    \n",
    "    @show energy1\n",
    "\n",
    "    # Orthonormalize state. Leave site 1 as orthogonalization center\n",
    "    orthogonalize!(ψ1,1)\n",
    "\n",
    "    return energy1, ψ1;\n",
    "    \n",
    "end"
   ]
  },
  {
   "cell_type": "code",
   "execution_count": null,
   "id": "00fad8fc",
   "metadata": {},
   "outputs": [],
   "source": [
    "ψi = InitialState(sites,N);"
   ]
  },
  {
   "cell_type": "code",
   "execution_count": null,
   "id": "de46dba1",
   "metadata": {},
   "outputs": [],
   "source": [
    "E1,ψ1 = ExcitedState(H,ψi,ψ0);\n",
    "Gap = E1 - E0;\n",
    "\n",
    "@show Gap;"
   ]
  },
  {
   "cell_type": "code",
   "execution_count": null,
   "id": "ca9d1243",
   "metadata": {},
   "outputs": [],
   "source": [
    "Ein = inner(ψ0,ψ1);\n",
    "@show Ein;"
   ]
  },
  {
   "cell_type": "code",
   "execution_count": null,
   "id": "9dbee6a3",
   "metadata": {},
   "outputs": [],
   "source": [
    "E1 = inner(ψ1',H,ψ1);\n",
    "@show E1;"
   ]
  },
  {
   "cell_type": "code",
   "execution_count": null,
   "id": "b481ad63",
   "metadata": {},
   "outputs": [],
   "source": [
    "H2 = inner(H,ψ1,H,ψ1)\n",
    "var = H2-E1^2\n",
    "@show var"
   ]
  }
 ],
 "metadata": {
  "kernelspec": {
   "display_name": "Julia 1.10.5",
   "language": "julia",
   "name": "julia-1.10"
  },
  "language_info": {
   "file_extension": ".jl",
   "mimetype": "application/julia",
   "name": "julia",
   "version": "1.10.5"
  }
 },
 "nbformat": 4,
 "nbformat_minor": 5
}
