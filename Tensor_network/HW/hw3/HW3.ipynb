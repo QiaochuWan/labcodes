{
 "cells": [
  {
   "cell_type": "code",
   "execution_count": null,
   "id": "fb47b249",
   "metadata": {},
   "outputs": [],
   "source": [
    "using ITensors\n",
    "using Plots\n",
    "using LinearAlgebra\n",
    "plot_font = \"Computer Modern\";"
   ]
  },
  {
   "cell_type": "markdown",
   "id": "de8d09e4",
   "metadata": {},
   "source": [
    "# TEBD for real-time evolution of XXZ spin model\n",
    "\n",
    "The Hamiltonian of the XXZ spin-1/2 chain is given by: $H = J \\sum_{j=1}^{N-1} \\left(S_j^x S_{j+1}^x + S_j^y S_{j+1}^y + \\Delta S_j^z S_{j+1}^z\\right) + B \\sum_{j=1}^N (-1)^j S_j^z$\n",
    "where $J = 1$, $N = 24$, and $S_j^{\\alpha}$ are spin-1/2 operators.\n",
    "\n"
   ]
  },
  {
   "cell_type": "markdown",
   "id": "668fe60c",
   "metadata": {},
   "source": [
    "Setup parameters"
   ]
  },
  {
   "cell_type": "code",
   "execution_count": null,
   "id": "e0c7ba0d",
   "metadata": {},
   "outputs": [],
   "source": [
    "N = 24   # Number of sites  \n",
    "\n",
    "J = 1.0   # Hopping\n",
    "Δ = 1.00   # entopy\n",
    "B = 1.0   # Bfield\n",
    "\n",
    "T = 8.0  # Final time\n",
    "δt = 0.01   # Time step\n",
    "time = 0.0:δt:T   # Time vector\n",
    "tbigstep = 20   # Calculate expectation values each tbigstep times\n",
    "\n",
    "num_expvals = Int(((length(time)-1)/tbigstep)) + 1; # Number of times expectation values will be calculated. The ±1 is to account correctly for t = 0  \n",
    "cutoff = 1E-8;   # Truncation allowed per step\n",
    "χ = 100; # Maximum bond dimension\n",
    "\n",
    "s = siteinds(\"S=1/2\",N);"
   ]
  },
  {
   "cell_type": "markdown",
   "id": "624eaabf",
   "metadata": {},
   "source": [
    "### a) Define an initial MPS in which the first half of the lattice has spins pointing up, and the second half has spins pointing down (3 points).\n",
    "In this step, we define an initial MPS where:\n",
    "- The first half of the lattice ($1 \\leq j \\leq 12$) has spins pointing up ($S^z = +1$).\n",
    "- The second half ($13 \\leq j \\leq 24$) has spins pointing down ($S^z = -1$)."
   ]
  },
  {
   "cell_type": "code",
   "execution_count": null,
   "id": "26b71298",
   "metadata": {},
   "outputs": [],
   "source": [
    "function InitialState(s,N)\n",
    "\n",
    "\n",
    "   state = [n<=N/2 ? \"Up\" : \"Dn\" for n=1:N];\n",
    "   @show state\n",
    "   ψ0 = MPS(s,state);\n",
    "   \n",
    "   return ψ0;\n",
    "end"
   ]
  },
  {
   "cell_type": "markdown",
   "id": "b2facc07",
   "metadata": {},
   "source": [
    "### b) Implement a TEBD code for simulating the time evolution of the initial MPS under the Hamiltonian of Eq. (1), up to a final time T = 8.0. Select adequate values for the time step δt and truncation parameters (20 points)."
   ]
  },
  {
   "cell_type": "code",
   "execution_count": null,
   "id": "04b38c1c",
   "metadata": {},
   "outputs": [],
   "source": [
    "Norm = zeros(num_expvals,1); # Norm of evolved state\n",
    "Popul = zeros(num_expvals,N); # Number of bosons per site\n",
    "Coherences = zeros(num_expvals,N,N)+1im*zeros(num_expvals,N,N); # Coherences between all sites, can be complex\n",
    "SvN = zeros(num_expvals,N-1); # von Neumann entanglement entropy\n",
    "Time_expvals = zeros(num_expvals,1); # Time of expectation values"
   ]
  },
  {
   "cell_type": "markdown",
   "id": "01bc399f",
   "metadata": {},
   "source": [
    "Function to calculate expectation values"
   ]
  },
  {
   "cell_type": "code",
   "execution_count": null,
   "id": "bd5b58bd",
   "metadata": {},
   "outputs": [],
   "source": [
    "function ExpVals!(ψ,N,Popul,Coherences,Norm,timeval) # Here, timeval is the position in the arrays of expectation values where info will be stored \n",
    "\n",
    "   # The functions expect and correlation_matrix normalize internally the expectation values\n",
    "   Popul[timeval,:] = real(expect(ψ, \"Sz\")); # Population of each site\n",
    "   Coherences[timeval,:,:] = correlation_matrix(ψ,\"Sx\",\"Sx\"); # Single particle density matrix\n",
    "   Norm[timeval,1] = norm(ψ); # Norm of the state\n",
    "    \n",
    "end;"
   ]
  },
  {
   "cell_type": "markdown",
   "id": "a6f74c99",
   "metadata": {},
   "source": [
    "Function to calculate von Neumann entanglement entropy"
   ]
  },
  {
   "cell_type": "code",
   "execution_count": null,
   "id": "369dc643",
   "metadata": {},
   "outputs": [],
   "source": [
    "function Entropy!(state, N, SvN, timeval)\n",
    "\n",
    "    SvN_time = zeros(N-1)\n",
    "    \n",
    "    for b=1:N-1\n",
    "        orthogonalize!(state, b)\n",
    "        if b == 1\n",
    "            U,S,V = svd(state[b], (siteind(state, b))) # There is no link to the left\n",
    "        else\n",
    "            U,S,V = svd(state[b], (linkind(state, b-1), siteind(state, b)))\n",
    "        end\n",
    "        for n=1:dim(S, 1)\n",
    "            p = S[n,n]^2\n",
    "            SvN_time[b] -= p * log(p)\n",
    "        end\n",
    "    end\n",
    "\n",
    "    SvN[timeval,:] = SvN_time\n",
    "    \n",
    "    #return SvN\n",
    "    \n",
    "end"
   ]
  },
  {
   "cell_type": "markdown",
   "id": "e641e020",
   "metadata": {},
   "source": [
    "Define sequence of local evolution propagators\n",
    "$H = J \\sum_{j=1}^{N-1} \\left(S_j^x S_{j+1}^x + S_j^y S_{j+1}^y + \\Delta S_j^z S_{j+1}^z\\right) + B \\sum_{j=1}^N (-1)^j S_j^z$"
   ]
  },
  {
   "cell_type": "code",
   "execution_count": null,
   "id": "25691787",
   "metadata": {},
   "outputs": [],
   "source": [
    "function staircase_gates(s,N,δt,J,Δ,B)\n",
    "\n",
    "    gates = ITensor[] # Initialize network of two-site gates\n",
    "\n",
    "    # Sweep over pairs of sites\n",
    "    for j in 1:(N - 1)\n",
    "        \n",
    "        s1 = s[j]\n",
    "        s2 = s[j + 1]\n",
    "    \n",
    "        # Define factors for single-site operators\n",
    "        fs1 = 0.5;\n",
    "        fs2 = 0.5;\n",
    "        if(j == 1)\n",
    "            fs1 = 1;\n",
    "        elseif(j == N-1)\n",
    "            fs2 = 1;\n",
    "        end\n",
    "        staggered=isodd(j) ? -1 : 1\n",
    "        #staggered=1\n",
    "        # Define two-site Hamiltonian\n",
    "        hj = J*op(\"Sx\",s1)*op(\"Sx\",s2)+J*op(\"Sy\",s1)*op(\"Sy\",s2)+J*Δ*op(\"Sz\",s1)*op(\"Sz\",s2); # Hopping\n",
    "        hj = hj + B*staggered*(4/3)*fs1*op(\"Sz\",s1)*op(\"S2\",s2) ; # Interaction of left site\n",
    "        hj = hj - B*staggered*(4/3)*fs2*op(\"S2\",s1)*op(\"Sz\",s2) ; # Interaction of right site\n",
    "        \n",
    "        # Create local gate and include in total propagator\n",
    "        Gj = exp(-1im*0.5*δt*hj)\n",
    "        push!(gates, Gj)\n",
    "    end\n",
    "    \n",
    "    # Include gates in reverse order too (N,N-1),(N-1,N-2),...\n",
    "    append!(gates, reverse(gates));\n",
    "    \n",
    "    return gates\n",
    "end;    "
   ]
  },
  {
   "cell_type": "markdown",
   "id": "9b15a27d",
   "metadata": {},
   "source": [
    "----------- Main code of time evolution -----------"
   ]
  },
  {
   "cell_type": "markdown",
   "id": "03a9ecd8",
   "metadata": {},
   "source": [
    "Define initial state"
   ]
  },
  {
   "cell_type": "code",
   "execution_count": null,
   "id": "0e801087",
   "metadata": {},
   "outputs": [],
   "source": [
    "s = siteinds(\"S=1/2\",N);"
   ]
  },
  {
   "cell_type": "code",
   "execution_count": null,
   "id": "d2cc388c",
   "metadata": {},
   "outputs": [],
   "source": [
    "ψ0 = InitialState(s,N);"
   ]
  },
  {
   "cell_type": "markdown",
   "id": "65dba95f",
   "metadata": {},
   "source": [
    "Calculate initial expectation values and entropy"
   ]
  },
  {
   "cell_type": "code",
   "execution_count": null,
   "id": "c2097d26",
   "metadata": {},
   "outputs": [],
   "source": [
    "ExpVals!(ψ0, N, Popul, Coherences, Norm, 1);\n",
    "\n",
    "#@show Popul[1,:];\n",
    "#@show Coherences"
   ]
  },
  {
   "cell_type": "code",
   "execution_count": null,
   "id": "bce7d75c",
   "metadata": {},
   "outputs": [],
   "source": [
    "Entropy!(ψ0, N, SvN, 1);\n",
    "\n",
    "@show SvN[1,:];"
   ]
  },
  {
   "cell_type": "markdown",
   "id": "ec419950",
   "metadata": {},
   "source": [
    "Create gate staircase for time evolution"
   ]
  },
  {
   "cell_type": "code",
   "execution_count": null,
   "id": "dbd224b5",
   "metadata": {},
   "outputs": [],
   "source": [
    "gates = staircase_gates(s,N,δt,J,Δ,B);"
   ]
  },
  {
   "cell_type": "markdown",
   "id": "915e6767",
   "metadata": {},
   "source": [
    "Perform time evolution"
   ]
  },
  {
   "cell_type": "code",
   "execution_count": null,
   "id": "3db2ee45",
   "metadata": {
    "scrolled": true
   },
   "outputs": [],
   "source": [
    "ψ = ψ0\n",
    "\n",
    "count_expvals = 1;\n",
    "\n",
    "for t in 1:length(time)-1\n",
    "\n",
    "    ψ = apply(gates, ψ; cutoff=cutoff, maxdim=χ)\n",
    "    #normalize!(ψ)\n",
    "    \n",
    "    if(mod(t,tbigstep)== 0)\n",
    "       \n",
    "        println(\"Calculating expectation values for $(t) number of steps\")\n",
    "        count_expvals = count_expvals + 1;\n",
    "\n",
    "        Time_expvals[count_expvals] = t*δt;\n",
    "            \n",
    "        # The state is not normalized, just the expectation values in the function\n",
    "        ExpVals!(ψ, N, Popul, Coherences, Norm, count_expvals);\n",
    "        Entropy!(ψ, N, SvN, count_expvals);                \n",
    "\n",
    "    end\n",
    "    \n",
    "end;"
   ]
  },
  {
   "cell_type": "markdown",
   "id": "90b721d8",
   "metadata": {},
   "source": [
    "Plot results"
   ]
  },
  {
   "cell_type": "code",
   "execution_count": null,
   "id": "ff7816c1",
   "metadata": {},
   "outputs": [],
   "source": [
    "@show size(Popul')"
   ]
  },
  {
   "cell_type": "code",
   "execution_count": null,
   "id": "62f6992c",
   "metadata": {},
   "outputs": [],
   "source": [
    "j_array = 1:N\n",
    "heatmap(Time_expvals[:,1], j_array, Popul', xlabel = \"Time\", ylabel = \"j\", xtickfontsize = 15, ytickfontsize = 15, xguidefontsize = 15, yguidefontsize = 15, colorbar_tickfontsize = 15, c = :plasma, fontfamily=plot_font)\n",
    "#title!('Sz')"
   ]
  },
  {
   "cell_type": "code",
   "execution_count": null,
   "id": "37dd98df",
   "metadata": {},
   "outputs": [],
   "source": [
    "plot(Time_expvals,Popul[:,Int(0.5*N)], xlabel = \"Time\", ylabel = \"Sz at site N/2\", xtickfontsize = 15, ytickfontsize = 15, xguidefontsize = 15, yguidefontsize = 15, colorbar_tickfontsize = 15, c = :plasma, fontfamily=plot_font)"
   ]
  },
  {
   "cell_type": "code",
   "execution_count": null,
   "id": "50aaffff",
   "metadata": {},
   "outputs": [],
   "source": [
    "jmin1_array = 1:N-1\n",
    "heatmap(Time_expvals[:,1], jmin1_array, SvN', xlabel = \"Time\", ylabel = \"j\", xtickfontsize = 15, ytickfontsize = 15, xguidefontsize = 15, yguidefontsize = 15, colorbar_tickfontsize = 15, c = :plasma, fontfamily=plot_font)"
   ]
  },
  {
   "cell_type": "code",
   "execution_count": null,
   "id": "d034149f",
   "metadata": {},
   "outputs": [],
   "source": [
    "plot(Time_expvals,SvN[:,Int(0.5*N)], xlabel = \"Time\", ylabel = \"Entanglement at bond N/2\", xtickfontsize = 15, ytickfontsize = 15, xguidefontsize = 15, yguidefontsize = 15, colorbar_tickfontsize = 15, c = :plasma, fontfamily=plot_font)"
   ]
  },
  {
   "cell_type": "markdown",
   "id": "e88c6fc3",
   "metadata": {},
   "source": [
    "Simulation finished!!!"
   ]
  },
  {
   "cell_type": "markdown",
   "id": "a75c742d",
   "metadata": {},
   "source": [
    "### c) Obtain the magnetization along z at every site of the spin chain for times t = 0, 2, 4, 6, 8, and for the following combinations of parameters Δ and B. Plot and save the results of each combination of Δ and B on a separate figure (2 points each figure).\n",
    "\n",
    "i. Δ = 0, B = 0.   \n",
    "ii. Δ = 0, B = 2.   \n",
    "iii. Δ = 2, B = 0.  "
   ]
  },
  {
   "cell_type": "markdown",
   "id": "2d2b52c5",
   "metadata": {},
   "source": [
    "### d) Obtain the von Neumann entanglement entropy at every bond of the spin chain for times t = 0, 2, 4, 6, 8, and for the same combinations of parameters Δ and B of c). Plot and save the results of each combination of Δ and B on a separate figure (2 points each figure)."
   ]
  },
  {
   "cell_type": "code",
   "execution_count": null,
   "id": "688e08b5",
   "metadata": {},
   "outputs": [],
   "source": [
    "J = 1.0   # Hopping\n",
    "Δ = 0.00   # entopy\n",
    "B = 0.0   # Bfield\n",
    "\n",
    "T = 8.0  # Final time\n",
    "δt = 0.01   # Time step\n",
    "time = 0.0:δt:T   # Time vector\n",
    "tbigstep = 200 ;  # Calculate expectation values each tbigstep times\n",
    "\n",
    "num_expvals = Int(((length(time)-1)/tbigstep)) + 1; # Number of times expectation values will be calculated. The ±1 is to account correctly for t = 0  \n",
    "cutoff = 1E-8;   # Truncation allowed per step\n",
    "χ = 100; # Maximum bond dimension"
   ]
  },
  {
   "cell_type": "code",
   "execution_count": null,
   "id": "028b4a9c",
   "metadata": {},
   "outputs": [],
   "source": [
    "Norm = zeros(num_expvals,1); # Norm of evolved state\n",
    "Popul = zeros(num_expvals,N); # Number of bosons per site\n",
    "Coherences = zeros(num_expvals,N,N)+1im*zeros(num_expvals,N,N); # Coherences between all sites, can be complex\n",
    "SvN = zeros(num_expvals,N-1); # von Neumann entanglement entropy\n",
    "Time_expvals = zeros(num_expvals,1); # Time of expectation values"
   ]
  },
  {
   "cell_type": "code",
   "execution_count": null,
   "id": "eea281a4",
   "metadata": {},
   "outputs": [],
   "source": [
    "gates = staircase_gates(s,N,δt,J,Δ,B);"
   ]
  },
  {
   "cell_type": "code",
   "execution_count": null,
   "id": "31852cc6",
   "metadata": {},
   "outputs": [],
   "source": [
    "ψ = ψ0\n",
    "\n",
    "count_expvals = 1;\n",
    "\n",
    "for t in 1:length(time)-1\n",
    "\n",
    "    ψ = apply(gates, ψ; cutoff=cutoff, maxdim=χ)\n",
    "    #normalize!(ψ)\n",
    "    \n",
    "    if(mod(t,tbigstep)== 0)\n",
    "       \n",
    "        println(\"Calculating expectation values for $(t) number of steps\")\n",
    "        count_expvals = count_expvals + 1;\n",
    "\n",
    "        Time_expvals[count_expvals] = t*δt;\n",
    "            \n",
    "        # The state is not normalized, just the expectation values in the function\n",
    "        ExpVals!(ψ, N, Popul, Coherences, Norm, count_expvals);\n",
    "        Entropy!(ψ, N, SvN, count_expvals);                \n",
    "\n",
    "    end\n",
    "    \n",
    "end;"
   ]
  },
  {
   "cell_type": "code",
   "execution_count": null,
   "id": "41deed5d",
   "metadata": {},
   "outputs": [],
   "source": [
    "Popul0= zeros(N);\n",
    "Norm0 = norm(ψ0);\n",
    "Popul0[:] = real(expect(ψ0, \"Sz\"))\n",
    "plot(Popul0,label=\"t = 0\")\n",
    "plot!(Popul'[:,2],label=\"t = 2\")\n",
    "plot!(Popul'[:,3],label=\"t = 4\")\n",
    "plot!(Popul'[:,4],label=\"t = 6\")\n",
    "plot!(Popul'[:,5],label=\"t = 8\")\n",
    "title!(\"Δ = $Δ, B=$B,  Sz magnetization\")"
   ]
  },
  {
   "cell_type": "code",
   "execution_count": null,
   "id": "c97d95fa",
   "metadata": {},
   "outputs": [],
   "source": [
    "#SvN0 = zeros(N-1);\n",
    "#SvN0[:] = real(expect(ψ0, \"Sz\"))/Norm0^2\n",
    "\n",
    "plot( SvN'[:,1],label=\"t = 0\")\n",
    "plot!(SvN'[:,2],label=\"t = 2\")\n",
    "plot!(SvN'[:,3],label=\"t = 4\")\n",
    "plot!(SvN'[:,4],label=\"t = 6\")\n",
    "plot!(SvN'[:,5],label=\"t = 8\")\n",
    "title!(\"Δ = $Δ, B=$B,  von Neumann entanglement entropy\")"
   ]
  },
  {
   "cell_type": "code",
   "execution_count": null,
   "id": "f8e92323",
   "metadata": {},
   "outputs": [],
   "source": [
    "\n",
    "Δ = 0.00 ;  # entopy\n",
    "B = 2.0 ;  # Bfield"
   ]
  },
  {
   "cell_type": "code",
   "execution_count": null,
   "id": "92e9af67",
   "metadata": {},
   "outputs": [],
   "source": [
    "gates = staircase_gates(s,N,δt,J,Δ,B);"
   ]
  },
  {
   "cell_type": "code",
   "execution_count": null,
   "id": "80894271",
   "metadata": {},
   "outputs": [],
   "source": [
    "ψ = ψ0\n",
    "\n",
    "count_expvals = 1;\n",
    "\n",
    "for t in 1:length(time)-1\n",
    "\n",
    "    ψ = apply(gates, ψ; cutoff=cutoff, maxdim=χ)\n",
    "    #normalize!(ψ)\n",
    "    \n",
    "    if(mod(t,tbigstep)== 0)\n",
    "       \n",
    "        println(\"Calculating expectation values for $(t) number of steps\")\n",
    "        count_expvals = count_expvals + 1;\n",
    "\n",
    "        Time_expvals[count_expvals] = t*δt;\n",
    "            \n",
    "        # The state is not normalized, just the expectation values in the function\n",
    "        ExpVals!(ψ, N, Popul, Coherences, Norm, count_expvals);\n",
    "        Entropy!(ψ, N, SvN, count_expvals);                \n",
    "\n",
    "    end\n",
    "    \n",
    "end;"
   ]
  },
  {
   "cell_type": "code",
   "execution_count": null,
   "id": "2784afad",
   "metadata": {},
   "outputs": [],
   "source": [
    "Sz0= zeros(N);\n",
    "Norm0 = norm(ψ0);\n",
    "Sz0[:] = real(expect(ψ0, \"Sz\"))/Norm0^2\n",
    "plot(Sz0,label=\"t = 0\")\n",
    "plot!(Popul'[:,2],label=\"t = 2\")\n",
    "plot!(Popul'[:,3],label=\"t = 4\")\n",
    "plot!(Popul'[:,4],label=\"t = 6\")\n",
    "plot!(Popul'[:,5],label=\"t = 8\")\n",
    "title!(\"Δ = $Δ, B=$B,  Sz magnetization\")"
   ]
  },
  {
   "cell_type": "code",
   "execution_count": null,
   "id": "c410cdea",
   "metadata": {},
   "outputs": [],
   "source": [
    "plot( SvN'[:,1],label=\"t = 0\")\n",
    "plot!(SvN'[:,2],label=\"t = 2\")\n",
    "plot!(SvN'[:,3],label=\"t = 4\")\n",
    "plot!(SvN'[:,4],label=\"t = 6\")\n",
    "plot!(SvN'[:,5],label=\"t = 8\")\n",
    "title!(\"Δ = $Δ, B=$B,  von Neumann entanglement entropy\")"
   ]
  },
  {
   "cell_type": "code",
   "execution_count": null,
   "id": "a8ea2dbe",
   "metadata": {},
   "outputs": [],
   "source": [
    "\n",
    "Δ = 2.00 ;  # entopy\n",
    "B = 0.0 ;  # Bfield\n",
    "gates = staircase_gates(s,N,δt,J,Δ,B);\n",
    "ψ = ψ0\n",
    "\n",
    "count_expvals = 1;\n",
    "\n",
    "for t in 1:length(time)-1\n",
    "\n",
    "    ψ = apply(gates, ψ; cutoff=cutoff, maxdim=χ)\n",
    "    #normalize!(ψ)\n",
    "    \n",
    "    if(mod(t,tbigstep)== 0)\n",
    "       \n",
    "        println(\"Calculating expectation values for $(t) number of steps\")\n",
    "        count_expvals = count_expvals + 1;\n",
    "\n",
    "        Time_expvals[count_expvals] = t*δt;\n",
    "            \n",
    "        # The state is not normalized, just the expectation values in the function\n",
    "        ExpVals!(ψ, N, Popul, Coherences, Norm, count_expvals);\n",
    "        Entropy!(ψ, N, SvN, count_expvals);                \n",
    "\n",
    "    end\n",
    "    \n",
    "end;"
   ]
  },
  {
   "cell_type": "code",
   "execution_count": null,
   "id": "e4f8fdad",
   "metadata": {},
   "outputs": [],
   "source": [
    "Sz0= zeros(N);\n",
    "Norm0 = norm(ψ0);\n",
    "Sz0[:] = real(expect(ψ0, \"Sz\"))/Norm0^2\n",
    "plot(Sz0,label=\"t = 0\")\n",
    "plot!(Popul'[:,2],label=\"t = 2\")\n",
    "plot!(Popul'[:,3],label=\"t = 4\")\n",
    "plot!(Popul'[:,4],label=\"t = 6\")\n",
    "plot!(Popul'[:,5],label=\"t = 8\")\n",
    "title!(\"Δ = $Δ, B=$B,  Sz magnetization\")"
   ]
  },
  {
   "cell_type": "code",
   "execution_count": null,
   "id": "b58a7b0a",
   "metadata": {},
   "outputs": [],
   "source": [
    "plot( SvN'[:,1],label=\"t = 0\")\n",
    "plot!(SvN'[:,2],label=\"t = 2\")\n",
    "plot!(SvN'[:,3],label=\"t = 4\")\n",
    "plot!(SvN'[:,4],label=\"t = 6\")\n",
    "plot!(SvN'[:,5],label=\"t = 8\")\n",
    "title!(\"Δ = $Δ, B=$B,  von Neumann entanglement entropy\")"
   ]
  },
  {
   "cell_type": "markdown",
   "id": "feecfa37",
   "metadata": {},
   "source": [
    "# 2. TDVP for ground state of spin model with next-nearest neighbor interactions (25 points)"
   ]
  },
  {
   "cell_type": "markdown",
   "id": "1869ac69",
   "metadata": {},
   "source": [
    "### a) Using imaginary time evolution with TDVP, obtain the ground state |ψ0⟩ and ground state energy E0 of the Hamiltonian for N = 30, J1 = 1, J2 = 0.5, and h = 2. Feel free to choose t"
   ]
  },
  {
   "cell_type": "code",
   "execution_count": null,
   "id": "4510057a",
   "metadata": {},
   "outputs": [],
   "source": [
    "using HDF5\n",
    "using ITensors\n",
    "using LinearAlgebra\n",
    "using Plots\n",
    "using ITensorMPS\n",
    "using Observers\n",
    "using LaTeXStrings\n",
    "plot_font = \"Computer Modern\";"
   ]
  },
  {
   "cell_type": "code",
   "execution_count": null,
   "id": "0eb1fa90",
   "metadata": {},
   "outputs": [],
   "source": [
    "N = 30 # System size\n",
    "J1 = 2; # Hopping parameters\n",
    "J2 = 0.2;\n",
    "h=2;\n",
    "#PBC = 0; # Periodic boundary conditions\n",
    "\n",
    "# Define N S=1/2 spin indices\n",
    "sites = siteinds(\"S=1/2\",N);"
   ]
  },
  {
   "cell_type": "code",
   "execution_count": null,
   "id": "0724cfc9",
   "metadata": {},
   "outputs": [],
   "source": [
    "\n",
    "T = 0.1  # Final time\n",
    "δt = 0.001   # Time step\n",
    "time = 0.0:δt:T   # Time vector\n",
    "tbigstep = 10   # Calculate expectation values each tbigstep times\n",
    "num_expvals = Int(((length(time)-1)/tbigstep)) + 1; # Number of times expectation values will be calculated. The ±1 is to account correctly for t = 0  \n",
    "cutoff = 1E-10;   # Truncation allowed per step\n",
    "χ = 300; # Maximum bond dimension"
   ]
  },
  {
   "cell_type": "code",
   "execution_count": null,
   "id": "9219c809",
   "metadata": {},
   "outputs": [],
   "source": [
    "E0 = zeros(num_expvals); # Norm of evolved state\n",
    "#Popul = zeros(num_expvals,N); # Number of bosons per site\n",
    "#Coherences = zeros(num_expvals,N,N)+1im*zeros(num_expvals,N,N); # Coherences between all sites, can be complex\n",
    "Time_expvals = zeros(num_expvals,1); # Time of expectation values"
   ]
  },
  {
   "cell_type": "code",
   "execution_count": null,
   "id": "284d7c73",
   "metadata": {},
   "outputs": [],
   "source": [
    "function Hamiltonian(N,sites,J1,J2,h)\n",
    "\n",
    "    # Initiate construction\n",
    "    ops = OpSum()\n",
    "\n",
    "    # Hopping terms\n",
    "    for j=1:N-1\n",
    "        ops += J1,\"Sz\",j,\"Sz\",j+1\n",
    "        ops += J1,\"Sz\",j,\"Sz\",j+1    \n",
    "    end\n",
    "    for j=1:N-2\n",
    "        ops += J2,\"Sz\",j,\"Sz\",j+2\n",
    "        ops += J2,\"Sz\",j,\"Sz\",j+2    \n",
    "    end\n",
    "    for j=1:N\n",
    "        ops += -h,\"Sx\",j\n",
    "    end\n",
    "\n",
    "    # PBC if required\n",
    "   \n",
    "\n",
    "    H = MPO(ops,sites);\n",
    "    \n",
    "    return H;\n",
    "    \n",
    "end;"
   ]
  },
  {
   "cell_type": "code",
   "execution_count": null,
   "id": "79234a13",
   "metadata": {},
   "outputs": [],
   "source": [
    "function InitialState(sites,N)\n",
    "    \n",
    "    state = [isodd(n) ? \"+\" : \"+\" for n=1:N];\n",
    "    ψi = MPS(sites,state);\n",
    "    \n",
    "    return ψi;\n",
    "end"
   ]
  },
  {
   "cell_type": "code",
   "execution_count": null,
   "id": "50940a90",
   "metadata": {},
   "outputs": [],
   "source": [
    "function GroundState(H,ψi)\n",
    "\n",
    "    # Do many sweeps of DMRG, gradually increasing the maximum MPS bond dimension\n",
    "    nsweeps = 100;\n",
    "    maxdim = 100;\n",
    "    cutoff = 1E-12;\n",
    "\n",
    "    # Run the DMRG algorithm for ground state   \n",
    "    energy0,ψ0 = dmrg(H,ψi; nsweeps, maxdim, cutoff, outputlevel=1);\n",
    "\n",
    "    @show energy0\n",
    "\n",
    "    # Orthonormalize state. Leave site 1 as orthogonalization center\n",
    "    orthogonalize!(ψ0,1)\n",
    "\n",
    "    return energy0, ψ0;\n",
    "    \n",
    "end"
   ]
  },
  {
   "cell_type": "code",
   "execution_count": null,
   "id": "0df2f4a5",
   "metadata": {},
   "outputs": [],
   "source": [
    "H = Hamiltonian(N,sites,J1,J2,h);\n",
    "ψ0 = InitialState(sites,N);"
   ]
  },
  {
   "cell_type": "code",
   "execution_count": null,
   "id": "1cad8293",
   "metadata": {},
   "outputs": [],
   "source": [
    "ψ = ψ0\n",
    "\n",
    "count_expvals = 1;\n",
    "\n",
    "for t in 1:length(time)-1\n",
    "    \n",
    "    ψ = tdvp(H, -im * δt, ψ; time_step = -im * δt, cutoff = cutoff, maxdim = χ, outputlevel=0, normalize=true);\n",
    "    \n",
    "    normalize!(ψ)\n",
    "    \n",
    "    if(mod(t,tbigstep)== 0)\n",
    "       \n",
    "        println(\"Calculating expectation values for $(t) number of steps\")\n",
    "        count_expvals = count_expvals + 1;\n",
    "\n",
    "        Time_expvals[count_expvals] = t*δt;\n",
    "        #normalize!(ψ)\n",
    "        # The state is not normalized, just the expectation values in the function\n",
    "        E0[count_expvals ] = real(inner(ψ',H,ψ));\n",
    "    end\n",
    "    \n",
    "end;"
   ]
  },
  {
   "cell_type": "markdown",
   "id": "09d5bf3d",
   "metadata": {},
   "source": [
    "### b) Plot the evolution of the energy as a function of the imaginary time τ (5 points)."
   ]
  },
  {
   "cell_type": "code",
   "execution_count": null,
   "id": "7231f617",
   "metadata": {},
   "outputs": [],
   "source": [
    "plot(Time_expvals,E0, xlabel = \"Time\", ylabel = \"E0\", xtickfontsize = 15, ytickfontsize = 15, xguidefontsize = 15, yguidefontsize = 15, colorbar_tickfontsize = 15, c = :plasma, fontfamily=plot_font)"
   ]
  },
  {
   "cell_type": "code",
   "execution_count": null,
   "id": "776cd98e",
   "metadata": {},
   "outputs": [],
   "source": [
    "H1=real(inner(ψ',H,ψ));\n",
    "@show H1"
   ]
  },
  {
   "cell_type": "code",
   "execution_count": null,
   "id": "465ccc92",
   "metadata": {},
   "outputs": [],
   "source": [
    "H2 = real(inner(H,ψ,H,ψ));\n",
    "H1=real(inner(ψ',H,ψ));\n",
    "\n",
    "var = H2-H1^2;\n",
    "@show var"
   ]
  },
  {
   "cell_type": "code",
   "execution_count": null,
   "id": "9cf02a57",
   "metadata": {},
   "outputs": [],
   "source": [
    "# Define spin Hamiltonian\n",
    "H = Hamiltonian(N,sites,J1,J2,h);\n",
    "ψi = InitialState(sites,N);\n",
    "# Calculate ground state\n",
    "E0,ψ0 = GroundState(H,ψi);"
   ]
  },
  {
   "cell_type": "code",
   "execution_count": null,
   "id": "823bcdc2",
   "metadata": {},
   "outputs": [],
   "source": [
    "ψ = ψ0\n",
    "\n",
    "count_expvals = 1;\n",
    "N_f=100;\n",
    "ni=1;\n",
    "while var>1e-6 && ni<N_f\n",
    "    \n",
    "    \n",
    "    ψ = tdvp(H, -im * δt, ψ; time_step = -im * δt, cutoff = cutoff, maxdim = χ, outputlevel=0, normalize=true);\n",
    "    \n",
    "    normalize!(ψ)\n",
    "    H2 = real(inner(H,ψ,H,ψ));\n",
    "    H1=real(inner(ψ',H,ψ));\n",
    "    var = H2-H1^2;\n",
    "\n",
    "    if(mod(ni,tbigstep)== 0)\n",
    "       \n",
    "        println(\"Calculating expectation values for $(ni) number of steps and var=$(var)\")\n",
    "        count_expvals = count_expvals + 1;\n",
    "\n",
    "       # Time_expvals[count_expvals] = ni*δt;\n",
    "        #normalize!(ψ)\n",
    "        # The state is not normalized, just the expectation values in the function\n",
    "        #E0[count_expvals ] = real(inner(ψ',H,ψ));\n",
    "    end\n",
    "    \n",
    "    ni=ni+1;\n",
    "    \n",
    "end;\n",
    "@show H1"
   ]
  },
  {
   "cell_type": "markdown",
   "id": "e96f4c84",
   "metadata": {},
   "source": [
    "### b) Calculate and plot the ground state expectation values ⟨Sxj ⟩ for all sites j (2 points)."
   ]
  },
  {
   "cell_type": "code",
   "execution_count": null,
   "id": "0594c61e",
   "metadata": {},
   "outputs": [],
   "source": [
    "Norm = real(norm(ψ)); # Norm of the state \n",
    "Sx = real(expect(ψ, \"Sx\"))/Norm^2; # Magnetization along x\n",
    "Sz = real(expect(ψ, \"Sz\"))/Norm^2; # Magnetization along z"
   ]
  },
  {
   "cell_type": "code",
   "execution_count": null,
   "id": "60551592",
   "metadata": {},
   "outputs": [],
   "source": [
    "plot(Sx, xlabel = \"j\", ylabel = \"Sx(j)\")"
   ]
  },
  {
   "cell_type": "markdown",
   "id": "fa1a11fc",
   "metadata": {},
   "source": [
    "# 3. TDVP for solution of Burgers’ equation (25 points)"
   ]
  },
  {
   "cell_type": "markdown",
   "id": "a437cacb",
   "metadata": {},
   "source": [
    "### a) Solve Burgers’ equation using TDVP (22 points).\n",
    "Consider a system with N = 8 qubits, spatial range 0 ≤ x < 1,\n",
    "Re = 1000, time step Δt = 10−3, final time T = 0.24 and a Gaussian initial condition given by"
   ]
  },
  {
   "cell_type": "code",
   "execution_count": null,
   "id": "41052f13",
   "metadata": {},
   "outputs": [],
   "source": [
    "using HDF5\n",
    "using ITensors\n",
    "using LinearAlgebra\n",
    "using Plots\n",
    "using ITensorMPS\n",
    "using Observers\n",
    "using LaTeXStrings\n",
    "plot_font = \"Computer Modern\";"
   ]
  },
  {
   "cell_type": "code",
   "execution_count": null,
   "id": "a5e483c6",
   "metadata": {},
   "outputs": [],
   "source": [
    "N = 8; # Number of sites\n",
    "s_x = siteinds(\"Qubit\", N); # Indices for all sites\n",
    "xb = range(0, (1-(1/2^N)), length=2^N); # Sampling grid points"
   ]
  },
  {
   "cell_type": "code",
   "execution_count": null,
   "id": "9da19c2b",
   "metadata": {},
   "outputs": [],
   "source": [
    "\n",
    "step_size = 1/(2^N);\n",
    "Re=1000;\n",
    "dt=0.001;\n",
    "final_t=0.24;\n",
    "numsteps = Int.(round(final_t/dt)); # Number of time steps\n",
    "χ = 8; # Maximum truncation parameter\n",
    "cutoff = 1e-13; # Truncation error\n",
    "tb = range(0, final_t, step=dt);\n",
    "f(x) = exp(-8*pi*(x-0.5).^2);\n",
    "yb = f.(xb);\n",
    "\n",
    "plot(xb, yb)"
   ]
  },
  {
   "cell_type": "code",
   "execution_count": null,
   "id": "c0cd4f48",
   "metadata": {},
   "outputs": [],
   "source": [
    "ϕ = MPS(yb, s_x, cutoff=cutoff, maxdim=χ);\n",
    "\n",
    "orthogonalize!(ϕ,1)\n",
    "\n",
    "@show linkdims(ϕ);\n"
   ]
  },
  {
   "cell_type": "code",
   "execution_count": null,
   "id": "91bb77cc",
   "metadata": {},
   "outputs": [],
   "source": [
    "# Left shift:\n",
    "\n",
    "left_ls = zeros(2, 2, 2) \n",
    "middle_ls = zeros(2, 2, 2, 2) \n",
    "right_ls = zeros(2, 2, 2) \n",
    "\n",
    "left_ls[1, 2, 2] = 1\n",
    "left_ls[2, 1, 1] = 1\n",
    "middle_ls[1, 1, 1, 1] = 1\n",
    "middle_ls[1, 2, 2, 1] = 1\n",
    "middle_ls[2, 2, 1, 1] = 1\n",
    "middle_ls[2, 1, 2, 2] = 1\n",
    "right_ls[1, 1, 1] = 1\n",
    "right_ls[1, 2, 2] = 1\n",
    "right_ls[2, 1, 2] = 1\n",
    "right_ls[2, 2, 1] = 1\n",
    "\n",
    "H_ls = MPO(N);\n",
    "\n",
    "α = [Index(2) for i in 1:(N-1)]; # bond indices\n",
    "\n",
    "for i = 1:N\n",
    "    if i == 1 # first site\n",
    "        H_ls[i] = ITensor(left_ls, s_x[i], s_x[i]', α[i]);\n",
    "    elseif i == N # last site\n",
    "        H_ls[i] = ITensor(right_ls, α[i-1], s_x[i], s_x[i]');\n",
    "    else # middle site\n",
    "        H_ls[i] = ITensor(middle_ls, α[i-1], s_x[i], s_x[i]', α[i]);\n",
    "    end\n",
    "end\n",
    "\n",
    "orthogonalize!(H_ls,1);\n",
    "\n",
    "# Right shift:\n",
    "\n",
    "left_rs = zeros(2, 2, 2) \n",
    "middle_rs = zeros(2, 2, 2, 2) \n",
    "right_rs = zeros(2, 2, 2) \n",
    "\n",
    "left_rs[1, 2, 1] = 1\n",
    "left_rs[2, 1, 2] = 1\n",
    "middle_rs[1, 1, 1, 1] = 1\n",
    "middle_rs[1, 2, 2, 1] = 1\n",
    "middle_rs[2, 1, 2, 1] = 1\n",
    "middle_rs[2, 2, 1, 2] = 1\n",
    "right_rs[1, 1, 1] = 1\n",
    "right_rs[1, 2, 2] = 1\n",
    "right_rs[2, 1, 2] = 1\n",
    "right_rs[2, 2, 1] = 1\n",
    "\n",
    "H_rs = MPO(N);\n",
    "\n",
    "α = [Index(2) for i in 1:(N-1)]; # bond indices\n",
    "\n",
    "for i = 1:N\n",
    "    if i == 1 # first site\n",
    "        H_rs[i] = ITensor(left_rs, s_x[i], s_x[i]', α[i]);\n",
    "    elseif i == N # last site\n",
    "        H_rs[i] = ITensor(right_rs, α[i-1], s_x[i], s_x[i]');\n",
    "    else # middle site\n",
    "        H_rs[i] = ITensor(middle_rs, α[i-1], s_x[i], s_x[i]', α[i]);\n",
    "    end\n",
    "end\n",
    "\n",
    "orthogonalize!(H_rs,1);\n",
    "\n",
    "# Identity:\n",
    "\n",
    "left_id = zeros(2, 2, 1) \n",
    "middle_id = zeros(1, 2, 2, 1) \n",
    "right_id = zeros(1, 2, 2) \n",
    "\n",
    "left_id[1, 1, 1] = 1\n",
    "left_id[2, 2, 1] = 1\n",
    "middle_id[1, 1, 1, 1] = 1\n",
    "middle_id[1, 2, 2, 1] = 1\n",
    "right_id[1, 1, 1] = 1\n",
    "right_id[1, 2, 2] = 1\n",
    "\n",
    "H_id = MPO(N);\n",
    "\n",
    "α = [Index(1) for i in 1:(N-1)]; # bond indices\n",
    "\n",
    "for i = 1:N\n",
    "    if i == 1 # first site\n",
    "        H_id[i] = ITensor(left_id, s_x[i], s_x[i]', α[i]);\n",
    "    elseif i == N # last site\n",
    "        H_id[i] = ITensor(right_id, α[i-1], s_x[i], s_x[i]');\n",
    "    else # middle site\n",
    "        H_id[i] = ITensor(middle_id, α[i-1], s_x[i], s_x[i]', α[i]);\n",
    "    end\n",
    "end\n",
    "\n",
    "orthogonalize!(H_id,1);\n",
    "\n",
    "# Define derivatives\n",
    "#H_dudx = 0.5*(H_ls - H_rs)/step_size; # First derivative\n",
    "#H_d2udx2 = (H_rs + H_ls - 2*H_id)/(step_size^2); # Second derivative\n"
   ]
  },
  {
   "cell_type": "code",
   "execution_count": null,
   "id": "bc2a1990",
   "metadata": {},
   "outputs": [],
   "source": [
    "#hh=deepcopy(H_rs);\n",
    "#C=MPO(N);\n",
    "#C = prime(hh)*H_rs*H_rs*H_rs\n",
    "H_rs4=apply(H_rs,H_rs,H_rs,H_rs);\n",
    "H_ls4=apply(H_ls,H_ls,H_ls,H_ls);\n",
    "H_rs3=apply(H_rs,H_rs,H_rs);\n",
    "H_ls3=apply(H_ls,H_ls,H_ls);\n",
    "H_rs2=apply(H_rs,H_rs);\n",
    "H_ls2=apply(H_ls,H_ls);\n",
    "\n",
    "H_dudx= (1/280*H_rs4-4/105*H_rs3+1/5*H_rs2-4/5*H_rs+4/5*H_ls-1/5*H_ls2+4/105*H_ls3-1/280*H_ls4)/step_size;\n",
    "H_d2udx2 = (-1/560*H_rs4+8/315*H_rs3-1/5*H_rs2+8/5*H_rs-205/72*H_id+8/5*H_ls-1/5*H_ls2+8/315*H_ls3-1/560*H_ls4)/(step_size^2);"
   ]
  },
  {
   "cell_type": "code",
   "execution_count": null,
   "id": "7ab06e92",
   "metadata": {},
   "outputs": [],
   "source": [
    "#create hadamard_product_MPO\n",
    "had = MPO(N);\n",
    "had .= convert(MPO, ϕ)\n",
    "for i = 1:N\n",
    "    had[i] *= δ(s_x[i], s_x[i]', s_x[i]'')\n",
    "end\n",
    "\n",
    "had = replaceprime(had, 2 => 0)\n",
    "\n",
    "#ψ3_Had = apply(had, Deriv_x1)\n",
    "\n",
    "#@show linkdims(ψ3_Had);"
   ]
  },
  {
   "cell_type": "code",
   "execution_count": null,
   "id": "be5ae80b",
   "metadata": {},
   "outputs": [],
   "source": [
    "function Advection_Diffusion_TDVP(ψ0, H_dudx, H_d2udx2, Re, s, N, dt, numsteps, χ, ϵ)\n",
    "    \n",
    "    ψ_list = []\n",
    "    ψ = ψ0\n",
    "    err_list = zeros(numsteps)\n",
    "    \n",
    "    \n",
    "    # Perfor time evolution\n",
    "    for t = 1:numsteps\n",
    "        had = MPO(N);\n",
    "        had .= convert(MPO, ψ)\n",
    "        for i = 1:N\n",
    "             had[i] *= δ(s[i], s[i]', s[i]'')\n",
    "        end\n",
    "\n",
    "        had = replaceprime(had, 2 => 0)\n",
    "\n",
    "        # Define full MPO\n",
    "        H_2=apply(had,H_dudx);\n",
    "        H = (1/Re)*H_d2udx2 - H_2;    \n",
    "        # Advance state by one time step using TDVP, and truncate afterwards\n",
    "        ψ = tdvp(H, dt, ψ; time_step = dt, cutoff = ϵ, outputlevel=0, normalize=false)\n",
    "        truncate!(ψ, maxdim = χ)  \n",
    "\n",
    "        if t % (numsteps/4) == 0\n",
    "            println(\"Calculating function for $(t*dt) s\")\n",
    "            Big_ψ = contract(ψ) # Recovering the original big tensor\n",
    "            J_recon = Array(Big_ψ, s) # Changing the format from ITensor to Julia array for plotting\n",
    "            ys_recon = reshape(J_recon,2^N,1) # Reshaping from N-dimentional tensor to regular array\n",
    "        \n",
    "            push!(ψ_list, ys_recon);\n",
    "        end\n",
    "\n",
    "    end\n",
    "\n",
    "    return ψ_list, maxlinkdim(ψ);\n",
    "\n",
    "end"
   ]
  },
  {
   "cell_type": "code",
   "execution_count": null,
   "id": "d22a405b",
   "metadata": {},
   "outputs": [],
   "source": [
    "ψ_list, max_χ = Advection_Diffusion_TDVP(ϕ, H_dudx, H_d2udx2, Re, s_x, N, dt, numsteps, χ, cutoff);"
   ]
  },
  {
   "cell_type": "markdown",
   "id": "ec51d415",
   "metadata": {},
   "source": [
    "### b) In a single figure, plot the results of u(x, t) as a function of x for truncation parameter χ = 8 and times t = 0, 0.06, 0.12, 0.18, 0.24. You can compare with the results of Homework 2 to verify the correctness of your implementation (3 points)."
   ]
  },
  {
   "cell_type": "code",
   "execution_count": null,
   "id": "30f173b2",
   "metadata": {},
   "outputs": [],
   "source": [
    "plot(xb, yb, labels=\"t = 0\", lw=1, linestyle=:solid, palette=:okabe_ito, framestyle=:box, dpi=1000, gridalpha = 0)\n",
    "plot!(xb, ψ_list[1], labels=\"t = 0.06\", lw=1, linestyle=:dash, xguidefontsize=15, yguidefontsize=15,legendfontsize=10)\n",
    "plot!(xb, ψ_list[2], labels=\"t = 0.12\", lw=1, linestyle=:dot)\n",
    "plot!(xb, ψ_list[3], labels=\"t = 0.18\", lw=1, linestyle=:dashdot, color = 6)\n",
    "plot!(xb, ψ_list[4], labels=\"t = 0.24\", lw=1, linestyle=:dashdotdot)\n"
   ]
  },
  {
   "cell_type": "markdown",
   "id": "2ea8cbe9",
   "metadata": {},
   "source": [
    "# 4. Fit Algorithm for solution of Burgers’ equation (15 points)"
   ]
  },
  {
   "cell_type": "markdown",
   "id": "0c6a5cd1",
   "metadata": {},
   "source": [
    "### a) Solve Burgers’ equation, with the same initial condition and parameters as in the previous exercise, using the DMRG-like Fit algorithm (12 points)."
   ]
  },
  {
   "cell_type": "code",
   "execution_count": null,
   "id": "de91c8e3",
   "metadata": {},
   "outputs": [],
   "source": [
    "function Advection_Diffusion_Fit(ψ0, H_dudx, H_d2udx2,H_id,Re, s, N, dt, numsteps, χ, ϵ)\n",
    "    \n",
    "    ψ_list = []\n",
    "    ψ = ψ0\n",
    "    nsweeps = 5\n",
    "    init = randomMPS(s)\n",
    "\n",
    "    \n",
    "    \n",
    "    # Perfor time evolution\n",
    "    for t = 1:numsteps\n",
    "        had = MPO(N);\n",
    "        had .= convert(MPO, ψ)\n",
    "        for i = 1:N\n",
    "             had[i] *= δ(s[i], s[i]', s[i]'')\n",
    "        end\n",
    "\n",
    "        had = replaceprime(had, 2 => 0)\n",
    "\n",
    "        # Define full MPO\n",
    "        H_2=apply(had,H_dudx);\n",
    "        H_old = (1/Re)*H_d2udx2 - H_2;    \n",
    "        \n",
    "        H = dt*H_old+ H_id;    \n",
    "        \n",
    "        # Advance state by one time step using Fit algorithm\n",
    "        ψ = apply(H, ψ, alg=\"fit\", init=init, maxdim=χ, cutoff=ϵ, nsweeps=nsweeps, outputlevel=0, normalize=false) \n",
    "        #truncate!(ψ, maxdim = χ)  \n",
    "\n",
    "        if t % (numsteps/4) == 0\n",
    "            println(\"Calculating function for $(t*dt) s\")\n",
    "            Big_ψ = contract(ψ) # Recovering the original big tensor\n",
    "            J_recon = Array(Big_ψ, s) # Changing the format from ITensor to Julia array for plotting\n",
    "            ys_recon = reshape(J_recon,2^N,1) # Reshaping from N-dimentional tensor to regular array\n",
    "        \n",
    "            push!(ψ_list, ys_recon);\n",
    "        end\n",
    "\n",
    "    end\n",
    "\n",
    "    return ψ_list, maxlinkdim(ψ);\n",
    "\n",
    "end"
   ]
  },
  {
   "cell_type": "code",
   "execution_count": null,
   "id": "d046d14a",
   "metadata": {},
   "outputs": [],
   "source": [
    "ψ_list2, max_χ = Advection_Diffusion_Fit(ϕ, H_dudx, H_d2udx2, H_id,Re, s_x, N, dt, numsteps, χ, cutoff);"
   ]
  },
  {
   "cell_type": "markdown",
   "id": "164586c5",
   "metadata": {},
   "source": [
    "### b) In a single figure, plot the results of u(x, t) as a function of x for truncation parameter χ = 8 and times t = 0, 0.06, 0.12, 0.18, 0.24. You can compare with the results of Homework 2 and of the previous exercise to verify the correctness of your implementation (3 points)."
   ]
  },
  {
   "cell_type": "code",
   "execution_count": null,
   "id": "c1441adc",
   "metadata": {},
   "outputs": [],
   "source": [
    "plot(xb, yb, labels=\"t = 0\", lw=1, linestyle=:solid, palette=:okabe_ito, framestyle=:box, dpi=1000, gridalpha = 0)\n",
    "plot!(xb, ψ_list2[1], labels=\"t = 0.06\", lw=1, linestyle=:dash, xguidefontsize=15, yguidefontsize=15,legendfontsize=10)\n",
    "plot!(xb, ψ_list2[2], labels=\"t = 0.12\", lw=1, linestyle=:dot)\n",
    "plot!(xb, ψ_list2[3], labels=\"t = 0.18\", lw=1, linestyle=:dashdot, color = 6)\n",
    "plot!(xb, ψ_list2[4], labels=\"t = 0.24\", lw=1, linestyle=:dashdotdot)\n"
   ]
  }
 ],
 "metadata": {
  "kernelspec": {
   "display_name": "Julia 1.10.5",
   "language": "julia",
   "name": "julia-1.10"
  },
  "language_info": {
   "file_extension": ".jl",
   "mimetype": "application/julia",
   "name": "julia",
   "version": "1.10.5"
  }
 },
 "nbformat": 4,
 "nbformat_minor": 5
}
