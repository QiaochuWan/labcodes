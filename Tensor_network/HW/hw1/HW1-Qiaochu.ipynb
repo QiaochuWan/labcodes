{
 "cells": [
  {
   "cell_type": "markdown",
   "metadata": {},
   "source": [
    "### 3. SVD of Quantum Thermal States (16 points)\n",
    "\n",
    "Consider the HDF5 file provided in Canvas for this exercise, `ThermalMatrices.h5`. This file contains two matrices, `T10` and `T100`, of dimension 2048 × 2048. The matrices represent the quantum states (density matrices) of a system of 11 spins, at temperatures \\( T = 10J \\) and \\( T = 100J \\) respectively (\\( J \\) is the hopping energy in the system). Please provide the solution of the following problems in a Jupyter Notebook.\n",
    "\n",
    "#### (a) Calculate the SVD of both matrices, and plot their normalized singular values in the same figure (4 points).\n"
   ]
  },
  {
   "cell_type": "code",
   "execution_count": 29,
   "metadata": {},
   "outputs": [],
   "source": [
    "using ITensors          \n",
    "using Plots             \n",
    "using LinearAlgebra    \n",
    "using HDF5              \n"
   ]
  },
  {
   "cell_type": "code",
   "execution_count": null,
   "metadata": {},
   "outputs": [],
   "source": [
    "# Load the matrices from the HDF5 file\n",
    "file = h5open(\"ThermalMatrices.h5\", \"r\")\n",
    "T10 = read(file, \"T10\")\n",
    "T100 = read(file, \"T100\")\n",
    "close(file)\n",
    "\n",
    "# Calculate the SVD\n",
    "U10, S10, V10 = svd(T10)\n",
    "U100, S100, V100 = svd(T100)\n",
    "\n",
    "# Normalize the singular values\n",
    "S10_norm = S10 / sqrt(sum(S10.^2))\n",
    "S100_norm = S100 / sqrt(sum(S100.^2))\n",
    "\n",
    "# Plot the normalized singular values\n",
    "plot(1:length(S10_norm), S10_norm, label=\"T10\", xlabel=\"Index\", ylabel=\"Normalized Singular Value\",xscale =:log10 ,title=\"Normalized Singular Values\")\n",
    "plot!(1:length(S100_norm), S100_norm,xscale = :log10,label=\"T100\")\n"
   ]
  },
  {
   "cell_type": "markdown",
   "metadata": {},
   "source": [
    "#### (b) Compress both matrices so the truncation error is approximately 1%. How many singular values need to be kept for each matrix to achieve this? (4 points)\n"
   ]
  },
  {
   "cell_type": "code",
   "execution_count": null,
   "metadata": {},
   "outputs": [],
   "source": [
    "function num_to_keep(S, error_threshold)\n",
    "    cumulative_sum = cumsum(S)\n",
    "    total_sum = sqrt(sum(S.^2))\n",
    "    for i in 1:length(S)\n",
    "        if cumulative_sum[i] / total_sum >= (1 - error_threshold)\n",
    "            return i\n",
    "        end\n",
    "    end\n",
    "    return length(S)\n",
    "end\n",
    "\n",
    "#  number to keep for 1%  error\n",
    "error_threshold = 0.01\n",
    "num_T10 = num_to_keep(S10_norm, error_threshold)\n",
    "num_T100 = num_to_keep(S100_norm, error_threshold)\n",
    "\n",
    "println(\"Number of singular values to keep for T10: \", num_T10)\n",
    "println(\"Number of singular values to keep for T100: \", num_T100)\n",
    "\n",
    "# Truncate the matrices\n",
    "T10_truncated = U10[:, 1:num_T10] * Diagonal(S10[1:num_T10]) * V10[:, 1:num_T10]';\n",
    "T100_truncated = U100[:, 1:num_T100] * Diagonal(S100[1:num_T100]) * V100[:, 1:num_T100]';"
   ]
  },
  {
   "cell_type": "markdown",
   "metadata": {},
   "source": [
    "#### (c) Compare the eigenvalues of `T10` with those of its truncated version (4 points).\n"
   ]
  },
  {
   "cell_type": "code",
   "execution_count": null,
   "metadata": {},
   "outputs": [],
   "source": [
    "eigvals_T10 = eigvals(T10)\n",
    "eigvals_T10_truncated = eigvals(T10_truncated)\n",
    "\n",
    "# Plot the eigenvalues\n",
    "plot(1:length(eigvals_T10), sort(real(eigvals_T10), rev=true), label=\"T10\", xlabel=\"Index\", ylabel=\"Eigenvalue\",title=\"Eigenvalues Comparison\",xscale = :log10)\n",
    "plot!(1:length(eigvals_T10_truncated), sort(real(eigvals_T10_truncated),rev=true), label=\"T10 Truncated\",xscale = :log10)"
   ]
  },
  {
   "cell_type": "markdown",
   "metadata": {},
   "source": [
    "#### (d) Calculate the von Neumann entropy of the matrices `T10` and `T100` (4 points)."
   ]
  },
  {
   "cell_type": "code",
   "execution_count": null,
   "metadata": {},
   "outputs": [],
   "source": [
    "\n",
    "# Calculate the von Neumann entropy\n",
    "entropy_T10 =  -sum(eigvals(T10) .* log.(eigvals(T10)));\n",
    "entropy_T100 = -sum(eigvals(T100) .* log.(eigvals(T100)));\n",
    "\n",
    "println(\"Von Neumann entropy of T10: \", entropy_T10)\n",
    "println(\"Von Neumann entropy of T100: \", entropy_T100)"
   ]
  },
  {
   "cell_type": "markdown",
   "metadata": {},
   "source": [
    "### 4. Polar Decomposition (12 points)\n",
    "\n",
    "The polar decomposition was recently put forward as an alternative to SVD to implement MPS structures on tensor processing units; see Ganahl et al, *PRX Quantum* 4, 010317 (2023). In this decomposition, a matrix \\( O \\) of dimensions \\( m X n \\) is written as the product of an isometric \\( m X n \\) matrix \\( P \\) and a positive semi-definite Hermitian matrix  H of dimension \\( n X n \\): \n",
    "\n",
    " O=P*H \n",
    "\n",
    "Please provide the solution of the following problems in a Jupyter Notebook.\n",
    "\n",
    "#### (a) Implement the iterative algorithm described in Appendix A of the article, and apply it to the matrix `T10` of Exercise 3 to obtain its polar decomposition (8 points).\n",
    "\n",
    "\n"
   ]
  },
  {
   "cell_type": "code",
   "execution_count": 34,
   "metadata": {},
   "outputs": [],
   "source": [
    "using ITensors          \n",
    "using Plots             \n",
    "using LinearAlgebra    \n",
    "using HDF5 "
   ]
  },
  {
   "cell_type": "code",
   "execution_count": null,
   "metadata": {},
   "outputs": [],
   "source": [
    "# define polar_decomposition function as paper\n",
    "function polar_factor(M)\n",
    "    z = norm(M)  # Frobenius norm\n",
    "    P = M / z    # normalized P\n",
    "    converged = false #start with false\n",
    "    \n",
    "    iter = 0\n",
    "    maxiter=50\n",
    "    while !converged && iter < maxiter\n",
    "        iter += 1\n",
    "        T = P' * P; # T as in the algrithm\n",
    "        \n",
    "        P_new = (3/2) * P - (1/2) * (P * T) #iteration\n",
    "        \n",
    "        \n",
    "        converged = check_unitarity(P_new) #Check convergence\n",
    "        \n",
    "        P = P_new\n",
    "    end\n",
    "    print(\"Converged after $iter iterations \")\n",
    "    # Return the result\n",
    "    return P, P' * M\n",
    "end\n",
    "\n",
    "function check_unitarity(M)\n",
    "    # Check if M is unitary (M*M' ≈ I for rectangular matrices)\n",
    "    \n",
    "    product = M * M'\n",
    "    error = norm(M * M' - I)\n",
    "    tolerance = 1e-6  # error\n",
    "    return error < tolerance\n",
    "end\n"
   ]
  },
  {
   "cell_type": "markdown",
   "metadata": {},
   "source": [
    "##### Reload T10 for polar decomposition"
   ]
  },
  {
   "cell_type": "code",
   "execution_count": 36,
   "metadata": {},
   "outputs": [],
   "source": [
    "file = h5open(\"ThermalMatrices.h5\", \"r\");\n",
    "T10 = read(file, \"T10\");\n"
   ]
  },
  {
   "cell_type": "markdown",
   "metadata": {},
   "source": [
    "##### Polar deposition"
   ]
  },
  {
   "cell_type": "code",
   "execution_count": null,
   "metadata": {},
   "outputs": [],
   "source": [
    "@time P_i, H_i = polar_factor(T10);\n"
   ]
  },
  {
   "cell_type": "code",
   "execution_count": null,
   "metadata": {},
   "outputs": [],
   "source": [
    "@show size(P_i) #show P\n",
    "@show size(H_i) #show H"
   ]
  },
  {
   "cell_type": "code",
   "execution_count": null,
   "metadata": {},
   "outputs": [],
   "source": [
    "O_reconstructed = P_i * H_i\n",
    "reconstruction_error = norm(T10 - O_reconstructed) / norm(T10)\n",
    "println(\"Reconstruction error: \", reconstruction_error)"
   ]
  },
  {
   "cell_type": "markdown",
   "metadata": {},
   "source": [
    "\n",
    "#### (b) Compare the matrices \\( P \\) and \\( H \\) obtained in (a) with those obtained from an SVD of \\( O \\), using the Frobenius norm of their differences (4 points)."
   ]
  },
  {
   "cell_type": "code",
   "execution_count": null,
   "metadata": {},
   "outputs": [],
   "source": [
    "@time U10, Σ, V10 = svd(T10) #svd method\n",
    "P_svd=U10*V10'; # svd P\n",
    "H_svd = V10 * Diagonal(Σ) * V10'; #svd H\n",
    "\n",
    "P_diff = norm(P_i - P_svd)\n",
    "H_diff = norm(H_i - H_svd)\n",
    "\n",
    "# Compute the relative differences\n",
    "P_diff_rel = P_diff / norm(P_svd)\n",
    "H_diff_rel = H_diff / norm(H_svd)\n",
    "\n",
    "println(\"Relative Frobenius norm difference for P: \", P_diff_rel)\n",
    "println(\"Relative Frobenius norm difference for H: \", H_diff_rel)\n",
    "#@show H_diff_rel"
   ]
  },
  {
   "cell_type": "markdown",
   "metadata": {},
   "source": [
    "# 5. Color Image Compression (14 points)\n",
    "\n",
    "Please provide the solution of the following problems in a Jupyter Notebook.\n",
    "\n",
    "#### a) Implement a code to compress a color image of your preference using SVD, fixing the number of maintained singular values or the truncation error. Do this with the LinearAlgebra package of Julia. *Hint*: Perform the compression of the matrices of each color channel independently, and then combine the results (8 points).\n",
    "\n",
    "\n"
   ]
  },
  {
   "cell_type": "markdown",
   "metadata": {},
   "source": [
    "**Import packages**"
   ]
  },
  {
   "cell_type": "code",
   "execution_count": 41,
   "metadata": {},
   "outputs": [],
   "source": [
    "using LinearAlgebra\n",
    "using Plots\n",
    "using Images\n",
    "using ITensors"
   ]
  },
  {
   "cell_type": "markdown",
   "metadata": {},
   "source": [
    "**Load photos**"
   ]
  },
  {
   "cell_type": "code",
   "execution_count": null,
   "metadata": {},
   "outputs": [],
   "source": [
    "Photo = load(\"stack14.png\");\n",
    "print(size(Photo))\n",
    "p1=plot(RGB.(Photo),title=\"original\")\n",
    "display(p1)\n",
    "\n"
   ]
  },
  {
   "cell_type": "markdown",
   "metadata": {},
   "source": [
    "**Display singular values**"
   ]
  },
  {
   "cell_type": "code",
   "execution_count": null,
   "metadata": {},
   "outputs": [],
   "source": [
    "PhotoSVD = svd(Gray.(Photo));\n",
    "plot(PhotoSVD.S, xaxis=:log, yaxis=:log,label=\"singular value\",xlabel=\"Index\", ylabel=\"Eigenvalue\",title=\"Eigenvalues\")"
   ]
  },
  {
   "cell_type": "markdown",
   "metadata": {},
   "source": [
    "***'<big>'How many singular values will be kept***"
   ]
  },
  {
   "cell_type": "code",
   "execution_count": 44,
   "metadata": {},
   "outputs": [],
   "source": [
    "χ = 10;"
   ]
  },
  {
   "cell_type": "markdown",
   "metadata": {},
   "source": [
    "**Compressing images in all three channels**"
   ]
  },
  {
   "cell_type": "code",
   "execution_count": null,
   "metadata": {},
   "outputs": [],
   "source": [
    "\n",
    "img_CHW = channelview(Photo) \n",
    "pho_HWC = permutedims(img_CHW, (2, 3, 1))# conver matirx \n",
    "Compressed= zeros(size(pho_HWC))\n",
    "for i = 1:3 #three color channel\n",
    "    img=pho_HWC[:,:,i];\n",
    "    PhotoSVD = svd(Gray.(img));\n",
    "    n = size(PhotoSVD.S,1)\n",
    "    rem = n-χ;\n",
    "    # Keep only χ singular values\n",
    "    Sapprox=Diagonal(copy(PhotoSVD.S));\n",
    "    for k = 1:rem\n",
    "        Sapprox[n+1-k,n+1-k]=0;\n",
    "    end\n",
    "    Compressed[:,:,i] = PhotoSVD.U*Sapprox*PhotoSVD.Vt;\n",
    "end\n",
    "Compressed_rgb = permutedims(Compressed, (3, 1, 2)) # change matrix to photo\n",
    "\n",
    "# Create RGB image and plot\n",
    "com_rgb = colorview(RGB, Compressed_rgb)\n",
    "plot(com_rgb,title=\"After Compressed\")"
   ]
  },
  {
   "cell_type": "markdown",
   "metadata": {},
   "source": [
    "#### b) Implement a code for the same task, using the SVD function of ITensor (6 points)."
   ]
  },
  {
   "cell_type": "markdown",
   "metadata": {},
   "source": [
    "#### Load images ####"
   ]
  },
  {
   "cell_type": "code",
   "execution_count": null,
   "metadata": {},
   "outputs": [],
   "source": [
    "Photo = load(\"stack14.png\");\n",
    "#print(size(Photo));\n",
    "p1=plot(RGB.(Photo),title=\"original\");\n",
    "display(p1);\n",
    "\n",
    "img_CHW = channelview(Photo) ;\n",
    "pho_HWC = permutedims(img_CHW, (2, 3, 1));\n",
    "pho_size=size(pho_HWC)"
   ]
  },
  {
   "cell_type": "markdown",
   "metadata": {},
   "source": [
    "#### Initialize index"
   ]
  },
  {
   "cell_type": "code",
   "execution_count": null,
   "metadata": {},
   "outputs": [],
   "source": [
    "i=Index(pho_size[1]);\n",
    "j=Index(pho_size[2]);\n",
    "k=Index(pho_size[3]);\n",
    "@show i,j,k"
   ]
  },
  {
   "cell_type": "markdown",
   "metadata": {},
   "source": [
    "#### SVD with merge i,k legs"
   ]
  },
  {
   "cell_type": "code",
   "execution_count": null,
   "metadata": {},
   "outputs": [],
   "source": [
    "P=ITensor(pho_HWC,i,j,k);#matrix to ITensor\n",
    "\n",
    "U,S,V=svd(P,(i,k),cutoff=1E-10,maxdim=10); #compress with dim of 10\n",
    "truncerr= (norm(U*S*V-P)/norm(P))^2;\n",
    "@show  truncerr #show err\n",
    "#@show inds(S)"
   ]
  },
  {
   "cell_type": "markdown",
   "metadata": {},
   "source": [
    "#### Plot singular values"
   ]
  },
  {
   "cell_type": "code",
   "execution_count": 49,
   "metadata": {},
   "outputs": [],
   "source": [
    "# find shared legs\n",
    "s1 = commonind(U, S);\n",
    "s2=  commonind(V, S);"
   ]
  },
  {
   "cell_type": "code",
   "execution_count": null,
   "metadata": {},
   "outputs": [],
   "source": [
    "ss=Array(S,s1,s2);\n",
    "size(ss)\n",
    "plot(diag(ss), yaxis=:log,label=\"singular value\",xlabel=\"Index\", ylabel=\"Eigenvalue\",title=\"Eigenvalues after Truncated\")"
   ]
  },
  {
   "cell_type": "markdown",
   "metadata": {},
   "source": [
    "#### Plot compressed photo"
   ]
  },
  {
   "cell_type": "code",
   "execution_count": null,
   "metadata": {},
   "outputs": [],
   "source": [
    "P_c=U*S*V;\n",
    "P_new=Array(P_c,i,j,k);#ITensor to array\n",
    "@show size(P_new)"
   ]
  },
  {
   "cell_type": "code",
   "execution_count": null,
   "metadata": {},
   "outputs": [],
   "source": [
    "Compressed_rgb = permutedims(P_new, (3, 1, 2))\n",
    "\n",
    "# Create RGB image and plot\n",
    "com_rgb = colorview(RGB, Compressed_rgb)\n",
    "plot(com_rgb,title=\"After Compressed\")"
   ]
  },
  {
   "cell_type": "markdown",
   "metadata": {},
   "source": [
    "# 8. 2D function as MPS (16 points)\n",
    "\n",
    "Please provide the solution of the following problems in a Jupyter Notebook.\n",
    "\n",
    "#### a) Encode the function f(x, y) = sin(x + y) * cos(xy) as an MPS, in the range x ∈ [0, π] and y ∈ [0, 2π]. Use N = 7 qubits to define the spatial grid in each dimension (6 points). \n",
    "\n",
    "\n",
    "\n"
   ]
  },
  {
   "cell_type": "code",
   "execution_count": 53,
   "metadata": {},
   "outputs": [],
   "source": [
    "using ITensors          \n",
    "using Plots             \n",
    "using LinearAlgebra     \n",
    "using HDF5              \n"
   ]
  },
  {
   "cell_type": "code",
   "execution_count": null,
   "metadata": {},
   "outputs": [],
   "source": [
    "    \n",
    "    N = 7 ; # 7 qubit sites\n",
    "    num = 2^N;\n",
    "        \n",
    "        # Define the x and y grids\n",
    "    x_vals = range(0, π, length=num);\n",
    "    y_vals = range(0, 2π, length=num);\n",
    "     # Define the function\n",
    "    f(x, y) = sin(x + y) * cos(x * y)\n",
    "    \n",
    "    F = [f(x, y) for x in x_vals, y in y_vals]\n",
    "    # plot Original function\n",
    "    p1 = heatmap(x_vals, y_vals, F, \n",
    "             title=\"Original Function\", \n",
    "             xlabel=\"x\", ylabel=\"y\")\n",
    "    "
   ]
  },
  {
   "cell_type": "code",
   "execution_count": null,
   "metadata": {},
   "outputs": [],
   "source": [
    "ITensors.disable_warn_order()\n",
    "sites = siteinds(\"Qubit\", 2*N);\n",
    "A_F=reshape(F,num^2);# 2d matrix to array\n",
    "M = MPS(A_F,sites);#array to MPS\n",
    "@show M"
   ]
  },
  {
   "cell_type": "markdown",
   "metadata": {},
   "source": [
    "#### b) What is the maximal bond dimension of the MPS with no truncation? (4 points)\n"
   ]
  },
  {
   "cell_type": "code",
   "execution_count": null,
   "metadata": {},
   "outputs": [],
   "source": [
    "# Extract bond dimensions of the MPS\n",
    "bond_dims = [dim(linkind(M, n)) for n in 1:length(M)-1]\n",
    "println(\"Bond dimensions without truncation: \", bond_dims)\n",
    "\n",
    "# The maximal bond dimension is:\n",
    "max_bond_dim = maximum(bond_dims)\n",
    "println(\"Maximal bond dimension without truncation: \", max_bond_dim)"
   ]
  },
  {
   "cell_type": "markdown",
   "metadata": {},
   "source": [
    "\n",
    "#### c) Make a figure of the function (3D surface or contour) when truncating to bond dimension χ = 3, and compare with the original function (6 points)."
   ]
  },
  {
   "cell_type": "code",
   "execution_count": 57,
   "metadata": {},
   "outputs": [],
   "source": [
    "# Desired bond dimension\n",
    "χ = 3;\n",
    "\n",
    "# Truncate the MPS to the desired bond dimension\n",
    "psi_trunc = truncate(M; maxdim=χ);"
   ]
  },
  {
   "cell_type": "code",
   "execution_count": null,
   "metadata": {},
   "outputs": [],
   "source": [
    "bond_dims = [dim(linkind(psi_trunc , n)) for n in 1:length(psi_trunc )-1]\n",
    "println(\"Bond dimensions after truncation: \", bond_dims)\n",
    "\n",
    "# The maximal bond dimension is:\n",
    "max_bond_dim = maximum(bond_dims)\n",
    "println(\"Maximal bond dimension after truncation: \", max_bond_dim)"
   ]
  },
  {
   "cell_type": "code",
   "execution_count": 59,
   "metadata": {},
   "outputs": [],
   "source": [
    "#contract mps back to tensor\n",
    "ITensors.disable_warn_order()\n",
    "psi_tensor = ITensor(1.)\n",
    "for i = 1:2*N\n",
    "    psi_tensor *= psi_trunc[i]\n",
    "end"
   ]
  },
  {
   "cell_type": "code",
   "execution_count": 60,
   "metadata": {},
   "outputs": [],
   "source": [
    "f_approx_vec=Array(psi_tensor,sites);#tensor to array\n",
    "f_approx = reshape(f_approx_vec, num, num);#array back to 2D matrix"
   ]
  },
  {
   "cell_type": "code",
   "execution_count": null,
   "metadata": {},
   "outputs": [],
   "source": [
    "p1 = contour(x_vals, y_vals, F, \n",
    "             title=\"Original Function\", \n",
    "             xlabel=\"x\", ylabel=\"y\", \n",
    "            )\n",
    "display(p1)\n",
    "p2 = contour(x_vals, y_vals, f_approx, \n",
    "            title=\"Approximated Function(χ=3)\",\n",
    "             xlabel=\"x\", ylabel=\"y\", \n",
    "             )\n",
    "display(p2)\n"
   ]
  }
 ],
 "metadata": {
  "kernelspec": {
   "display_name": "Julia 1.10.5",
   "language": "julia",
   "name": "julia-1.10"
  },
  "language_info": {
   "file_extension": ".jl",
   "mimetype": "application/julia",
   "name": "julia",
   "version": "1.10.5"
  }
 },
 "nbformat": 4,
 "nbformat_minor": 2
}
